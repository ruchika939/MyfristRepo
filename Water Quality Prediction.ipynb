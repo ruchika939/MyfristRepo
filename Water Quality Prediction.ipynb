{
 "cells": [
  {
   "cell_type": "markdown",
   "id": "f1bdb244",
   "metadata": {},
   "source": [
    "# Importing Required Libraries:"
   ]
  },
  {
   "cell_type": "code",
   "execution_count": 80,
   "id": "c2b8d0c2",
   "metadata": {},
   "outputs": [],
   "source": [
    "import pandas as pd\n",
    "import numpy as np\n",
    "import seaborn as sns\n",
    "import matplotlib.pyplot as plt\n",
    "%matplotlib inline\n",
    "import warnings\n",
    "warnings.simplefilter('ignore')\n",
    "\n",
    "from collections import Counter \n",
    "from imblearn.over_sampling import SMOTE\n",
    "from sklearn import preprocessing\n",
    "from sklearn.model_selection import train_test_split\n",
    "from sklearn.model_selection import GridSearchCV\n",
    "from sklearn.linear_model import LogisticRegression\n",
    "from sklearn.metrics import accuracy_score, classification_report,confusion_matrix\n",
    "from sklearn.neighbors import KNeighborsClassifier\n",
    "from sklearn import metrics\n",
    "from sklearn.tree import DecisionTreeClassifier\n",
    "from sklearn.ensemble import RandomForestClassifier"
   ]
  },
  {
   "cell_type": "markdown",
   "id": "970afc6e",
   "metadata": {},
   "source": [
    "# Data collection and Analysis"
   ]
  },
  {
   "cell_type": "code",
   "execution_count": 81,
   "id": "7ed728fc",
   "metadata": {},
   "outputs": [
    {
     "data": {
      "text/html": [
       "<div>\n",
       "<style scoped>\n",
       "    .dataframe tbody tr th:only-of-type {\n",
       "        vertical-align: middle;\n",
       "    }\n",
       "\n",
       "    .dataframe tbody tr th {\n",
       "        vertical-align: top;\n",
       "    }\n",
       "\n",
       "    .dataframe thead th {\n",
       "        text-align: right;\n",
       "    }\n",
       "</style>\n",
       "<table border=\"1\" class=\"dataframe\">\n",
       "  <thead>\n",
       "    <tr style=\"text-align: right;\">\n",
       "      <th></th>\n",
       "      <th>SMPLDATETIME</th>\n",
       "      <th>STNCODE</th>\n",
       "      <th>USRCODES</th>\n",
       "      <th>Temp</th>\n",
       "      <th>SpCond</th>\n",
       "      <th>Sal</th>\n",
       "      <th>DO_pct</th>\n",
       "      <th>DO_mgl</th>\n",
       "      <th>Depth</th>\n",
       "      <th>pH</th>\n",
       "      <th>Turb</th>\n",
       "      <th>WQI</th>\n",
       "      <th>WQI_Class</th>\n",
       "    </tr>\n",
       "  </thead>\n",
       "  <tbody>\n",
       "    <tr>\n",
       "      <th>0</th>\n",
       "      <td>01-01-2004 00:00</td>\n",
       "      <td>deldswq</td>\n",
       "      <td>00:00:00</td>\n",
       "      <td>5.2</td>\n",
       "      <td>0.13</td>\n",
       "      <td>0.1</td>\n",
       "      <td>101.9</td>\n",
       "      <td>12.9</td>\n",
       "      <td>0.45</td>\n",
       "      <td>6.6</td>\n",
       "      <td>0.012</td>\n",
       "      <td>12.639779</td>\n",
       "      <td>Excellent</td>\n",
       "    </tr>\n",
       "    <tr>\n",
       "      <th>1</th>\n",
       "      <td>01-01-2004 00:30</td>\n",
       "      <td>deldswq</td>\n",
       "      <td>00:30:00</td>\n",
       "      <td>5.2</td>\n",
       "      <td>0.12</td>\n",
       "      <td>0.1</td>\n",
       "      <td>101.8</td>\n",
       "      <td>12.9</td>\n",
       "      <td>0.45</td>\n",
       "      <td>6.6</td>\n",
       "      <td>0.013</td>\n",
       "      <td>12.636899</td>\n",
       "      <td>Excellent</td>\n",
       "    </tr>\n",
       "    <tr>\n",
       "      <th>2</th>\n",
       "      <td>01-01-2004 01:00</td>\n",
       "      <td>deldswq</td>\n",
       "      <td>01:00:00</td>\n",
       "      <td>5.2</td>\n",
       "      <td>0.12</td>\n",
       "      <td>0.1</td>\n",
       "      <td>101.8</td>\n",
       "      <td>12.9</td>\n",
       "      <td>0.45</td>\n",
       "      <td>6.6</td>\n",
       "      <td>0.012</td>\n",
       "      <td>12.631159</td>\n",
       "      <td>Excellent</td>\n",
       "    </tr>\n",
       "    <tr>\n",
       "      <th>3</th>\n",
       "      <td>01-01-2004 01:30</td>\n",
       "      <td>deldswq</td>\n",
       "      <td>01:30:00</td>\n",
       "      <td>5.1</td>\n",
       "      <td>0.13</td>\n",
       "      <td>0.1</td>\n",
       "      <td>101.8</td>\n",
       "      <td>13.0</td>\n",
       "      <td>0.46</td>\n",
       "      <td>6.6</td>\n",
       "      <td>0.013</td>\n",
       "      <td>12.349211</td>\n",
       "      <td>Excellent</td>\n",
       "    </tr>\n",
       "    <tr>\n",
       "      <th>4</th>\n",
       "      <td>01-01-2004 02:00</td>\n",
       "      <td>deldswq</td>\n",
       "      <td>02:00:00</td>\n",
       "      <td>5.1</td>\n",
       "      <td>0.13</td>\n",
       "      <td>0.1</td>\n",
       "      <td>101.8</td>\n",
       "      <td>13.0</td>\n",
       "      <td>0.46</td>\n",
       "      <td>6.6</td>\n",
       "      <td>0.012</td>\n",
       "      <td>12.343470</td>\n",
       "      <td>Excellent</td>\n",
       "    </tr>\n",
       "  </tbody>\n",
       "</table>\n",
       "</div>"
      ],
      "text/plain": [
       "       SMPLDATETIME  STNCODE  USRCODES  Temp  SpCond  Sal  DO_pct  DO_mgl  \\\n",
       "0  01-01-2004 00:00  deldswq  00:00:00   5.2    0.13  0.1   101.9    12.9   \n",
       "1  01-01-2004 00:30  deldswq  00:30:00   5.2    0.12  0.1   101.8    12.9   \n",
       "2  01-01-2004 01:00  deldswq  01:00:00   5.2    0.12  0.1   101.8    12.9   \n",
       "3  01-01-2004 01:30  deldswq  01:30:00   5.1    0.13  0.1   101.8    13.0   \n",
       "4  01-01-2004 02:00  deldswq  02:00:00   5.1    0.13  0.1   101.8    13.0   \n",
       "\n",
       "   Depth   pH   Turb        WQI  WQI_Class  \n",
       "0   0.45  6.6  0.012  12.639779  Excellent  \n",
       "1   0.45  6.6  0.013  12.636899  Excellent  \n",
       "2   0.45  6.6  0.012  12.631159  Excellent  \n",
       "3   0.46  6.6  0.013  12.349211  Excellent  \n",
       "4   0.46  6.6  0.012  12.343470  Excellent  "
      ]
     },
     "execution_count": 81,
     "metadata": {},
     "output_type": "execute_result"
    }
   ],
   "source": [
    "df = pd.read_csv(r\"C:\\Users\\RNARESHD\\OneDrive - Capgemini\\Desktop\\AIML\\DS_DF_WQI_Train.csv\")\n",
    "df.head()"
   ]
  },
  {
   "cell_type": "code",
   "execution_count": 82,
   "id": "ddf2c18b",
   "metadata": {},
   "outputs": [
    {
     "name": "stdout",
     "output_type": "stream",
     "text": [
      "<class 'pandas.core.frame.DataFrame'>\n",
      "RangeIndex: 33138 entries, 0 to 33137\n",
      "Data columns (total 13 columns):\n",
      " #   Column        Non-Null Count  Dtype  \n",
      "---  ------        --------------  -----  \n",
      " 0   SMPLDATETIME  33138 non-null  object \n",
      " 1   STNCODE       33138 non-null  object \n",
      " 2   USRCODES      33138 non-null  object \n",
      " 3   Temp          33138 non-null  float64\n",
      " 4   SpCond        33138 non-null  float64\n",
      " 5   Sal           33138 non-null  float64\n",
      " 6   DO_pct        33138 non-null  float64\n",
      " 7   DO_mgl        33138 non-null  float64\n",
      " 8   Depth         33138 non-null  float64\n",
      " 9   pH            33138 non-null  float64\n",
      " 10  Turb          33138 non-null  float64\n",
      " 11  WQI           33138 non-null  float64\n",
      " 12  WQI_Class     33138 non-null  object \n",
      "dtypes: float64(9), object(4)\n",
      "memory usage: 3.3+ MB\n"
     ]
    }
   ],
   "source": [
    "df.info()"
   ]
  },
  {
   "cell_type": "code",
   "execution_count": 167,
   "id": "e17221bd",
   "metadata": {},
   "outputs": [
    {
     "data": {
      "text/plain": [
       "(33138, 14)"
      ]
     },
     "execution_count": 167,
     "metadata": {},
     "output_type": "execute_result"
    }
   ],
   "source": [
    "df.shape"
   ]
  },
  {
   "cell_type": "code",
   "execution_count": null,
   "id": "8f0cc8a1",
   "metadata": {},
   "outputs": [],
   "source": []
  },
  {
   "cell_type": "markdown",
   "id": "a31ca6af",
   "metadata": {},
   "source": [
    "# EDA"
   ]
  },
  {
   "cell_type": "code",
   "execution_count": 83,
   "id": "0a48f7b1",
   "metadata": {},
   "outputs": [
    {
     "data": {
      "text/plain": [
       "['Temp', 'SpCond', 'Sal', 'DO_pct', 'DO_mgl', 'Depth', 'pH', 'Turb', 'WQI']"
      ]
     },
     "execution_count": 83,
     "metadata": {},
     "output_type": "execute_result"
    }
   ],
   "source": [
    "##Check numberic feature:\n",
    "numeric_features=[feature for feature in df.columns if df[feature].dtype!=\"O\"]\n",
    "numeric_features"
   ]
  },
  {
   "cell_type": "code",
   "execution_count": 84,
   "id": "e2cd0427",
   "metadata": {},
   "outputs": [
    {
     "name": "stdout",
     "output_type": "stream",
     "text": [
      "Discrete variable count :1\n"
     ]
    }
   ],
   "source": [
    "##Discrete Feature\n",
    "Discrete_features=[feature for feature in numeric_features if len(df[feature].unique())<25]\n",
    "Discrete_features\n",
    "#print(\"Discrete_features\",len(Discrete_features))\n",
    "print(\"Discrete variable count :{}\".format(len(Discrete_features)))\n"
   ]
  },
  {
   "cell_type": "code",
   "execution_count": 85,
   "id": "131392ee",
   "metadata": {},
   "outputs": [
    {
     "data": {
      "text/plain": [
       "['Temp', 'SpCond', 'DO_pct', 'DO_mgl', 'Depth', 'pH', 'Turb', 'WQI']"
      ]
     },
     "execution_count": 85,
     "metadata": {},
     "output_type": "execute_result"
    }
   ],
   "source": [
    "##Continous Features:\n",
    "continous_features = [feature for feature in numeric_features if feature not in Discrete_features]\n",
    "continous_features"
   ]
  },
  {
   "cell_type": "code",
   "execution_count": 86,
   "id": "7aedf2e7",
   "metadata": {},
   "outputs": [
    {
     "data": {
      "text/plain": [
       "['SMPLDATETIME', 'STNCODE', 'USRCODES', 'WQI_Class']"
      ]
     },
     "execution_count": 86,
     "metadata": {},
     "output_type": "execute_result"
    }
   ],
   "source": [
    "##lets check categorical feature\n",
    "categorical_feature=[feature for feature in df.columns if df[feature].dtype==\"O\"]\n",
    "categorical_feature"
   ]
  },
  {
   "cell_type": "code",
   "execution_count": 87,
   "id": "8ddbb67a",
   "metadata": {},
   "outputs": [],
   "source": [
    "#Here we to trying split \"SMPLDATETIME\" column in date and tine\n",
    "df['SMPLDATETIME']=pd.to_datetime(df['SMPLDATETIME'])"
   ]
  },
  {
   "cell_type": "code",
   "execution_count": 88,
   "id": "e7105c55",
   "metadata": {},
   "outputs": [],
   "source": [
    "df['Time'],df['Date']= df['SMPLDATETIME'].apply(lambda x:x.time()), df['SMPLDATETIME'].apply(lambda x:x.date())"
   ]
  },
  {
   "cell_type": "code",
   "execution_count": 89,
   "id": "b9524fc4",
   "metadata": {},
   "outputs": [],
   "source": [
    "# here delete the \"USRCODES\" and \"STNCODE\" and \"Sal\" column because its having a same data.\n",
    "#\n",
    "df.drop(['SMPLDATETIME','USRCODES','STNCODE','Sal'],axis=1,inplace=True)"
   ]
  },
  {
   "cell_type": "code",
   "execution_count": 90,
   "id": "3702d688",
   "metadata": {},
   "outputs": [],
   "source": [
    "#df"
   ]
  },
  {
   "cell_type": "code",
   "execution_count": 91,
   "id": "6f46b496",
   "metadata": {},
   "outputs": [
    {
     "data": {
      "text/html": [
       "<div>\n",
       "<style scoped>\n",
       "    .dataframe tbody tr th:only-of-type {\n",
       "        vertical-align: middle;\n",
       "    }\n",
       "\n",
       "    .dataframe tbody tr th {\n",
       "        vertical-align: top;\n",
       "    }\n",
       "\n",
       "    .dataframe thead th {\n",
       "        text-align: right;\n",
       "    }\n",
       "</style>\n",
       "<table border=\"1\" class=\"dataframe\">\n",
       "  <thead>\n",
       "    <tr style=\"text-align: right;\">\n",
       "      <th></th>\n",
       "      <th>WQI_Class</th>\n",
       "      <th>Time</th>\n",
       "      <th>Date</th>\n",
       "    </tr>\n",
       "  </thead>\n",
       "  <tbody>\n",
       "    <tr>\n",
       "      <th>32926</th>\n",
       "      <td>Excellent</td>\n",
       "      <td>15:00:00</td>\n",
       "      <td>2006-02-20</td>\n",
       "    </tr>\n",
       "    <tr>\n",
       "      <th>25160</th>\n",
       "      <td>Good</td>\n",
       "      <td>20:00:00</td>\n",
       "      <td>2005-11-09</td>\n",
       "    </tr>\n",
       "    <tr>\n",
       "      <th>27351</th>\n",
       "      <td>Excellent</td>\n",
       "      <td>11:30:00</td>\n",
       "      <td>2005-10-27</td>\n",
       "    </tr>\n",
       "    <tr>\n",
       "      <th>18749</th>\n",
       "      <td>Excellent</td>\n",
       "      <td>06:30:00</td>\n",
       "      <td>2005-01-05</td>\n",
       "    </tr>\n",
       "    <tr>\n",
       "      <th>27955</th>\n",
       "      <td>Excellent</td>\n",
       "      <td>01:30:00</td>\n",
       "      <td>2005-09-11</td>\n",
       "    </tr>\n",
       "  </tbody>\n",
       "</table>\n",
       "</div>"
      ],
      "text/plain": [
       "       WQI_Class      Time        Date\n",
       "32926  Excellent  15:00:00  2006-02-20\n",
       "25160       Good  20:00:00  2005-11-09\n",
       "27351  Excellent  11:30:00  2005-10-27\n",
       "18749  Excellent  06:30:00  2005-01-05\n",
       "27955  Excellent  01:30:00  2005-09-11"
      ]
     },
     "execution_count": 91,
     "metadata": {},
     "output_type": "execute_result"
    }
   ],
   "source": [
    "cat_features=df.select_dtypes(include='object')\n",
    "cat_features.sample(5)"
   ]
  },
  {
   "cell_type": "code",
   "execution_count": 93,
   "id": "f07ccb7b",
   "metadata": {},
   "outputs": [
    {
     "data": {
      "text/html": [
       "<div>\n",
       "<style scoped>\n",
       "    .dataframe tbody tr th:only-of-type {\n",
       "        vertical-align: middle;\n",
       "    }\n",
       "\n",
       "    .dataframe tbody tr th {\n",
       "        vertical-align: top;\n",
       "    }\n",
       "\n",
       "    .dataframe thead th {\n",
       "        text-align: right;\n",
       "    }\n",
       "</style>\n",
       "<table border=\"1\" class=\"dataframe\">\n",
       "  <thead>\n",
       "    <tr style=\"text-align: right;\">\n",
       "      <th></th>\n",
       "      <th>Temp</th>\n",
       "      <th>SpCond</th>\n",
       "      <th>DO_pct</th>\n",
       "      <th>DO_mgl</th>\n",
       "      <th>Depth</th>\n",
       "      <th>pH</th>\n",
       "      <th>Turb</th>\n",
       "      <th>WQI</th>\n",
       "    </tr>\n",
       "  </thead>\n",
       "  <tbody>\n",
       "    <tr>\n",
       "      <th>3635</th>\n",
       "      <td>23.9</td>\n",
       "      <td>0.16</td>\n",
       "      <td>90.6</td>\n",
       "      <td>7.6</td>\n",
       "      <td>0.45</td>\n",
       "      <td>7.200000</td>\n",
       "      <td>0.007</td>\n",
       "      <td>27.847917</td>\n",
       "    </tr>\n",
       "    <tr>\n",
       "      <th>7547</th>\n",
       "      <td>26.7</td>\n",
       "      <td>0.15</td>\n",
       "      <td>65.7</td>\n",
       "      <td>5.3</td>\n",
       "      <td>0.17</td>\n",
       "      <td>6.800000</td>\n",
       "      <td>0.009</td>\n",
       "      <td>34.137931</td>\n",
       "    </tr>\n",
       "    <tr>\n",
       "      <th>23781</th>\n",
       "      <td>28.8</td>\n",
       "      <td>0.20</td>\n",
       "      <td>8.1</td>\n",
       "      <td>0.6</td>\n",
       "      <td>0.15</td>\n",
       "      <td>6.500000</td>\n",
       "      <td>0.010</td>\n",
       "      <td>49.667223</td>\n",
       "    </tr>\n",
       "    <tr>\n",
       "      <th>5311</th>\n",
       "      <td>25.5</td>\n",
       "      <td>0.15</td>\n",
       "      <td>79.2</td>\n",
       "      <td>6.5</td>\n",
       "      <td>0.32</td>\n",
       "      <td>7.500000</td>\n",
       "      <td>0.016</td>\n",
       "      <td>34.328748</td>\n",
       "    </tr>\n",
       "    <tr>\n",
       "      <th>27595</th>\n",
       "      <td>13.2</td>\n",
       "      <td>0.18</td>\n",
       "      <td>115.2</td>\n",
       "      <td>12.1</td>\n",
       "      <td>0.25</td>\n",
       "      <td>6.690212</td>\n",
       "      <td>0.009</td>\n",
       "      <td>15.437900</td>\n",
       "    </tr>\n",
       "  </tbody>\n",
       "</table>\n",
       "</div>"
      ],
      "text/plain": [
       "       Temp  SpCond  DO_pct  DO_mgl  Depth        pH   Turb        WQI\n",
       "3635   23.9    0.16    90.6     7.6   0.45  7.200000  0.007  27.847917\n",
       "7547   26.7    0.15    65.7     5.3   0.17  6.800000  0.009  34.137931\n",
       "23781  28.8    0.20     8.1     0.6   0.15  6.500000  0.010  49.667223\n",
       "5311   25.5    0.15    79.2     6.5   0.32  7.500000  0.016  34.328748\n",
       "27595  13.2    0.18   115.2    12.1   0.25  6.690212  0.009  15.437900"
      ]
     },
     "execution_count": 93,
     "metadata": {},
     "output_type": "execute_result"
    }
   ],
   "source": [
    "numeric_features=df.select_dtypes(include='float')\n",
    "numeric_features.sample(5)"
   ]
  },
  {
   "cell_type": "code",
   "execution_count": 94,
   "id": "18a7f823",
   "metadata": {},
   "outputs": [
    {
     "data": {
      "text/html": [
       "<div>\n",
       "<style scoped>\n",
       "    .dataframe tbody tr th:only-of-type {\n",
       "        vertical-align: middle;\n",
       "    }\n",
       "\n",
       "    .dataframe tbody tr th {\n",
       "        vertical-align: top;\n",
       "    }\n",
       "\n",
       "    .dataframe thead th {\n",
       "        text-align: right;\n",
       "    }\n",
       "</style>\n",
       "<table border=\"1\" class=\"dataframe\">\n",
       "  <thead>\n",
       "    <tr style=\"text-align: right;\">\n",
       "      <th></th>\n",
       "      <th>Temp</th>\n",
       "      <th>SpCond</th>\n",
       "      <th>DO_pct</th>\n",
       "      <th>DO_mgl</th>\n",
       "      <th>Depth</th>\n",
       "      <th>pH</th>\n",
       "      <th>Turb</th>\n",
       "      <th>WQI</th>\n",
       "      <th>WQI_Class</th>\n",
       "      <th>Time</th>\n",
       "      <th>Date</th>\n",
       "    </tr>\n",
       "  </thead>\n",
       "  <tbody>\n",
       "    <tr>\n",
       "      <th>0</th>\n",
       "      <td>5.2</td>\n",
       "      <td>0.13</td>\n",
       "      <td>101.9</td>\n",
       "      <td>12.9</td>\n",
       "      <td>0.45</td>\n",
       "      <td>6.6</td>\n",
       "      <td>0.012</td>\n",
       "      <td>12.639779</td>\n",
       "      <td>Excellent</td>\n",
       "      <td>00:00:00</td>\n",
       "      <td>2004-01-01</td>\n",
       "    </tr>\n",
       "    <tr>\n",
       "      <th>1</th>\n",
       "      <td>5.2</td>\n",
       "      <td>0.12</td>\n",
       "      <td>101.8</td>\n",
       "      <td>12.9</td>\n",
       "      <td>0.45</td>\n",
       "      <td>6.6</td>\n",
       "      <td>0.013</td>\n",
       "      <td>12.636899</td>\n",
       "      <td>Excellent</td>\n",
       "      <td>00:30:00</td>\n",
       "      <td>2004-01-01</td>\n",
       "    </tr>\n",
       "    <tr>\n",
       "      <th>2</th>\n",
       "      <td>5.2</td>\n",
       "      <td>0.12</td>\n",
       "      <td>101.8</td>\n",
       "      <td>12.9</td>\n",
       "      <td>0.45</td>\n",
       "      <td>6.6</td>\n",
       "      <td>0.012</td>\n",
       "      <td>12.631159</td>\n",
       "      <td>Excellent</td>\n",
       "      <td>01:00:00</td>\n",
       "      <td>2004-01-01</td>\n",
       "    </tr>\n",
       "    <tr>\n",
       "      <th>3</th>\n",
       "      <td>5.1</td>\n",
       "      <td>0.13</td>\n",
       "      <td>101.8</td>\n",
       "      <td>13.0</td>\n",
       "      <td>0.46</td>\n",
       "      <td>6.6</td>\n",
       "      <td>0.013</td>\n",
       "      <td>12.349211</td>\n",
       "      <td>Excellent</td>\n",
       "      <td>01:30:00</td>\n",
       "      <td>2004-01-01</td>\n",
       "    </tr>\n",
       "    <tr>\n",
       "      <th>4</th>\n",
       "      <td>5.1</td>\n",
       "      <td>0.13</td>\n",
       "      <td>101.8</td>\n",
       "      <td>13.0</td>\n",
       "      <td>0.46</td>\n",
       "      <td>6.6</td>\n",
       "      <td>0.012</td>\n",
       "      <td>12.343470</td>\n",
       "      <td>Excellent</td>\n",
       "      <td>02:00:00</td>\n",
       "      <td>2004-01-01</td>\n",
       "    </tr>\n",
       "  </tbody>\n",
       "</table>\n",
       "</div>"
      ],
      "text/plain": [
       "   Temp  SpCond  DO_pct  DO_mgl  Depth   pH   Turb        WQI  WQI_Class  \\\n",
       "0   5.2    0.13   101.9    12.9   0.45  6.6  0.012  12.639779  Excellent   \n",
       "1   5.2    0.12   101.8    12.9   0.45  6.6  0.013  12.636899  Excellent   \n",
       "2   5.2    0.12   101.8    12.9   0.45  6.6  0.012  12.631159  Excellent   \n",
       "3   5.1    0.13   101.8    13.0   0.46  6.6  0.013  12.349211  Excellent   \n",
       "4   5.1    0.13   101.8    13.0   0.46  6.6  0.012  12.343470  Excellent   \n",
       "\n",
       "       Time        Date  \n",
       "0  00:00:00  2004-01-01  \n",
       "1  00:30:00  2004-01-01  \n",
       "2  01:00:00  2004-01-01  \n",
       "3  01:30:00  2004-01-01  \n",
       "4  02:00:00  2004-01-01  "
      ]
     },
     "execution_count": 94,
     "metadata": {},
     "output_type": "execute_result"
    }
   ],
   "source": [
    "df.head()"
   ]
  },
  {
   "cell_type": "code",
   "execution_count": 95,
   "id": "d26483e9",
   "metadata": {},
   "outputs": [
    {
     "data": {
      "text/plain": [
       "array(['Excellent', 'Good', 'UFC', 'Poor'], dtype=object)"
      ]
     },
     "execution_count": 95,
     "metadata": {},
     "output_type": "execute_result"
    }
   ],
   "source": [
    "#here target column is \"WQI_Class\" in that there is four class: Excellent Good UFC Poor.\n",
    "df['WQI_Class'].unique()"
   ]
  },
  {
   "cell_type": "code",
   "execution_count": 96,
   "id": "37cb7a80",
   "metadata": {},
   "outputs": [],
   "source": [
    "#Here convert object into numeric form.\n",
    "df['WQI_Class'] = df['WQI_Class'].replace({'Excellent':3,'Good':2,'UFC':1,'Poor':0})"
   ]
  },
  {
   "cell_type": "code",
   "execution_count": 97,
   "id": "eadc391e",
   "metadata": {},
   "outputs": [
    {
     "data": {
      "text/html": [
       "<div>\n",
       "<style scoped>\n",
       "    .dataframe tbody tr th:only-of-type {\n",
       "        vertical-align: middle;\n",
       "    }\n",
       "\n",
       "    .dataframe tbody tr th {\n",
       "        vertical-align: top;\n",
       "    }\n",
       "\n",
       "    .dataframe thead th {\n",
       "        text-align: right;\n",
       "    }\n",
       "</style>\n",
       "<table border=\"1\" class=\"dataframe\">\n",
       "  <thead>\n",
       "    <tr style=\"text-align: right;\">\n",
       "      <th></th>\n",
       "      <th>Temp</th>\n",
       "      <th>SpCond</th>\n",
       "      <th>DO_pct</th>\n",
       "      <th>DO_mgl</th>\n",
       "      <th>Depth</th>\n",
       "      <th>pH</th>\n",
       "      <th>Turb</th>\n",
       "      <th>WQI</th>\n",
       "      <th>WQI_Class</th>\n",
       "      <th>Time</th>\n",
       "      <th>Date</th>\n",
       "    </tr>\n",
       "  </thead>\n",
       "  <tbody>\n",
       "    <tr>\n",
       "      <th>0</th>\n",
       "      <td>5.2</td>\n",
       "      <td>0.13</td>\n",
       "      <td>101.9</td>\n",
       "      <td>12.9</td>\n",
       "      <td>0.45</td>\n",
       "      <td>6.6</td>\n",
       "      <td>0.012</td>\n",
       "      <td>12.639779</td>\n",
       "      <td>3</td>\n",
       "      <td>00:00:00</td>\n",
       "      <td>2004-01-01</td>\n",
       "    </tr>\n",
       "    <tr>\n",
       "      <th>1</th>\n",
       "      <td>5.2</td>\n",
       "      <td>0.12</td>\n",
       "      <td>101.8</td>\n",
       "      <td>12.9</td>\n",
       "      <td>0.45</td>\n",
       "      <td>6.6</td>\n",
       "      <td>0.013</td>\n",
       "      <td>12.636899</td>\n",
       "      <td>3</td>\n",
       "      <td>00:30:00</td>\n",
       "      <td>2004-01-01</td>\n",
       "    </tr>\n",
       "    <tr>\n",
       "      <th>2</th>\n",
       "      <td>5.2</td>\n",
       "      <td>0.12</td>\n",
       "      <td>101.8</td>\n",
       "      <td>12.9</td>\n",
       "      <td>0.45</td>\n",
       "      <td>6.6</td>\n",
       "      <td>0.012</td>\n",
       "      <td>12.631159</td>\n",
       "      <td>3</td>\n",
       "      <td>01:00:00</td>\n",
       "      <td>2004-01-01</td>\n",
       "    </tr>\n",
       "    <tr>\n",
       "      <th>3</th>\n",
       "      <td>5.1</td>\n",
       "      <td>0.13</td>\n",
       "      <td>101.8</td>\n",
       "      <td>13.0</td>\n",
       "      <td>0.46</td>\n",
       "      <td>6.6</td>\n",
       "      <td>0.013</td>\n",
       "      <td>12.349211</td>\n",
       "      <td>3</td>\n",
       "      <td>01:30:00</td>\n",
       "      <td>2004-01-01</td>\n",
       "    </tr>\n",
       "    <tr>\n",
       "      <th>4</th>\n",
       "      <td>5.1</td>\n",
       "      <td>0.13</td>\n",
       "      <td>101.8</td>\n",
       "      <td>13.0</td>\n",
       "      <td>0.46</td>\n",
       "      <td>6.6</td>\n",
       "      <td>0.012</td>\n",
       "      <td>12.343470</td>\n",
       "      <td>3</td>\n",
       "      <td>02:00:00</td>\n",
       "      <td>2004-01-01</td>\n",
       "    </tr>\n",
       "  </tbody>\n",
       "</table>\n",
       "</div>"
      ],
      "text/plain": [
       "   Temp  SpCond  DO_pct  DO_mgl  Depth   pH   Turb        WQI  WQI_Class  \\\n",
       "0   5.2    0.13   101.9    12.9   0.45  6.6  0.012  12.639779          3   \n",
       "1   5.2    0.12   101.8    12.9   0.45  6.6  0.013  12.636899          3   \n",
       "2   5.2    0.12   101.8    12.9   0.45  6.6  0.012  12.631159          3   \n",
       "3   5.1    0.13   101.8    13.0   0.46  6.6  0.013  12.349211          3   \n",
       "4   5.1    0.13   101.8    13.0   0.46  6.6  0.012  12.343470          3   \n",
       "\n",
       "       Time        Date  \n",
       "0  00:00:00  2004-01-01  \n",
       "1  00:30:00  2004-01-01  \n",
       "2  01:00:00  2004-01-01  \n",
       "3  01:30:00  2004-01-01  \n",
       "4  02:00:00  2004-01-01  "
      ]
     },
     "execution_count": 97,
     "metadata": {},
     "output_type": "execute_result"
    }
   ],
   "source": [
    "df.head()"
   ]
  },
  {
   "cell_type": "code",
   "execution_count": 98,
   "id": "9fc1b4ff",
   "metadata": {},
   "outputs": [
    {
     "data": {
      "text/plain": [
       "<AxesSubplot:xlabel='WQI_Class', ylabel='count'>"
      ]
     },
     "execution_count": 98,
     "metadata": {},
     "output_type": "execute_result"
    },
    {
     "data": {
      "image/png": "[encoded data removed]",
      "text/plain": [
       "<Figure size 432x288 with 1 Axes>"
      ]
     },
     "metadata": {
      "needs_background": "light"
     },
     "output_type": "display_data"
    }
   ],
   "source": [
    "sns.countplot(df['WQI_Class'])"
   ]
  },
  {
   "cell_type": "code",
   "execution_count": 99,
   "id": "a8ef832c",
   "metadata": {},
   "outputs": [
    {
     "data": {
      "text/plain": [
       "Temp         float64\n",
       "SpCond       float64\n",
       "DO_pct       float64\n",
       "DO_mgl       float64\n",
       "Depth        float64\n",
       "pH           float64\n",
       "Turb         float64\n",
       "WQI          float64\n",
       "WQI_Class      int64\n",
       "Time          object\n",
       "Date          object\n",
       "dtype: object"
      ]
     },
     "execution_count": 99,
     "metadata": {},
     "output_type": "execute_result"
    }
   ],
   "source": [
    "df.dtypes"
   ]
  },
  {
   "cell_type": "code",
   "execution_count": 100,
   "id": "579f98b7",
   "metadata": {},
   "outputs": [
    {
     "data": {
      "text/html": [
       "<div>\n",
       "<style scoped>\n",
       "    .dataframe tbody tr th:only-of-type {\n",
       "        vertical-align: middle;\n",
       "    }\n",
       "\n",
       "    .dataframe tbody tr th {\n",
       "        vertical-align: top;\n",
       "    }\n",
       "\n",
       "    .dataframe thead th {\n",
       "        text-align: right;\n",
       "    }\n",
       "</style>\n",
       "<table border=\"1\" class=\"dataframe\">\n",
       "  <thead>\n",
       "    <tr style=\"text-align: right;\">\n",
       "      <th></th>\n",
       "      <th>Temp</th>\n",
       "      <th>SpCond</th>\n",
       "      <th>DO_pct</th>\n",
       "      <th>DO_mgl</th>\n",
       "      <th>Depth</th>\n",
       "      <th>pH</th>\n",
       "      <th>Turb</th>\n",
       "      <th>WQI</th>\n",
       "      <th>WQI_Class</th>\n",
       "      <th>Time</th>\n",
       "      <th>Date</th>\n",
       "    </tr>\n",
       "  </thead>\n",
       "  <tbody>\n",
       "    <tr>\n",
       "      <th>0</th>\n",
       "      <td>5.2</td>\n",
       "      <td>0.13</td>\n",
       "      <td>101.9</td>\n",
       "      <td>12.9</td>\n",
       "      <td>0.45</td>\n",
       "      <td>6.6</td>\n",
       "      <td>0.012</td>\n",
       "      <td>12.639779</td>\n",
       "      <td>3</td>\n",
       "      <td>00:00:00</td>\n",
       "      <td>2004-01-01</td>\n",
       "    </tr>\n",
       "    <tr>\n",
       "      <th>1</th>\n",
       "      <td>5.2</td>\n",
       "      <td>0.12</td>\n",
       "      <td>101.8</td>\n",
       "      <td>12.9</td>\n",
       "      <td>0.45</td>\n",
       "      <td>6.6</td>\n",
       "      <td>0.013</td>\n",
       "      <td>12.636899</td>\n",
       "      <td>3</td>\n",
       "      <td>00:30:00</td>\n",
       "      <td>2004-01-01</td>\n",
       "    </tr>\n",
       "    <tr>\n",
       "      <th>2</th>\n",
       "      <td>5.2</td>\n",
       "      <td>0.12</td>\n",
       "      <td>101.8</td>\n",
       "      <td>12.9</td>\n",
       "      <td>0.45</td>\n",
       "      <td>6.6</td>\n",
       "      <td>0.012</td>\n",
       "      <td>12.631159</td>\n",
       "      <td>3</td>\n",
       "      <td>01:00:00</td>\n",
       "      <td>2004-01-01</td>\n",
       "    </tr>\n",
       "    <tr>\n",
       "      <th>3</th>\n",
       "      <td>5.1</td>\n",
       "      <td>0.13</td>\n",
       "      <td>101.8</td>\n",
       "      <td>13.0</td>\n",
       "      <td>0.46</td>\n",
       "      <td>6.6</td>\n",
       "      <td>0.013</td>\n",
       "      <td>12.349211</td>\n",
       "      <td>3</td>\n",
       "      <td>01:30:00</td>\n",
       "      <td>2004-01-01</td>\n",
       "    </tr>\n",
       "    <tr>\n",
       "      <th>4</th>\n",
       "      <td>5.1</td>\n",
       "      <td>0.13</td>\n",
       "      <td>101.8</td>\n",
       "      <td>13.0</td>\n",
       "      <td>0.46</td>\n",
       "      <td>6.6</td>\n",
       "      <td>0.012</td>\n",
       "      <td>12.343470</td>\n",
       "      <td>3</td>\n",
       "      <td>02:00:00</td>\n",
       "      <td>2004-01-01</td>\n",
       "    </tr>\n",
       "    <tr>\n",
       "      <th>...</th>\n",
       "      <td>...</td>\n",
       "      <td>...</td>\n",
       "      <td>...</td>\n",
       "      <td>...</td>\n",
       "      <td>...</td>\n",
       "      <td>...</td>\n",
       "      <td>...</td>\n",
       "      <td>...</td>\n",
       "      <td>...</td>\n",
       "      <td>...</td>\n",
       "      <td>...</td>\n",
       "    </tr>\n",
       "    <tr>\n",
       "      <th>33133</th>\n",
       "      <td>4.5</td>\n",
       "      <td>0.20</td>\n",
       "      <td>98.0</td>\n",
       "      <td>12.7</td>\n",
       "      <td>0.47</td>\n",
       "      <td>7.1</td>\n",
       "      <td>0.009</td>\n",
       "      <td>9.647662</td>\n",
       "      <td>3</td>\n",
       "      <td>22:30:00</td>\n",
       "      <td>2006-02-24</td>\n",
       "    </tr>\n",
       "    <tr>\n",
       "      <th>33134</th>\n",
       "      <td>4.5</td>\n",
       "      <td>0.20</td>\n",
       "      <td>97.8</td>\n",
       "      <td>12.7</td>\n",
       "      <td>0.47</td>\n",
       "      <td>7.1</td>\n",
       "      <td>0.009</td>\n",
       "      <td>9.643177</td>\n",
       "      <td>3</td>\n",
       "      <td>23:00:00</td>\n",
       "      <td>2006-02-24</td>\n",
       "    </tr>\n",
       "    <tr>\n",
       "      <th>33135</th>\n",
       "      <td>4.4</td>\n",
       "      <td>0.20</td>\n",
       "      <td>97.8</td>\n",
       "      <td>12.7</td>\n",
       "      <td>0.47</td>\n",
       "      <td>7.1</td>\n",
       "      <td>0.009</td>\n",
       "      <td>9.627231</td>\n",
       "      <td>3</td>\n",
       "      <td>23:30:00</td>\n",
       "      <td>2006-02-24</td>\n",
       "    </tr>\n",
       "    <tr>\n",
       "      <th>33136</th>\n",
       "      <td>4.4</td>\n",
       "      <td>0.20</td>\n",
       "      <td>97.6</td>\n",
       "      <td>12.7</td>\n",
       "      <td>0.46</td>\n",
       "      <td>7.1</td>\n",
       "      <td>0.009</td>\n",
       "      <td>9.622747</td>\n",
       "      <td>3</td>\n",
       "      <td>00:00:00</td>\n",
       "      <td>2006-02-25</td>\n",
       "    </tr>\n",
       "    <tr>\n",
       "      <th>33137</th>\n",
       "      <td>4.4</td>\n",
       "      <td>0.20</td>\n",
       "      <td>97.5</td>\n",
       "      <td>12.6</td>\n",
       "      <td>0.46</td>\n",
       "      <td>7.1</td>\n",
       "      <td>0.009</td>\n",
       "      <td>9.898625</td>\n",
       "      <td>3</td>\n",
       "      <td>00:30:00</td>\n",
       "      <td>2006-02-25</td>\n",
       "    </tr>\n",
       "  </tbody>\n",
       "</table>\n",
       "<p>33138 rows × 11 columns</p>\n",
       "</div>"
      ],
      "text/plain": [
       "       Temp  SpCond  DO_pct  DO_mgl  Depth   pH   Turb        WQI  WQI_Class  \\\n",
       "0       5.2    0.13   101.9    12.9   0.45  6.6  0.012  12.639779          3   \n",
       "1       5.2    0.12   101.8    12.9   0.45  6.6  0.013  12.636899          3   \n",
       "2       5.2    0.12   101.8    12.9   0.45  6.6  0.012  12.631159          3   \n",
       "3       5.1    0.13   101.8    13.0   0.46  6.6  0.013  12.349211          3   \n",
       "4       5.1    0.13   101.8    13.0   0.46  6.6  0.012  12.343470          3   \n",
       "...     ...     ...     ...     ...    ...  ...    ...        ...        ...   \n",
       "33133   4.5    0.20    98.0    12.7   0.47  7.1  0.009   9.647662          3   \n",
       "33134   4.5    0.20    97.8    12.7   0.47  7.1  0.009   9.643177          3   \n",
       "33135   4.4    0.20    97.8    12.7   0.47  7.1  0.009   9.627231          3   \n",
       "33136   4.4    0.20    97.6    12.7   0.46  7.1  0.009   9.622747          3   \n",
       "33137   4.4    0.20    97.5    12.6   0.46  7.1  0.009   9.898625          3   \n",
       "\n",
       "           Time        Date  \n",
       "0      00:00:00  2004-01-01  \n",
       "1      00:30:00  2004-01-01  \n",
       "2      01:00:00  2004-01-01  \n",
       "3      01:30:00  2004-01-01  \n",
       "4      02:00:00  2004-01-01  \n",
       "...         ...         ...  \n",
       "33133  22:30:00  2006-02-24  \n",
       "33134  23:00:00  2006-02-24  \n",
       "33135  23:30:00  2006-02-24  \n",
       "33136  00:00:00  2006-02-25  \n",
       "33137  00:30:00  2006-02-25  \n",
       "\n",
       "[33138 rows x 11 columns]"
      ]
     },
     "execution_count": 100,
     "metadata": {},
     "output_type": "execute_result"
    }
   ],
   "source": [
    "df"
   ]
  },
  {
   "cell_type": "code",
   "execution_count": 101,
   "id": "c05e5c01",
   "metadata": {},
   "outputs": [
    {
     "data": {
      "text/plain": [
       "Index(['Temp', 'SpCond', 'DO_pct', 'DO_mgl', 'Depth', 'pH', 'Turb', 'WQI',\n",
       "       'WQI_Class', 'Time', 'Date'],\n",
       "      dtype='object')"
      ]
     },
     "execution_count": 101,
     "metadata": {},
     "output_type": "execute_result"
    }
   ],
   "source": [
    "col=df.columns\n",
    "col    "
   ]
  },
  {
   "cell_type": "raw",
   "id": "b52f3b47",
   "metadata": {},
   "source": [
    "fig,axes=plt.subplots(5,2,figsize=(30,25))\n",
    "i=0   # row\n",
    "j=0  # column\n",
    "for cols in col[:-2]:\n",
    "    sns.boxplot(x=df[cols],ax=axes[i][j])\n",
    "    plt.xticks(ticks=df[cols].unique())\n",
    "    \n",
    "    j+=1\n",
    "    if j>=2:\n",
    "        j=0\n",
    "        if i<5:\n",
    "            i+=1"
   ]
  },
  {
   "cell_type": "code",
   "execution_count": null,
   "id": "090142dc",
   "metadata": {},
   "outputs": [],
   "source": []
  },
  {
   "cell_type": "code",
   "execution_count": 103,
   "id": "cd7445dd",
   "metadata": {},
   "outputs": [
    {
     "data": {
      "image/png": "[encoded data removed]",
      "text/plain": [
       "<Figure size 2160x1800 with 10 Axes>"
      ]
     },
     "metadata": {
      "needs_background": "light"
     },
     "output_type": "display_data"
    }
   ],
   "source": [
    "fig,axes=plt.subplots(5,2,figsize=(30,25))\n",
    "i=0   # row\n",
    "j=0  # column\n",
    "for cols in col[:-2]:\n",
    "    sns.distplot(x=df[cols],ax=axes[i][j])\n",
    "    plt.xticks(ticks=df[cols].unique())\n",
    "    \n",
    "    j+=1\n",
    "    if j>=2:\n",
    "        j=0\n",
    "        if i<5:\n",
    "            i+=1"
   ]
  },
  {
   "cell_type": "markdown",
   "id": "d8b3ea78",
   "metadata": {},
   "source": [
    "# Preprocessing"
   ]
  },
  {
   "cell_type": "code",
   "execution_count": 104,
   "id": "9a73b853",
   "metadata": {},
   "outputs": [],
   "source": [
    "df[['Hours', 'Minutes', 'Seconds']] = df['Time'].astype(str).str.split(':', expand=True)"
   ]
  },
  {
   "cell_type": "code",
   "execution_count": 105,
   "id": "c3f17f86",
   "metadata": {},
   "outputs": [],
   "source": [
    "df.drop([\"Time\",\"Seconds\"], axis = 1, inplace=True)"
   ]
  },
  {
   "cell_type": "code",
   "execution_count": 106,
   "id": "8b9e0c4a",
   "metadata": {},
   "outputs": [],
   "source": [
    "df[[\"Year\",\"Month\",\"Day\"]] = df[\"Date\"].astype(str).str.split('-', expand= True)"
   ]
  },
  {
   "cell_type": "code",
   "execution_count": 107,
   "id": "028219e1",
   "metadata": {},
   "outputs": [],
   "source": [
    "df.drop([\"Date\"], axis = 1, inplace = True)"
   ]
  },
  {
   "cell_type": "code",
   "execution_count": 108,
   "id": "a490a1d7",
   "metadata": {},
   "outputs": [],
   "source": [
    "#df"
   ]
  },
  {
   "cell_type": "code",
   "execution_count": 109,
   "id": "d9caf6cb",
   "metadata": {},
   "outputs": [],
   "source": [
    "df[\"Day\"] = df[\"Day\"].astype(int)\n",
    "df[\"Hours\"] = df[\"Hours\"].astype(int)\n",
    "df[\"Minutes\"] = df[\"Minutes\"].astype(int)\n",
    "df[\"Year\"] = df[\"Year\"].astype(int)\n",
    "df[\"Month\"] = df[\"Month\"].astype(int)\n",
    "#train_data['Temp'] = train_data['Temp'].astype('object')"
   ]
  },
  {
   "cell_type": "code",
   "execution_count": 110,
   "id": "59e04701",
   "metadata": {},
   "outputs": [
    {
     "data": {
      "text/html": [
       "<div>\n",
       "<style scoped>\n",
       "    .dataframe tbody tr th:only-of-type {\n",
       "        vertical-align: middle;\n",
       "    }\n",
       "\n",
       "    .dataframe tbody tr th {\n",
       "        vertical-align: top;\n",
       "    }\n",
       "\n",
       "    .dataframe thead th {\n",
       "        text-align: right;\n",
       "    }\n",
       "</style>\n",
       "<table border=\"1\" class=\"dataframe\">\n",
       "  <thead>\n",
       "    <tr style=\"text-align: right;\">\n",
       "      <th></th>\n",
       "      <th>Temp</th>\n",
       "      <th>SpCond</th>\n",
       "      <th>DO_pct</th>\n",
       "      <th>DO_mgl</th>\n",
       "      <th>Depth</th>\n",
       "      <th>pH</th>\n",
       "      <th>Turb</th>\n",
       "      <th>WQI</th>\n",
       "      <th>WQI_Class</th>\n",
       "      <th>Hours</th>\n",
       "      <th>Minutes</th>\n",
       "      <th>Year</th>\n",
       "      <th>Month</th>\n",
       "      <th>Day</th>\n",
       "    </tr>\n",
       "  </thead>\n",
       "  <tbody>\n",
       "    <tr>\n",
       "      <th>0</th>\n",
       "      <td>5.2</td>\n",
       "      <td>0.13</td>\n",
       "      <td>101.9</td>\n",
       "      <td>12.9</td>\n",
       "      <td>0.45</td>\n",
       "      <td>6.6</td>\n",
       "      <td>0.012</td>\n",
       "      <td>12.639779</td>\n",
       "      <td>3</td>\n",
       "      <td>0</td>\n",
       "      <td>0</td>\n",
       "      <td>2004</td>\n",
       "      <td>1</td>\n",
       "      <td>1</td>\n",
       "    </tr>\n",
       "    <tr>\n",
       "      <th>1</th>\n",
       "      <td>5.2</td>\n",
       "      <td>0.12</td>\n",
       "      <td>101.8</td>\n",
       "      <td>12.9</td>\n",
       "      <td>0.45</td>\n",
       "      <td>6.6</td>\n",
       "      <td>0.013</td>\n",
       "      <td>12.636899</td>\n",
       "      <td>3</td>\n",
       "      <td>0</td>\n",
       "      <td>30</td>\n",
       "      <td>2004</td>\n",
       "      <td>1</td>\n",
       "      <td>1</td>\n",
       "    </tr>\n",
       "    <tr>\n",
       "      <th>2</th>\n",
       "      <td>5.2</td>\n",
       "      <td>0.12</td>\n",
       "      <td>101.8</td>\n",
       "      <td>12.9</td>\n",
       "      <td>0.45</td>\n",
       "      <td>6.6</td>\n",
       "      <td>0.012</td>\n",
       "      <td>12.631159</td>\n",
       "      <td>3</td>\n",
       "      <td>1</td>\n",
       "      <td>0</td>\n",
       "      <td>2004</td>\n",
       "      <td>1</td>\n",
       "      <td>1</td>\n",
       "    </tr>\n",
       "    <tr>\n",
       "      <th>3</th>\n",
       "      <td>5.1</td>\n",
       "      <td>0.13</td>\n",
       "      <td>101.8</td>\n",
       "      <td>13.0</td>\n",
       "      <td>0.46</td>\n",
       "      <td>6.6</td>\n",
       "      <td>0.013</td>\n",
       "      <td>12.349211</td>\n",
       "      <td>3</td>\n",
       "      <td>1</td>\n",
       "      <td>30</td>\n",
       "      <td>2004</td>\n",
       "      <td>1</td>\n",
       "      <td>1</td>\n",
       "    </tr>\n",
       "    <tr>\n",
       "      <th>4</th>\n",
       "      <td>5.1</td>\n",
       "      <td>0.13</td>\n",
       "      <td>101.8</td>\n",
       "      <td>13.0</td>\n",
       "      <td>0.46</td>\n",
       "      <td>6.6</td>\n",
       "      <td>0.012</td>\n",
       "      <td>12.343470</td>\n",
       "      <td>3</td>\n",
       "      <td>2</td>\n",
       "      <td>0</td>\n",
       "      <td>2004</td>\n",
       "      <td>1</td>\n",
       "      <td>1</td>\n",
       "    </tr>\n",
       "  </tbody>\n",
       "</table>\n",
       "</div>"
      ],
      "text/plain": [
       "   Temp  SpCond  DO_pct  DO_mgl  Depth   pH   Turb        WQI  WQI_Class  \\\n",
       "0   5.2    0.13   101.9    12.9   0.45  6.6  0.012  12.639779          3   \n",
       "1   5.2    0.12   101.8    12.9   0.45  6.6  0.013  12.636899          3   \n",
       "2   5.2    0.12   101.8    12.9   0.45  6.6  0.012  12.631159          3   \n",
       "3   5.1    0.13   101.8    13.0   0.46  6.6  0.013  12.349211          3   \n",
       "4   5.1    0.13   101.8    13.0   0.46  6.6  0.012  12.343470          3   \n",
       "\n",
       "   Hours  Minutes  Year  Month  Day  \n",
       "0      0        0  2004      1    1  \n",
       "1      0       30  2004      1    1  \n",
       "2      1        0  2004      1    1  \n",
       "3      1       30  2004      1    1  \n",
       "4      2        0  2004      1    1  "
      ]
     },
     "execution_count": 110,
     "metadata": {},
     "output_type": "execute_result"
    }
   ],
   "source": [
    "df.head(5)"
   ]
  },
  {
   "cell_type": "code",
   "execution_count": 111,
   "id": "56b27b8f",
   "metadata": {},
   "outputs": [],
   "source": [
    "#independent variable and dependant variable:\n",
    "x = df.drop(\"WQI_Class\",axis = 1)\n",
    "y =  df[\"WQI_Class\"]"
   ]
  },
  {
   "cell_type": "code",
   "execution_count": 112,
   "id": "c7866677",
   "metadata": {},
   "outputs": [
    {
     "data": {
      "text/plain": [
       "<AxesSubplot:xlabel='WQI_Class', ylabel='count'>"
      ]
     },
     "execution_count": 112,
     "metadata": {},
     "output_type": "execute_result"
    },
    {
     "data": {
      "image/png": "[encoded data removed]",
      "text/plain": [
       "<Figure size 432x288 with 1 Axes>"
      ]
     },
     "metadata": {
      "needs_background": "light"
     },
     "output_type": "display_data"
    }
   ],
   "source": [
    "sns.countplot(y)"
   ]
  },
  {
   "cell_type": "code",
   "execution_count": 113,
   "id": "8669efee",
   "metadata": {},
   "outputs": [],
   "source": [
    "#from imblearn.combine import SMOTETomek\n",
    "from collections import Counter \n",
    "Counter(y)\n",
    "from imblearn.over_sampling import SMOTE"
   ]
  },
  {
   "cell_type": "code",
   "execution_count": 114,
   "id": "6332213b",
   "metadata": {},
   "outputs": [],
   "source": [
    "os = SMOTE()                                      tp   fp\n",
    "                                                fn     tn    \n",
    "x_res,y_res=os.fit_resample(x,y)\n",
    "\n",
    "#oversample = SMOTE()\n",
    "#X, y = oversample.fit_resample(X, y)"
   ]
  },
  {
   "cell_type": "code",
   "execution_count": 115,
   "id": "63429b0a",
   "metadata": {},
   "outputs": [
    {
     "name": "stdout",
     "output_type": "stream",
     "text": [
      "the number of class before fit Counter({3: 18056, 2: 13676, 1: 1259, 0: 147})\n",
      "the number of class after fit Counter({3: 18056, 2: 18056, 1: 18056, 0: 18056})\n"
     ]
    }
   ],
   "source": [
    "\n",
    "print(\"the number of class before fit {}\".format(Counter(y)))\n",
    "print(\"the number of class after fit {}\".format(Counter(y_res)))"
   ]
  },
  {
   "cell_type": "markdown",
   "id": "30f85b72",
   "metadata": {},
   "source": [
    "# Spliting The Dataset"
   ]
  },
  {
   "cell_type": "code",
   "execution_count": 116,
   "id": "8a126e4b",
   "metadata": {},
   "outputs": [],
   "source": [
    "from sklearn.model_selection import train_test_split\n",
    "x_train, x_test, y_train, y_test = train_test_split(x_res,y_res,test_size=0.2,random_state=2)"
   ]
  },
  {
   "cell_type": "code",
   "execution_count": 117,
   "id": "33dd0204",
   "metadata": {},
   "outputs": [
    {
     "name": "stdout",
     "output_type": "stream",
     "text": [
      "x_train (57779, 13)\n",
      "x_test (14445, 13)\n"
     ]
    }
   ],
   "source": [
    "print('x_train',x_train.shape)\n",
    "print('x_test',x_test.shape)"
   ]
  },
  {
   "cell_type": "code",
   "execution_count": 118,
   "id": "09840972",
   "metadata": {},
   "outputs": [
    {
     "name": "stdout",
     "output_type": "stream",
     "text": [
      "y_train (57779,)\n",
      "y_test (14445,)\n"
     ]
    }
   ],
   "source": [
    "print('y_train',y_train.shape)\n",
    "print('y_test',y_test.shape)"
   ]
  },
  {
   "cell_type": "markdown",
   "id": "e1c1c8b2",
   "metadata": {},
   "source": [
    "# Normalize Data"
   ]
  },
  {
   "cell_type": "code",
   "execution_count": 119,
   "id": "6844cea2",
   "metadata": {},
   "outputs": [],
   "source": [
    "from sklearn import preprocessing\n",
    "scaler = preprocessing.StandardScaler()\n",
    "\n",
    "scaler.fit(x_train)\n",
    "\n",
    "x_train_std = scaler.transform(x_train)\n",
    "x_test_std = scaler.transform(x_test)"
   ]
  },
  {
   "cell_type": "markdown",
   "id": "50e293d6",
   "metadata": {},
   "source": [
    "# Logistic Regression model"
   ]
  },
  {
   "cell_type": "code",
   "execution_count": 120,
   "id": "36a121a4",
   "metadata": {},
   "outputs": [
    {
     "data": {
      "text/html": [
       "<style>#sk-container-id-3 {color: black;background-color: white;}#sk-container-id-3 pre{padding: 0;}#sk-container-id-3 div.sk-toggleable {background-color: white;}#sk-container-id-3 label.sk-toggleable__label {cursor: pointer;display: block;width: 100%;margin-bottom: 0;padding: 0.3em;box-sizing: border-box;text-align: center;}#sk-container-id-3 label.sk-toggleable__label-arrow:before {content: \"▸\";float: left;margin-right: 0.25em;color: #696969;}#sk-container-id-3 label.sk-toggleable__label-arrow:hover:before {color: black;}#sk-container-id-3 div.sk-estimator:hover label.sk-toggleable__label-arrow:before {color: black;}#sk-container-id-3 div.sk-toggleable__content {max-height: 0;max-width: 0;overflow: hidden;text-align: left;background-color: #f0f8ff;}#sk-container-id-3 div.sk-toggleable__content pre {margin: 0.2em;color: black;border-radius: 0.25em;background-color: #f0f8ff;}#sk-container-id-3 input.sk-toggleable__control:checked~div.sk-toggleable__content {max-height: 200px;max-width: 100%;overflow: auto;}#sk-container-id-3 input.sk-toggleable__control:checked~label.sk-toggleable__label-arrow:before {content: \"▾\";}#sk-container-id-3 div.sk-estimator input.sk-toggleable__control:checked~label.sk-toggleable__label {background-color: #d4ebff;}#sk-container-id-3 div.sk-label input.sk-toggleable__control:checked~label.sk-toggleable__label {background-color: #d4ebff;}#sk-container-id-3 input.sk-hidden--visually {border: 0;clip: rect(1px 1px 1px 1px);clip: rect(1px, 1px, 1px, 1px);height: 1px;margin: -1px;overflow: hidden;padding: 0;position: absolute;width: 1px;}#sk-container-id-3 div.sk-estimator {font-family: monospace;background-color: #f0f8ff;border: 1px dotted black;border-radius: 0.25em;box-sizing: border-box;margin-bottom: 0.5em;}#sk-container-id-3 div.sk-estimator:hover {background-color: #d4ebff;}#sk-container-id-3 div.sk-parallel-item::after {content: \"\";width: 100%;border-bottom: 1px solid gray;flex-grow: 1;}#sk-container-id-3 div.sk-label:hover label.sk-toggleable__label {background-color: #d4ebff;}#sk-container-id-3 div.sk-serial::before {content: \"\";position: absolute;border-left: 1px solid gray;box-sizing: border-box;top: 0;bottom: 0;left: 50%;z-index: 0;}#sk-container-id-3 div.sk-serial {display: flex;flex-direction: column;align-items: center;background-color: white;padding-right: 0.2em;padding-left: 0.2em;position: relative;}#sk-container-id-3 div.sk-item {position: relative;z-index: 1;}#sk-container-id-3 div.sk-parallel {display: flex;align-items: stretch;justify-content: center;background-color: white;position: relative;}#sk-container-id-3 div.sk-item::before, #sk-container-id-3 div.sk-parallel-item::before {content: \"\";position: absolute;border-left: 1px solid gray;box-sizing: border-box;top: 0;bottom: 0;left: 50%;z-index: -1;}#sk-container-id-3 div.sk-parallel-item {display: flex;flex-direction: column;z-index: 1;position: relative;background-color: white;}#sk-container-id-3 div.sk-parallel-item:first-child::after {align-self: flex-end;width: 50%;}#sk-container-id-3 div.sk-parallel-item:last-child::after {align-self: flex-start;width: 50%;}#sk-container-id-3 div.sk-parallel-item:only-child::after {width: 0;}#sk-container-id-3 div.sk-dashed-wrapped {border: 1px dashed gray;margin: 0 0.4em 0.5em 0.4em;box-sizing: border-box;padding-bottom: 0.4em;background-color: white;}#sk-container-id-3 div.sk-label label {font-family: monospace;font-weight: bold;display: inline-block;line-height: 1.2em;}#sk-container-id-3 div.sk-label-container {text-align: center;}#sk-container-id-3 div.sk-container {/* jupyter's `normalize.less` sets `[hidden] { display: none; }` but bootstrap.min.css set `[hidden] { display: none !important; }` so we also need the `!important` here to be able to override the default hidden behavior on the sphinx rendered scikit-learn.org. See: https://github.com/scikit-learn/scikit-learn/issues/21755 */display: inline-block !important;position: relative;}#sk-container-id-3 div.sk-text-repr-fallback {display: none;}</style><div id=\"sk-container-id-3\" class=\"sk-top-container\"><div class=\"sk-text-repr-fallback\"><pre>LogisticAT()</pre><b>In a Jupyter environment, please rerun this cell to show the HTML representation or trust the notebook. <br />On GitHub, the HTML representation is unable to render, please try loading this page with nbviewer.org.</b></div><div class=\"sk-container\" hidden><div class=\"sk-item\"><div class=\"sk-estimator sk-toggleable\"><input class=\"sk-toggleable__control sk-hidden--visually\" id=\"sk-estimator-id-5\" type=\"checkbox\" checked><label for=\"sk-estimator-id-5\" class=\"sk-toggleable__label sk-toggleable__label-arrow\">LogisticAT</label><div class=\"sk-toggleable__content\"><pre>LogisticAT()</pre></div></div></div></div></div>"
      ],
      "text/plain": [
       "LogisticAT()"
      ]
     },
     "execution_count": 120,
     "metadata": {},
     "output_type": "execute_result"
    }
   ],
   "source": [
    "#importing the libraries\n",
    "import pandas as pd\n",
    "from mord import LogisticAT\n",
    "from sklearn.preprocessing import StandardScaler\n",
    "regressor = LogisticAT(alpha=1.0, verbose=0)\n",
    "regressor.fit(x_train_std,y_train)"
   ]
  },
  {
   "cell_type": "code",
   "execution_count": 121,
   "id": "02338079",
   "metadata": {},
   "outputs": [
    {
     "data": {
      "text/plain": [
       "array([2, 0, 2, ..., 2, 0, 0])"
      ]
     },
     "execution_count": 121,
     "metadata": {},
     "output_type": "execute_result"
    }
   ],
   "source": [
    "#predication on Logistic model\n",
    "y_pred = regressor.predict(x_test_std)\n",
    "y_pred"
   ]
  },
  {
   "cell_type": "code",
   "execution_count": 122,
   "id": "b8db3d17",
   "metadata": {},
   "outputs": [
    {
     "name": "stdout",
     "output_type": "stream",
     "text": [
      "[[3309  329  168    0]\n",
      " [ 346  468 1667   13]\n",
      " [   2 2800 1762  777]\n",
      " [   0    0   17 2787]]\n",
      "\n",
      "\n",
      "0.5763932156455521\n"
     ]
    }
   ],
   "source": [
    "#Confusion Matrix\n",
    "log_conf_mat=confusion_matrix(y_pred,y_test)\n",
    "print(log_conf_mat)\n",
    "print('\\n')\n",
    "score=accuracy_score(y_pred,y_test)\n",
    "print(score)"
   ]
  },
  {
   "cell_type": "markdown",
   "id": "335fbfe0",
   "metadata": {},
   "source": [
    "# Fiiting on KNN Model:"
   ]
  },
  {
   "cell_type": "code",
   "execution_count": 125,
   "id": "035b9261",
   "metadata": {},
   "outputs": [
    {
     "name": "stdout",
     "output_type": "stream",
     "text": [
      "with k = 7\n",
      "\n",
      "\n",
      "\n",
      "\n",
      "              precision    recall  f1-score   support\n",
      "\n",
      "           0       1.00      1.00      1.00      3672\n",
      "           1       0.99      0.93      0.96      3815\n",
      "           2       0.96      0.99      0.97      3484\n",
      "           3       0.96      0.99      0.98      3474\n",
      "\n",
      "    accuracy                           0.98     14445\n",
      "   macro avg       0.98      0.98      0.98     14445\n",
      "weighted avg       0.98      0.98      0.98     14445\n",
      "\n",
      "\n",
      "\n",
      "0.9769470404984424\n"
     ]
    }
   ],
   "source": [
    "##Fitted on knn model:\n",
    "from sklearn.neighbors import KNeighborsClassifier\n",
    "from sklearn import metrics\n",
    "from sklearn.metrics import classification_report,confusion_matrix\n",
    "knn = KNeighborsClassifier(n_neighbors=3)\n",
    "knn.fit(x_train_std,y_train)\n",
    "knn_pred=knn.predict(x_test_std)\n",
    "print(\"with k = 7\")\n",
    "print('\\n')\n",
    "knn_conf_mat=confusion_matrix(knn_pred,y_test)\n",
    "print('\\n')\n",
    "print(classification_report(knn_pred,y_test))\n",
    "print(\"\\n\")\n",
    "score=accuracy_score(knn_pred,y_test)\n",
    "print(score)"
   ]
  },
  {
   "cell_type": "markdown",
   "id": "a78d6eec",
   "metadata": {},
   "source": [
    "# Decision Tree"
   ]
  },
  {
   "cell_type": "code",
   "execution_count": 126,
   "id": "a4139b15",
   "metadata": {},
   "outputs": [
    {
     "data": {
      "text/plain": [
       "array([1, 0, 2, ..., 1, 0, 0], dtype=int64)"
      ]
     },
     "execution_count": 126,
     "metadata": {},
     "output_type": "execute_result"
    }
   ],
   "source": [
    "from sklearn.tree import DecisionTreeClassifier\n",
    "\n",
    "dc= DecisionTreeClassifier()\n",
    "dc.fit(x_train_std,y_train)\n",
    "dc_pred = dc.predict(x_test_std)\n",
    "dc_pred\n",
    "  "
   ]
  },
  {
   "cell_type": "code",
   "execution_count": 127,
   "id": "a53e4358",
   "metadata": {},
   "outputs": [
    {
     "name": "stdout",
     "output_type": "stream",
     "text": [
      "Model Accuracy on train is: 1.0\n"
     ]
    }
   ],
   "source": [
    "#Accuracy on train is:\n",
    "y_pred_train = dc.predict(x_train_std)\n",
    "score_train=accuracy_score(y_pred_train,y_train)\n",
    "print(\"Model Accuracy on train is:\", score_train)"
   ]
  },
  {
   "cell_type": "code",
   "execution_count": 128,
   "id": "42d29dc5",
   "metadata": {},
   "outputs": [
    {
     "name": "stdout",
     "output_type": "stream",
     "text": [
      "CONFUSION_MATRIX :\n",
      "\n",
      "[[3657    0    0    0]\n",
      " [   0 3594    2    0]\n",
      " [   0    3 3612    0]\n",
      " [   0    0    0 3577]]\n"
     ]
    }
   ],
   "source": [
    "print('CONFUSION_MATRIX :\\n')\n",
    "\n",
    "dc_conf_mat = confusion_matrix(dc_pred,y_test)\n",
    "print(dc_conf_mat)"
   ]
  },
  {
   "cell_type": "code",
   "execution_count": 131,
   "id": "69e237e1",
   "metadata": {},
   "outputs": [
    {
     "name": "stdout",
     "output_type": "stream",
     "text": [
      "ACCURACY :\n",
      "\n",
      "Model Accuracy on test is : 0.9996538594669436\n"
     ]
    }
   ],
   "source": [
    "print('ACCURACY :\\n')\n",
    "#metrics.accuracy_score(prediction,y_test)\n",
    "score_test=accuracy_score(dc_pred,y_test)\n",
    "print(\"Model Accuracy on test is :\",score_test)"
   ]
  },
  {
   "cell_type": "code",
   "execution_count": 132,
   "id": "3f56af52",
   "metadata": {},
   "outputs": [],
   "source": [
    "#preprunning:\n",
    "parameter={\n",
    "     'criterion':['gini', 'entropy', 'log_loss'],\n",
    "     'splitter':['best', 'random'],\n",
    "     'max_depth':[1,2,3,4,5],\n",
    "     'max_features':['auto', 'sqrt', 'log2'], \n",
    "     #'ccp_alpha':[1,2,3,4,5,6,7]\n",
    "}"
   ]
  },
  {
   "cell_type": "code",
   "execution_count": 133,
   "id": "ecb48be5",
   "metadata": {},
   "outputs": [],
   "source": [
    "dc= DecisionTreeClassifier()\n",
    "cv = GridSearchCV(dc,param_grid=parameter, cv= 5, scoring ='accuracy')"
   ]
  },
  {
   "cell_type": "code",
   "execution_count": 134,
   "id": "1aed5849",
   "metadata": {},
   "outputs": [
    {
     "data": {
      "text/html": [
       "<style>#sk-container-id-4 {color: black;background-color: white;}#sk-container-id-4 pre{padding: 0;}#sk-container-id-4 div.sk-toggleable {background-color: white;}#sk-container-id-4 label.sk-toggleable__label {cursor: pointer;display: block;width: 100%;margin-bottom: 0;padding: 0.3em;box-sizing: border-box;text-align: center;}#sk-container-id-4 label.sk-toggleable__label-arrow:before {content: \"▸\";float: left;margin-right: 0.25em;color: #696969;}#sk-container-id-4 label.sk-toggleable__label-arrow:hover:before {color: black;}#sk-container-id-4 div.sk-estimator:hover label.sk-toggleable__label-arrow:before {color: black;}#sk-container-id-4 div.sk-toggleable__content {max-height: 0;max-width: 0;overflow: hidden;text-align: left;background-color: #f0f8ff;}#sk-container-id-4 div.sk-toggleable__content pre {margin: 0.2em;color: black;border-radius: 0.25em;background-color: #f0f8ff;}#sk-container-id-4 input.sk-toggleable__control:checked~div.sk-toggleable__content {max-height: 200px;max-width: 100%;overflow: auto;}#sk-container-id-4 input.sk-toggleable__control:checked~label.sk-toggleable__label-arrow:before {content: \"▾\";}#sk-container-id-4 div.sk-estimator input.sk-toggleable__control:checked~label.sk-toggleable__label {background-color: #d4ebff;}#sk-container-id-4 div.sk-label input.sk-toggleable__control:checked~label.sk-toggleable__label {background-color: #d4ebff;}#sk-container-id-4 input.sk-hidden--visually {border: 0;clip: rect(1px 1px 1px 1px);clip: rect(1px, 1px, 1px, 1px);height: 1px;margin: -1px;overflow: hidden;padding: 0;position: absolute;width: 1px;}#sk-container-id-4 div.sk-estimator {font-family: monospace;background-color: #f0f8ff;border: 1px dotted black;border-radius: 0.25em;box-sizing: border-box;margin-bottom: 0.5em;}#sk-container-id-4 div.sk-estimator:hover {background-color: #d4ebff;}#sk-container-id-4 div.sk-parallel-item::after {content: \"\";width: 100%;border-bottom: 1px solid gray;flex-grow: 1;}#sk-container-id-4 div.sk-label:hover label.sk-toggleable__label {background-color: #d4ebff;}#sk-container-id-4 div.sk-serial::before {content: \"\";position: absolute;border-left: 1px solid gray;box-sizing: border-box;top: 0;bottom: 0;left: 50%;z-index: 0;}#sk-container-id-4 div.sk-serial {display: flex;flex-direction: column;align-items: center;background-color: white;padding-right: 0.2em;padding-left: 0.2em;position: relative;}#sk-container-id-4 div.sk-item {position: relative;z-index: 1;}#sk-container-id-4 div.sk-parallel {display: flex;align-items: stretch;justify-content: center;background-color: white;position: relative;}#sk-container-id-4 div.sk-item::before, #sk-container-id-4 div.sk-parallel-item::before {content: \"\";position: absolute;border-left: 1px solid gray;box-sizing: border-box;top: 0;bottom: 0;left: 50%;z-index: -1;}#sk-container-id-4 div.sk-parallel-item {display: flex;flex-direction: column;z-index: 1;position: relative;background-color: white;}#sk-container-id-4 div.sk-parallel-item:first-child::after {align-self: flex-end;width: 50%;}#sk-container-id-4 div.sk-parallel-item:last-child::after {align-self: flex-start;width: 50%;}#sk-container-id-4 div.sk-parallel-item:only-child::after {width: 0;}#sk-container-id-4 div.sk-dashed-wrapped {border: 1px dashed gray;margin: 0 0.4em 0.5em 0.4em;box-sizing: border-box;padding-bottom: 0.4em;background-color: white;}#sk-container-id-4 div.sk-label label {font-family: monospace;font-weight: bold;display: inline-block;line-height: 1.2em;}#sk-container-id-4 div.sk-label-container {text-align: center;}#sk-container-id-4 div.sk-container {/* jupyter's `normalize.less` sets `[hidden] { display: none; }` but bootstrap.min.css set `[hidden] { display: none !important; }` so we also need the `!important` here to be able to override the default hidden behavior on the sphinx rendered scikit-learn.org. See: https://github.com/scikit-learn/scikit-learn/issues/21755 */display: inline-block !important;position: relative;}#sk-container-id-4 div.sk-text-repr-fallback {display: none;}</style><div id=\"sk-container-id-4\" class=\"sk-top-container\"><div class=\"sk-text-repr-fallback\"><pre>GridSearchCV(cv=5, estimator=DecisionTreeClassifier(),\n",
       "             param_grid={&#x27;criterion&#x27;: [&#x27;gini&#x27;, &#x27;entropy&#x27;, &#x27;log_loss&#x27;],\n",
       "                         &#x27;max_depth&#x27;: [1, 2, 3, 4, 5],\n",
       "                         &#x27;max_features&#x27;: [&#x27;auto&#x27;, &#x27;sqrt&#x27;, &#x27;log2&#x27;],\n",
       "                         &#x27;splitter&#x27;: [&#x27;best&#x27;, &#x27;random&#x27;]},\n",
       "             scoring=&#x27;accuracy&#x27;)</pre><b>In a Jupyter environment, please rerun this cell to show the HTML representation or trust the notebook. <br />On GitHub, the HTML representation is unable to render, please try loading this page with nbviewer.org.</b></div><div class=\"sk-container\" hidden><div class=\"sk-item sk-dashed-wrapped\"><div class=\"sk-label-container\"><div class=\"sk-label sk-toggleable\"><input class=\"sk-toggleable__control sk-hidden--visually\" id=\"sk-estimator-id-6\" type=\"checkbox\" ><label for=\"sk-estimator-id-6\" class=\"sk-toggleable__label sk-toggleable__label-arrow\">GridSearchCV</label><div class=\"sk-toggleable__content\"><pre>GridSearchCV(cv=5, estimator=DecisionTreeClassifier(),\n",
       "             param_grid={&#x27;criterion&#x27;: [&#x27;gini&#x27;, &#x27;entropy&#x27;, &#x27;log_loss&#x27;],\n",
       "                         &#x27;max_depth&#x27;: [1, 2, 3, 4, 5],\n",
       "                         &#x27;max_features&#x27;: [&#x27;auto&#x27;, &#x27;sqrt&#x27;, &#x27;log2&#x27;],\n",
       "                         &#x27;splitter&#x27;: [&#x27;best&#x27;, &#x27;random&#x27;]},\n",
       "             scoring=&#x27;accuracy&#x27;)</pre></div></div></div><div class=\"sk-parallel\"><div class=\"sk-parallel-item\"><div class=\"sk-item\"><div class=\"sk-label-container\"><div class=\"sk-label sk-toggleable\"><input class=\"sk-toggleable__control sk-hidden--visually\" id=\"sk-estimator-id-7\" type=\"checkbox\" ><label for=\"sk-estimator-id-7\" class=\"sk-toggleable__label sk-toggleable__label-arrow\">estimator: DecisionTreeClassifier</label><div class=\"sk-toggleable__content\"><pre>DecisionTreeClassifier()</pre></div></div></div><div class=\"sk-serial\"><div class=\"sk-item\"><div class=\"sk-estimator sk-toggleable\"><input class=\"sk-toggleable__control sk-hidden--visually\" id=\"sk-estimator-id-8\" type=\"checkbox\" ><label for=\"sk-estimator-id-8\" class=\"sk-toggleable__label sk-toggleable__label-arrow\">DecisionTreeClassifier</label><div class=\"sk-toggleable__content\"><pre>DecisionTreeClassifier()</pre></div></div></div></div></div></div></div></div></div></div>"
      ],
      "text/plain": [
       "GridSearchCV(cv=5, estimator=DecisionTreeClassifier(),\n",
       "             param_grid={'criterion': ['gini', 'entropy', 'log_loss'],\n",
       "                         'max_depth': [1, 2, 3, 4, 5],\n",
       "                         'max_features': ['auto', 'sqrt', 'log2'],\n",
       "                         'splitter': ['best', 'random']},\n",
       "             scoring='accuracy')"
      ]
     },
     "execution_count": 134,
     "metadata": {},
     "output_type": "execute_result"
    }
   ],
   "source": [
    "cv.fit(x_train_std,y_train)"
   ]
  },
  {
   "cell_type": "code",
   "execution_count": 139,
   "id": "bcea3798",
   "metadata": {},
   "outputs": [
    {
     "data": {
      "text/plain": [
       "{'criterion': 'log_loss',\n",
       " 'max_depth': 5,\n",
       " 'max_features': 'auto',\n",
       " 'splitter': 'best'}"
      ]
     },
     "execution_count": 139,
     "metadata": {},
     "output_type": "execute_result"
    }
   ],
   "source": [
    "cv.best_params_"
   ]
  },
  {
   "cell_type": "code",
   "execution_count": 140,
   "id": "23a7ace3",
   "metadata": {},
   "outputs": [
    {
     "name": "stdout",
     "output_type": "stream",
     "text": [
      "Model Accuracy on train is: 0.9126499247131311\n"
     ]
    }
   ],
   "source": [
    "#Accuracy on train data:\n",
    "y_pred_train = cv.predict(x_train_std)\n",
    "score_train=accuracy_score(y_pred_train,y_train)\n",
    "print(\"Model Accuracy on train is:\", score_train)"
   ]
  },
  {
   "cell_type": "code",
   "execution_count": 141,
   "id": "be1eb391",
   "metadata": {},
   "outputs": [
    {
     "name": "stdout",
     "output_type": "stream",
     "text": [
      "Model Accuracy on train is: 0.9074420214607131\n"
     ]
    }
   ],
   "source": [
    "#Accuracy on test data:\n",
    "y_pred = cv.predict(x_test_std)\n",
    "score_test=accuracy_score(y_pred,y_test)\n",
    "print(\"Model Accuracy on train is:\", score_test)\n"
   ]
  },
  {
   "cell_type": "code",
   "execution_count": 54,
   "id": "cc87dc55",
   "metadata": {},
   "outputs": [],
   "source": [
    "#df"
   ]
  },
  {
   "cell_type": "code",
   "execution_count": 142,
   "id": "93c82059",
   "metadata": {},
   "outputs": [
    {
     "data": {
      "text/plain": [
       "array([0], dtype=int64)"
      ]
     },
     "execution_count": 142,
     "metadata": {},
     "output_type": "execute_result"
    }
   ],
   "source": [
    "cv.predict([[4.4,0.20,97.5,12.6,0.46,7.1,0.009,9.898625,0,30,2006,2,25]])"
   ]
  },
  {
   "cell_type": "code",
   "execution_count": 143,
   "id": "1f7445e1",
   "metadata": {},
   "outputs": [],
   "source": [
    "true_value = y_test\n",
    "predicted_value = y_pred\n",
    "#plt.plot(x, y)"
   ]
  },
  {
   "cell_type": "code",
   "execution_count": 144,
   "id": "8a81eaca",
   "metadata": {},
   "outputs": [
    {
     "data": {
      "image/png": "[encoded data removed]",
      "text/plain": [
       "<Figure size 720x360 with 1 Axes>"
      ]
     },
     "metadata": {
      "needs_background": "light"
     },
     "output_type": "display_data"
    }
   ],
   "source": [
    "plt.figure(figsize=(10,5))\n",
    "plt.scatter(true_value, predicted_value, c='crimson')\n",
    "plt.yscale('log')\n",
    "plt.xscale('log')\n",
    "\n",
    "p1 = max(max(predicted_value), max(true_value))\n",
    "p2 = min(min(predicted_value), min(true_value))\n",
    "plt.plot([p1, p2], [p1, p2], 'b-')\n",
    "plt.xlabel('True Values', fontsize=15)\n",
    "plt.ylabel('Predictions', fontsize=15)\n",
    "plt.axis('equal')\n",
    "plt.show()"
   ]
  },
  {
   "cell_type": "code",
   "execution_count": 145,
   "id": "f2d44710",
   "metadata": {},
   "outputs": [],
   "source": [
    "new_df=pd.DataFrame({'Actual':y_test, 'Predicted':y_pred})\n",
    "#new_df"
   ]
  },
  {
   "cell_type": "code",
   "execution_count": 146,
   "id": "da1d76c5",
   "metadata": {},
   "outputs": [
    {
     "data": {
      "image/png": "[encoded data removed]",
      "text/plain": [
       "<Figure size 360x504 with 1 Axes>"
      ]
     },
     "metadata": {
      "needs_background": "light"
     },
     "output_type": "display_data"
    }
   ],
   "source": [
    "import seaborn as sns\n",
    "plt.figure(figsize=(5, 7))\n",
    "\n",
    "\n",
    "ax = sns.distplot(y_res, hist=False, color=\"red\", label=\"Actual Value\")\n",
    "sns.distplot(dc_pred, hist=False, color=\"blue\", label=\"Fitted Values\" , ax=ax)\n",
    "\n",
    "\n",
    "plt.title('Actual vs Fitted Values for Price')\n",
    "\n",
    "\n",
    "plt.show()\n",
    "plt.close()"
   ]
  },
  {
   "cell_type": "markdown",
   "id": "16f56a80",
   "metadata": {},
   "source": [
    "# Random Forest"
   ]
  },
  {
   "cell_type": "code",
   "execution_count": 147,
   "id": "0f257a50",
   "metadata": {},
   "outputs": [],
   "source": [
    "rfc=RandomForestClassifier(n_estimators=100)\n",
    "rfc.fit(x_train_std,y_train)\n",
    "forest_pred=rfc.predict(x_test_std)"
   ]
  },
  {
   "cell_type": "code",
   "execution_count": 148,
   "id": "47d685f4",
   "metadata": {},
   "outputs": [
    {
     "name": "stdout",
     "output_type": "stream",
     "text": [
      "\n",
      "\n",
      "\n",
      "\n",
      "              precision    recall  f1-score   support\n",
      "\n",
      "           0       1.00      1.00      1.00      3657\n",
      "           1       1.00      1.00      1.00      3593\n",
      "           2       1.00      1.00      1.00      3618\n",
      "           3       1.00      1.00      1.00      3577\n",
      "\n",
      "    accuracy                           1.00     14445\n",
      "   macro avg       1.00      1.00      1.00     14445\n",
      "weighted avg       1.00      1.00      1.00     14445\n",
      "\n",
      "\n",
      "\n",
      "0.9997230875735549\n"
     ]
    }
   ],
   "source": [
    "#print('classification report',classification_report(forest_pred,y_test))\n",
    "print('\\n')\n",
    "rfc_conf_mat=confusion_matrix(forest_pred,y_test)\n",
    "print('\\n')\n",
    "print(classification_report(forest_pred,y_test))\n",
    "print(\"\\n\")\n",
    "score=accuracy_score(forest_pred,y_test)\n",
    "print(score)"
   ]
  },
  {
   "cell_type": "code",
   "execution_count": 149,
   "id": "0d01b089",
   "metadata": {},
   "outputs": [],
   "source": [
    "new_df=pd.DataFrame({'Actual':y_test, 'Predicted':forest_pred})\n",
    "#new_df"
   ]
  },
  {
   "cell_type": "code",
   "execution_count": 150,
   "id": "d4197a92",
   "metadata": {},
   "outputs": [
    {
     "data": {
      "image/png": "[encoded data removed]",
      "text/plain": [
       "<Figure size 360x504 with 1 Axes>"
      ]
     },
     "metadata": {
      "needs_background": "light"
     },
     "output_type": "display_data"
    }
   ],
   "source": [
    "import seaborn as sns\n",
    "plt.figure(figsize=(5, 7))\n",
    "\n",
    "\n",
    "ax = sns.distplot(y_res, hist=False, color=\"r\", label=\"Actual Value\")\n",
    "sns.distplot(y_pred, hist=False, color=\"b\", label=\"Fitted Values\" , ax=ax)\n",
    "\n",
    "\n",
    "plt.title('Actual vs Fitted Values for Price')\n",
    "\n",
    "\n",
    "plt.show()\n",
    "plt.close()"
   ]
  },
  {
   "cell_type": "markdown",
   "id": "6e515b18",
   "metadata": {},
   "source": [
    "# load test data set"
   ]
  },
  {
   "cell_type": "code",
   "execution_count": 151,
   "id": "a9d1c6b9",
   "metadata": {},
   "outputs": [
    {
     "data": {
      "text/html": [
       "<div>\n",
       "<style scoped>\n",
       "    .dataframe tbody tr th:only-of-type {\n",
       "        vertical-align: middle;\n",
       "    }\n",
       "\n",
       "    .dataframe tbody tr th {\n",
       "        vertical-align: top;\n",
       "    }\n",
       "\n",
       "    .dataframe thead th {\n",
       "        text-align: right;\n",
       "    }\n",
       "</style>\n",
       "<table border=\"1\" class=\"dataframe\">\n",
       "  <thead>\n",
       "    <tr style=\"text-align: right;\">\n",
       "      <th></th>\n",
       "      <th>SMPLDATETIME</th>\n",
       "      <th>STNCODE</th>\n",
       "      <th>USRCODES</th>\n",
       "      <th>Temp</th>\n",
       "      <th>SpCond</th>\n",
       "      <th>Sal</th>\n",
       "      <th>DO_pct</th>\n",
       "      <th>DO_mgl</th>\n",
       "      <th>Depth</th>\n",
       "      <th>pH</th>\n",
       "      <th>Turb</th>\n",
       "      <th>WQI</th>\n",
       "      <th>WQI_Class</th>\n",
       "    </tr>\n",
       "  </thead>\n",
       "  <tbody>\n",
       "    <tr>\n",
       "      <th>0</th>\n",
       "      <td>25-02-2006 01:00</td>\n",
       "      <td>deldswq</td>\n",
       "      <td>01:00:00</td>\n",
       "      <td>4.4</td>\n",
       "      <td>0.20</td>\n",
       "      <td>0.1</td>\n",
       "      <td>97.5</td>\n",
       "      <td>12.7</td>\n",
       "      <td>0.46</td>\n",
       "      <td>7.1</td>\n",
       "      <td>0.009</td>\n",
       "      <td>9.620504</td>\n",
       "      <td>Excellent</td>\n",
       "    </tr>\n",
       "    <tr>\n",
       "      <th>1</th>\n",
       "      <td>25-02-2006 01:30</td>\n",
       "      <td>deldswq</td>\n",
       "      <td>01:30:00</td>\n",
       "      <td>4.3</td>\n",
       "      <td>0.20</td>\n",
       "      <td>0.1</td>\n",
       "      <td>97.5</td>\n",
       "      <td>12.7</td>\n",
       "      <td>0.46</td>\n",
       "      <td>7.1</td>\n",
       "      <td>0.009</td>\n",
       "      <td>9.604559</td>\n",
       "      <td>Excellent</td>\n",
       "    </tr>\n",
       "    <tr>\n",
       "      <th>2</th>\n",
       "      <td>25-02-2006 02:00</td>\n",
       "      <td>deldswq</td>\n",
       "      <td>02:00:00</td>\n",
       "      <td>4.3</td>\n",
       "      <td>0.20</td>\n",
       "      <td>0.1</td>\n",
       "      <td>97.3</td>\n",
       "      <td>12.7</td>\n",
       "      <td>0.45</td>\n",
       "      <td>7.1</td>\n",
       "      <td>0.009</td>\n",
       "      <td>9.600074</td>\n",
       "      <td>Excellent</td>\n",
       "    </tr>\n",
       "    <tr>\n",
       "      <th>3</th>\n",
       "      <td>25-02-2006 02:30</td>\n",
       "      <td>deldswq</td>\n",
       "      <td>02:30:00</td>\n",
       "      <td>4.3</td>\n",
       "      <td>0.20</td>\n",
       "      <td>0.1</td>\n",
       "      <td>97.2</td>\n",
       "      <td>12.6</td>\n",
       "      <td>0.45</td>\n",
       "      <td>7.1</td>\n",
       "      <td>0.009</td>\n",
       "      <td>9.875953</td>\n",
       "      <td>Excellent</td>\n",
       "    </tr>\n",
       "    <tr>\n",
       "      <th>4</th>\n",
       "      <td>25-02-2006 03:00</td>\n",
       "      <td>deldswq</td>\n",
       "      <td>03:00:00</td>\n",
       "      <td>4.3</td>\n",
       "      <td>0.20</td>\n",
       "      <td>0.1</td>\n",
       "      <td>97.1</td>\n",
       "      <td>12.6</td>\n",
       "      <td>0.45</td>\n",
       "      <td>7.1</td>\n",
       "      <td>0.009</td>\n",
       "      <td>9.873710</td>\n",
       "      <td>Excellent</td>\n",
       "    </tr>\n",
       "    <tr>\n",
       "      <th>...</th>\n",
       "      <td>...</td>\n",
       "      <td>...</td>\n",
       "      <td>...</td>\n",
       "      <td>...</td>\n",
       "      <td>...</td>\n",
       "      <td>...</td>\n",
       "      <td>...</td>\n",
       "      <td>...</td>\n",
       "      <td>...</td>\n",
       "      <td>...</td>\n",
       "      <td>...</td>\n",
       "      <td>...</td>\n",
       "      <td>...</td>\n",
       "    </tr>\n",
       "    <tr>\n",
       "      <th>14197</th>\n",
       "      <td>31-12-2006 21:30</td>\n",
       "      <td>deldswq</td>\n",
       "      <td>21:30:00</td>\n",
       "      <td>7.7</td>\n",
       "      <td>0.17</td>\n",
       "      <td>0.1</td>\n",
       "      <td>86.9</td>\n",
       "      <td>10.4</td>\n",
       "      <td>0.40</td>\n",
       "      <td>6.9</td>\n",
       "      <td>0.011</td>\n",
       "      <td>16.298147</td>\n",
       "      <td>Excellent</td>\n",
       "    </tr>\n",
       "    <tr>\n",
       "      <th>14198</th>\n",
       "      <td>31-12-2006 22:00</td>\n",
       "      <td>deldswq</td>\n",
       "      <td>22:00:00</td>\n",
       "      <td>7.7</td>\n",
       "      <td>0.17</td>\n",
       "      <td>0.1</td>\n",
       "      <td>87.0</td>\n",
       "      <td>10.4</td>\n",
       "      <td>0.40</td>\n",
       "      <td>6.9</td>\n",
       "      <td>0.010</td>\n",
       "      <td>16.294648</td>\n",
       "      <td>Excellent</td>\n",
       "    </tr>\n",
       "    <tr>\n",
       "      <th>14199</th>\n",
       "      <td>31-12-2006 22:30</td>\n",
       "      <td>deldswq</td>\n",
       "      <td>22:30:00</td>\n",
       "      <td>7.8</td>\n",
       "      <td>0.17</td>\n",
       "      <td>0.1</td>\n",
       "      <td>86.6</td>\n",
       "      <td>10.3</td>\n",
       "      <td>0.39</td>\n",
       "      <td>6.9</td>\n",
       "      <td>0.010</td>\n",
       "      <td>16.579746</td>\n",
       "      <td>Excellent</td>\n",
       "    </tr>\n",
       "    <tr>\n",
       "      <th>14200</th>\n",
       "      <td>31-12-2006 23:00</td>\n",
       "      <td>deldswq</td>\n",
       "      <td>23:00:00</td>\n",
       "      <td>7.8</td>\n",
       "      <td>0.17</td>\n",
       "      <td>0.1</td>\n",
       "      <td>86.6</td>\n",
       "      <td>10.3</td>\n",
       "      <td>0.39</td>\n",
       "      <td>6.9</td>\n",
       "      <td>0.010</td>\n",
       "      <td>16.579746</td>\n",
       "      <td>Excellent</td>\n",
       "    </tr>\n",
       "    <tr>\n",
       "      <th>14201</th>\n",
       "      <td>31-12-2006 23:30</td>\n",
       "      <td>deldswq</td>\n",
       "      <td>23:30:00</td>\n",
       "      <td>7.8</td>\n",
       "      <td>0.17</td>\n",
       "      <td>0.1</td>\n",
       "      <td>86.4</td>\n",
       "      <td>10.3</td>\n",
       "      <td>0.38</td>\n",
       "      <td>6.9</td>\n",
       "      <td>0.010</td>\n",
       "      <td>16.575261</td>\n",
       "      <td>Excellent</td>\n",
       "    </tr>\n",
       "  </tbody>\n",
       "</table>\n",
       "<p>14202 rows × 13 columns</p>\n",
       "</div>"
      ],
      "text/plain": [
       "           SMPLDATETIME  STNCODE  USRCODES  Temp  SpCond  Sal  DO_pct  DO_mgl  \\\n",
       "0      25-02-2006 01:00  deldswq  01:00:00   4.4    0.20  0.1    97.5    12.7   \n",
       "1      25-02-2006 01:30  deldswq  01:30:00   4.3    0.20  0.1    97.5    12.7   \n",
       "2      25-02-2006 02:00  deldswq  02:00:00   4.3    0.20  0.1    97.3    12.7   \n",
       "3      25-02-2006 02:30  deldswq  02:30:00   4.3    0.20  0.1    97.2    12.6   \n",
       "4      25-02-2006 03:00  deldswq  03:00:00   4.3    0.20  0.1    97.1    12.6   \n",
       "...                 ...      ...       ...   ...     ...  ...     ...     ...   \n",
       "14197  31-12-2006 21:30  deldswq  21:30:00   7.7    0.17  0.1    86.9    10.4   \n",
       "14198  31-12-2006 22:00  deldswq  22:00:00   7.7    0.17  0.1    87.0    10.4   \n",
       "14199  31-12-2006 22:30  deldswq  22:30:00   7.8    0.17  0.1    86.6    10.3   \n",
       "14200  31-12-2006 23:00  deldswq  23:00:00   7.8    0.17  0.1    86.6    10.3   \n",
       "14201  31-12-2006 23:30  deldswq  23:30:00   7.8    0.17  0.1    86.4    10.3   \n",
       "\n",
       "       Depth   pH   Turb        WQI  WQI_Class  \n",
       "0       0.46  7.1  0.009   9.620504  Excellent  \n",
       "1       0.46  7.1  0.009   9.604559  Excellent  \n",
       "2       0.45  7.1  0.009   9.600074  Excellent  \n",
       "3       0.45  7.1  0.009   9.875953  Excellent  \n",
       "4       0.45  7.1  0.009   9.873710  Excellent  \n",
       "...      ...  ...    ...        ...        ...  \n",
       "14197   0.40  6.9  0.011  16.298147  Excellent  \n",
       "14198   0.40  6.9  0.010  16.294648  Excellent  \n",
       "14199   0.39  6.9  0.010  16.579746  Excellent  \n",
       "14200   0.39  6.9  0.010  16.579746  Excellent  \n",
       "14201   0.38  6.9  0.010  16.575261  Excellent  \n",
       "\n",
       "[14202 rows x 13 columns]"
      ]
     },
     "execution_count": 151,
     "metadata": {},
     "output_type": "execute_result"
    }
   ],
   "source": [
    "test_df = pd.read_csv(r\"C:\\Users\\RNARESHD\\OneDrive - Capgemini\\Desktop\\AIML\\DS_DF_WQI_Test.csv\")\n",
    "test_df"
   ]
  },
  {
   "cell_type": "markdown",
   "id": "d6c0654c",
   "metadata": {},
   "source": [
    "# Preprocessing"
   ]
  },
  {
   "cell_type": "code",
   "execution_count": 152,
   "id": "38eb62dd",
   "metadata": {},
   "outputs": [],
   "source": [
    "test_df['SMPLDATETIME']=pd.to_datetime(test_df['SMPLDATETIME'])"
   ]
  },
  {
   "cell_type": "code",
   "execution_count": 153,
   "id": "aa3272e0",
   "metadata": {},
   "outputs": [],
   "source": [
    "test_df['Time'],test_df['Date']= test_df['SMPLDATETIME'].apply(lambda x:x.time()), test_df['SMPLDATETIME'].apply(lambda x:x.date())\n",
    "test_df.drop(['SMPLDATETIME','USRCODES','STNCODE','Sal'],axis=1,inplace=True)"
   ]
  },
  {
   "cell_type": "code",
   "execution_count": 154,
   "id": "786e80da",
   "metadata": {},
   "outputs": [],
   "source": [
    "test_df[['Hours', 'Minutes', 'Seconds']] = test_df['Time'].astype(str).str.split(':', expand=True)\n",
    "test_df.drop([\"Time\",\"Seconds\"], axis = 1, inplace=True)\n",
    "test_df[[\"Year\",\"Month\",\"Day\"]] = test_df[\"Date\"].astype(str).str.split('-', expand= True)\n",
    "test_df.drop([\"Date\"], axis = 1, inplace = True)"
   ]
  },
  {
   "cell_type": "code",
   "execution_count": 155,
   "id": "6e31f8f9",
   "metadata": {},
   "outputs": [],
   "source": [
    "test_df[\"Day\"] = test_df[\"Day\"].astype(int)\n",
    "test_df[\"Hours\"] = test_df[\"Hours\"].astype(int)\n",
    "test_df[\"Minutes\"] = test_df[\"Minutes\"].astype(int)\n",
    "test_df[\"Year\"] = test_df[\"Year\"].astype(int)\n",
    "test_df[\"Month\"] = test_df[\"Month\"].astype(int)"
   ]
  },
  {
   "cell_type": "code",
   "execution_count": 156,
   "id": "6a45b963",
   "metadata": {},
   "outputs": [],
   "source": [
    "#test_df.isnull().sum()"
   ]
  },
  {
   "cell_type": "code",
   "execution_count": 157,
   "id": "bade8a8b",
   "metadata": {},
   "outputs": [
    {
     "data": {
      "text/plain": [
       "array(['Excellent', 'UFC', 'Good', 'Poor'], dtype=object)"
      ]
     },
     "execution_count": 157,
     "metadata": {},
     "output_type": "execute_result"
    }
   ],
   "source": [
    "test_df['WQI_Class'].unique()\n"
   ]
  },
  {
   "cell_type": "code",
   "execution_count": 160,
   "id": "66132b43",
   "metadata": {},
   "outputs": [],
   "source": [
    "test_df['WQI_Class'] = df['WQI_Class'].replace({'Excellent':3,'Good':2,'UFC':1,'Poor':0})"
   ]
  },
  {
   "cell_type": "code",
   "execution_count": 161,
   "id": "53f8fac9",
   "metadata": {},
   "outputs": [
    {
     "data": {
      "text/html": [
       "<div>\n",
       "<style scoped>\n",
       "    .dataframe tbody tr th:only-of-type {\n",
       "        vertical-align: middle;\n",
       "    }\n",
       "\n",
       "    .dataframe tbody tr th {\n",
       "        vertical-align: top;\n",
       "    }\n",
       "\n",
       "    .dataframe thead th {\n",
       "        text-align: right;\n",
       "    }\n",
       "</style>\n",
       "<table border=\"1\" class=\"dataframe\">\n",
       "  <thead>\n",
       "    <tr style=\"text-align: right;\">\n",
       "      <th></th>\n",
       "      <th>Temp</th>\n",
       "      <th>SpCond</th>\n",
       "      <th>DO_pct</th>\n",
       "      <th>DO_mgl</th>\n",
       "      <th>Depth</th>\n",
       "      <th>pH</th>\n",
       "      <th>Turb</th>\n",
       "      <th>WQI</th>\n",
       "      <th>WQI_Class</th>\n",
       "      <th>Hours</th>\n",
       "      <th>Minutes</th>\n",
       "      <th>Year</th>\n",
       "      <th>Month</th>\n",
       "      <th>Day</th>\n",
       "    </tr>\n",
       "  </thead>\n",
       "  <tbody>\n",
       "    <tr>\n",
       "      <th>0</th>\n",
       "      <td>4.4</td>\n",
       "      <td>0.2</td>\n",
       "      <td>97.5</td>\n",
       "      <td>12.7</td>\n",
       "      <td>0.46</td>\n",
       "      <td>7.1</td>\n",
       "      <td>0.009</td>\n",
       "      <td>9.620504</td>\n",
       "      <td>3</td>\n",
       "      <td>1</td>\n",
       "      <td>0</td>\n",
       "      <td>2006</td>\n",
       "      <td>2</td>\n",
       "      <td>25</td>\n",
       "    </tr>\n",
       "    <tr>\n",
       "      <th>1</th>\n",
       "      <td>4.3</td>\n",
       "      <td>0.2</td>\n",
       "      <td>97.5</td>\n",
       "      <td>12.7</td>\n",
       "      <td>0.46</td>\n",
       "      <td>7.1</td>\n",
       "      <td>0.009</td>\n",
       "      <td>9.604559</td>\n",
       "      <td>3</td>\n",
       "      <td>1</td>\n",
       "      <td>30</td>\n",
       "      <td>2006</td>\n",
       "      <td>2</td>\n",
       "      <td>25</td>\n",
       "    </tr>\n",
       "    <tr>\n",
       "      <th>2</th>\n",
       "      <td>4.3</td>\n",
       "      <td>0.2</td>\n",
       "      <td>97.3</td>\n",
       "      <td>12.7</td>\n",
       "      <td>0.45</td>\n",
       "      <td>7.1</td>\n",
       "      <td>0.009</td>\n",
       "      <td>9.600074</td>\n",
       "      <td>3</td>\n",
       "      <td>2</td>\n",
       "      <td>0</td>\n",
       "      <td>2006</td>\n",
       "      <td>2</td>\n",
       "      <td>25</td>\n",
       "    </tr>\n",
       "    <tr>\n",
       "      <th>3</th>\n",
       "      <td>4.3</td>\n",
       "      <td>0.2</td>\n",
       "      <td>97.2</td>\n",
       "      <td>12.6</td>\n",
       "      <td>0.45</td>\n",
       "      <td>7.1</td>\n",
       "      <td>0.009</td>\n",
       "      <td>9.875953</td>\n",
       "      <td>3</td>\n",
       "      <td>2</td>\n",
       "      <td>30</td>\n",
       "      <td>2006</td>\n",
       "      <td>2</td>\n",
       "      <td>25</td>\n",
       "    </tr>\n",
       "    <tr>\n",
       "      <th>4</th>\n",
       "      <td>4.3</td>\n",
       "      <td>0.2</td>\n",
       "      <td>97.1</td>\n",
       "      <td>12.6</td>\n",
       "      <td>0.45</td>\n",
       "      <td>7.1</td>\n",
       "      <td>0.009</td>\n",
       "      <td>9.873710</td>\n",
       "      <td>3</td>\n",
       "      <td>3</td>\n",
       "      <td>0</td>\n",
       "      <td>2006</td>\n",
       "      <td>2</td>\n",
       "      <td>25</td>\n",
       "    </tr>\n",
       "  </tbody>\n",
       "</table>\n",
       "</div>"
      ],
      "text/plain": [
       "   Temp  SpCond  DO_pct  DO_mgl  Depth   pH   Turb       WQI  WQI_Class  \\\n",
       "0   4.4     0.2    97.5    12.7   0.46  7.1  0.009  9.620504          3   \n",
       "1   4.3     0.2    97.5    12.7   0.46  7.1  0.009  9.604559          3   \n",
       "2   4.3     0.2    97.3    12.7   0.45  7.1  0.009  9.600074          3   \n",
       "3   4.3     0.2    97.2    12.6   0.45  7.1  0.009  9.875953          3   \n",
       "4   4.3     0.2    97.1    12.6   0.45  7.1  0.009  9.873710          3   \n",
       "\n",
       "   Hours  Minutes  Year  Month  Day  \n",
       "0      1        0  2006      2   25  \n",
       "1      1       30  2006      2   25  \n",
       "2      2        0  2006      2   25  \n",
       "3      2       30  2006      2   25  \n",
       "4      3        0  2006      2   25  "
      ]
     },
     "execution_count": 161,
     "metadata": {},
     "output_type": "execute_result"
    }
   ],
   "source": [
    "test_df.head()"
   ]
  },
  {
   "cell_type": "code",
   "execution_count": 162,
   "id": "670c62da",
   "metadata": {},
   "outputs": [
    {
     "data": {
      "text/plain": [
       "array([3, 3, 3, 3, 3], dtype=int64)"
      ]
     },
     "execution_count": 162,
     "metadata": {},
     "output_type": "execute_result"
    }
   ],
   "source": [
    "\n",
    "test_feature = test_df[['Temp','SpCond','DO_pct','DO_mgl','Depth','pH','Turb','WQI','Hours','Minutes','Year','Month','Day']]\n",
    "\n",
    "# normalize the test data\n",
    "test_x = preprocessing.StandardScaler().fit(test_feature).transform(test_feature)\n",
    "test_x[0:5]\n",
    "\n",
    "# and target result\n",
    "test_y = test_df['WQI_Class'].values\n",
    "test_y[0:5]"
   ]
  },
  {
   "cell_type": "code",
   "execution_count": null,
   "id": "38fd0727",
   "metadata": {},
   "outputs": [],
   "source": []
  },
  {
   "cell_type": "code",
   "execution_count": 163,
   "id": "b25fb594",
   "metadata": {},
   "outputs": [
    {
     "name": "stdout",
     "output_type": "stream",
     "text": [
      "Accuracy: 0.8387677397023191\n",
      "Accuracy of Logistic model: 0.8387677397023191\n"
     ]
    }
   ],
   "source": [
    "reg_model = LogisticRegression()\n",
    "reg_model.fit(x_train, y_train)\n",
    "y_pred = reg_model.predict(x_test)\n",
    "result = reg_model.score(x_test, y_test)\n",
    "print(\"Accuracy:\",result)\n",
    "#result = reg_model.score(reg_model_pred,y_test)\n",
    "#print(\"Accuracy :\", result)\n",
    "score=accuracy_score(y_pred,y_test)\n",
    "print(\"Accuracy of Logistic model:\", result)"
   ]
  },
  {
   "cell_type": "code",
   "execution_count": 164,
   "id": "07091dd7",
   "metadata": {},
   "outputs": [
    {
     "data": {
      "text/plain": [
       "array([1, 0, 0, ..., 1, 0, 0], dtype=int64)"
      ]
     },
     "execution_count": 164,
     "metadata": {},
     "output_type": "execute_result"
    }
   ],
   "source": [
    "y_pred = reg_model.predict(x_test)\n",
    "y_pred"
   ]
  },
  {
   "cell_type": "code",
   "execution_count": null,
   "id": "d7f09d38",
   "metadata": {},
   "outputs": [],
   "source": []
  },
  {
   "cell_type": "code",
   "execution_count": 165,
   "id": "7721c611",
   "metadata": {},
   "outputs": [
    {
     "name": "stdout",
     "output_type": "stream",
     "text": [
      "Accuracy of Decision model:  0.9996538594669436\n"
     ]
    }
   ],
   "source": [
    "dc_model= DecisionTreeClassifier(criterion='gini',max_depth=4,min_samples_leaf=1)\n",
    "classification = dc_model.fit(x_train,y_train)\n",
    "prediction = dc_model.predict(x_test)\n",
    "prediction\n",
    "test_scores = dc_model.score(x_test,y_test)\n",
    "print(\"Accuracy of Decision model: \",test_scores)"
   ]
  },
  {
   "cell_type": "code",
   "execution_count": null,
   "id": "8a213b24",
   "metadata": {},
   "outputs": [],
   "source": []
  }
 ],
 "metadata": {
  "kernelspec": {
   "display_name": "Python 3 (ipykernel)",
   "language": "python",
   "name": "python3"
  },
  "language_info": {
   "codemirror_mode": {
    "name": "ipython",
    "version": 3
   },
   "file_extension": ".py",
   "mimetype": "text/x-python",
   "name": "python",
   "nbconvert_exporter": "python",
   "pygments_lexer": "ipython3",
   "version": "3.9.7"
  }
 },
 "nbformat": 4,
 "nbformat_minor": 5
}
