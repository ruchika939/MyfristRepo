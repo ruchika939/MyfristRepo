{
 "cells": [
  {
   "cell_type": "markdown",
   "id": "2cdfa1ca",
   "metadata": {},
   "source": [
    "# Importing Libraries:"
   ]
  },
  {
   "cell_type": "code",
   "execution_count": 1,
   "id": "970b1c55",
   "metadata": {},
   "outputs": [],
   "source": [
    "import pandas as pd\n",
    "import numpy as np\n",
    "import seaborn as sns\n",
    "import matplotlib.pyplot as plt\n",
    "%matplotlib inline"
   ]
  },
  {
   "cell_type": "markdown",
   "id": "ef0e5cb6",
   "metadata": {},
   "source": [
    "# READ DATA:"
   ]
  },
  {
   "cell_type": "code",
   "execution_count": 2,
   "id": "2e557f6f",
   "metadata": {},
   "outputs": [],
   "source": [
    "df = pd.read_csv(\"Airlines.csv\")"
   ]
  },
  {
   "cell_type": "code",
   "execution_count": 3,
   "id": "69434d7a",
   "metadata": {},
   "outputs": [
    {
     "data": {
      "text/html": [
       "<div>\n",
       "<style scoped>\n",
       "    .dataframe tbody tr th:only-of-type {\n",
       "        vertical-align: middle;\n",
       "    }\n",
       "\n",
       "    .dataframe tbody tr th {\n",
       "        vertical-align: top;\n",
       "    }\n",
       "\n",
       "    .dataframe thead th {\n",
       "        text-align: right;\n",
       "    }\n",
       "</style>\n",
       "<table border=\"1\" class=\"dataframe\">\n",
       "  <thead>\n",
       "    <tr style=\"text-align: right;\">\n",
       "      <th></th>\n",
       "      <th>id</th>\n",
       "      <th>Airline</th>\n",
       "      <th>Flight</th>\n",
       "      <th>AirportFrom</th>\n",
       "      <th>AirportTo</th>\n",
       "      <th>DayOfWeek</th>\n",
       "      <th>Time</th>\n",
       "      <th>Length</th>\n",
       "      <th>Delay</th>\n",
       "    </tr>\n",
       "  </thead>\n",
       "  <tbody>\n",
       "    <tr>\n",
       "      <th>0</th>\n",
       "      <td>1</td>\n",
       "      <td>CO</td>\n",
       "      <td>269</td>\n",
       "      <td>SFO</td>\n",
       "      <td>IAH</td>\n",
       "      <td>3</td>\n",
       "      <td>15</td>\n",
       "      <td>205</td>\n",
       "      <td>1</td>\n",
       "    </tr>\n",
       "    <tr>\n",
       "      <th>1</th>\n",
       "      <td>2</td>\n",
       "      <td>US</td>\n",
       "      <td>1558</td>\n",
       "      <td>PHX</td>\n",
       "      <td>CLT</td>\n",
       "      <td>3</td>\n",
       "      <td>15</td>\n",
       "      <td>222</td>\n",
       "      <td>1</td>\n",
       "    </tr>\n",
       "    <tr>\n",
       "      <th>2</th>\n",
       "      <td>3</td>\n",
       "      <td>AA</td>\n",
       "      <td>2400</td>\n",
       "      <td>LAX</td>\n",
       "      <td>DFW</td>\n",
       "      <td>3</td>\n",
       "      <td>20</td>\n",
       "      <td>165</td>\n",
       "      <td>1</td>\n",
       "    </tr>\n",
       "    <tr>\n",
       "      <th>3</th>\n",
       "      <td>4</td>\n",
       "      <td>AA</td>\n",
       "      <td>2466</td>\n",
       "      <td>SFO</td>\n",
       "      <td>DFW</td>\n",
       "      <td>3</td>\n",
       "      <td>20</td>\n",
       "      <td>195</td>\n",
       "      <td>1</td>\n",
       "    </tr>\n",
       "    <tr>\n",
       "      <th>4</th>\n",
       "      <td>5</td>\n",
       "      <td>AS</td>\n",
       "      <td>108</td>\n",
       "      <td>ANC</td>\n",
       "      <td>SEA</td>\n",
       "      <td>3</td>\n",
       "      <td>30</td>\n",
       "      <td>202</td>\n",
       "      <td>0</td>\n",
       "    </tr>\n",
       "  </tbody>\n",
       "</table>\n",
       "</div>"
      ],
      "text/plain": [
       "   id Airline  Flight AirportFrom AirportTo  DayOfWeek  Time  Length  Delay\n",
       "0   1      CO     269         SFO       IAH          3    15     205      1\n",
       "1   2      US    1558         PHX       CLT          3    15     222      1\n",
       "2   3      AA    2400         LAX       DFW          3    20     165      1\n",
       "3   4      AA    2466         SFO       DFW          3    20     195      1\n",
       "4   5      AS     108         ANC       SEA          3    30     202      0"
      ]
     },
     "execution_count": 3,
     "metadata": {},
     "output_type": "execute_result"
    }
   ],
   "source": [
    "df.head()"
   ]
  },
  {
   "cell_type": "code",
   "execution_count": 5,
   "id": "4eb8eb34",
   "metadata": {},
   "outputs": [
    {
     "data": {
      "text/plain": [
       "WN    94097\n",
       "DL    60940\n",
       "OO    50254\n",
       "AA    45656\n",
       "MQ    36605\n",
       "US    34500\n",
       "XE    31126\n",
       "EV    27983\n",
       "UA    27619\n",
       "CO    21118\n",
       "FL    20827\n",
       "9E    20686\n",
       "B6    18112\n",
       "YV    13725\n",
       "OH    12630\n",
       "AS    11471\n",
       "F9     6456\n",
       "HA     5578\n",
       "Name: Airline, dtype: int64"
      ]
     },
     "execution_count": 5,
     "metadata": {},
     "output_type": "execute_result"
    }
   ],
   "source": [
    "#df.shape\n",
    "df[\"Airline\"].value_counts()"
   ]
  },
  {
   "cell_type": "code",
   "execution_count": 5,
   "id": "582c3be7",
   "metadata": {},
   "outputs": [
    {
     "data": {
      "text/plain": [
       "id              int64\n",
       "Airline        object\n",
       "Flight          int64\n",
       "AirportFrom    object\n",
       "AirportTo      object\n",
       "DayOfWeek       int64\n",
       "Time            int64\n",
       "Length          int64\n",
       "Delay           int64\n",
       "dtype: object"
      ]
     },
     "execution_count": 5,
     "metadata": {},
     "output_type": "execute_result"
    }
   ],
   "source": [
    "df.dtypes"
   ]
  },
  {
   "cell_type": "markdown",
   "id": "cf2cd3a5",
   "metadata": {},
   "source": [
    "# EDA:"
   ]
  },
  {
   "cell_type": "code",
   "execution_count": 6,
   "id": "898b9789",
   "metadata": {},
   "outputs": [
    {
     "data": {
      "text/plain": [
       "[]"
      ]
     },
     "execution_count": 6,
     "metadata": {},
     "output_type": "execute_result"
    }
   ],
   "source": [
    "##check missing value:\n",
    "missing_value =[feature for feature in df.columns if df[feature].isnull().sum()]\n",
    "missing_value"
   ]
  },
  {
   "cell_type": "code",
   "execution_count": 7,
   "id": "2bbf4e9d",
   "metadata": {},
   "outputs": [
    {
     "data": {
      "text/plain": [
       "['id', 'Flight', 'DayOfWeek', 'Time', 'Length', 'Delay']"
      ]
     },
     "execution_count": 7,
     "metadata": {},
     "output_type": "execute_result"
    }
   ],
   "source": [
    "###Numeric Features\n",
    "numeric_features=[feature for feature in df.columns if df[feature].dtype!=\"O\"]\n",
    "numeric_features"
   ]
  },
  {
   "cell_type": "code",
   "execution_count": 8,
   "id": "90fb6c81",
   "metadata": {},
   "outputs": [
    {
     "name": "stdout",
     "output_type": "stream",
     "text": [
      "Discrete variable count :2\n"
     ]
    }
   ],
   "source": [
    "##Discrete Feature\n",
    "Discrete_features=[feature for feature in numeric_features if len(df[feature].unique())<25]\n",
    "Discrete_features\n",
    "#print(\"Discrete_features\",len(Discrete_features))\n",
    "print(\"Discrete variable count :{}\".format(len(Discrete_features)))\n"
   ]
  },
  {
   "cell_type": "code",
   "execution_count": 9,
   "id": "0532f1ce",
   "metadata": {},
   "outputs": [
    {
     "data": {
      "text/plain": [
       "['id', 'Flight', 'Time', 'Length']"
      ]
     },
     "execution_count": 9,
     "metadata": {},
     "output_type": "execute_result"
    }
   ],
   "source": [
    "##Continous Features:\n",
    "continous_features = [feature for feature in numeric_features if feature not in Discrete_features]\n",
    "continous_features"
   ]
  },
  {
   "cell_type": "code",
   "execution_count": 10,
   "id": "c8e82999",
   "metadata": {},
   "outputs": [
    {
     "data": {
      "image/png": "[encoded data removed]",
      "text/plain": [
       "<Figure size 432x288 with 1 Axes>"
      ]
     },
     "metadata": {
      "needs_background": "light"
     },
     "output_type": "display_data"
    },
    {
     "data": {
      "image/png": "[encoded data removed]",
      "text/plain": [
       "<Figure size 432x288 with 1 Axes>"
      ]
     },
     "metadata": {
      "needs_background": "light"
     },
     "output_type": "display_data"
    },
    {
     "data": {
      "image/png": "[encoded data removed]",
      "text/plain": [
       "<Figure size 432x288 with 1 Axes>"
      ]
     },
     "metadata": {
      "needs_background": "light"
     },
     "output_type": "display_data"
    },
    {
     "data": {
      "image/png": "[encoded data removed]",
      "text/plain": [
       "<Figure size 432x288 with 1 Axes>"
      ]
     },
     "metadata": {
      "needs_background": "light"
     },
     "output_type": "display_data"
    }
   ],
   "source": [
    "##let analysis the continous feature by creating histogram to understand :\n",
    "for feature in continous_features:\n",
    "    data =df.copy()\n",
    "    data[feature].hist(bins=25)\n",
    "    plt.xlabel(feature)\n",
    "    plt.ylabel('count')\n",
    "    plt.title(feature)\n",
    "    plt.show()\n",
    "    "
   ]
  },
  {
   "cell_type": "code",
   "execution_count": 10,
   "id": "e2215bf6",
   "metadata": {},
   "outputs": [
    {
     "name": "stderr",
     "output_type": "stream",
     "text": [
      "C:\\Users\\RNARESHD\\Anaconda3\\lib\\site-packages\\pandas\\core\\arraylike.py:364: RuntimeWarning: divide by zero encountered in log\n",
      "  result = getattr(ufunc, method)(*inputs, **kwargs)\n"
     ]
    },
    {
     "data": {
      "image/png": "[encoded data removed]",
      "text/plain": [
       "<Figure size 432x288 with 1 Axes>"
      ]
     },
     "metadata": {
      "needs_background": "light"
     },
     "output_type": "display_data"
    },
    {
     "data": {
      "image/png": "[encoded data removed]",
      "text/plain": [
       "<Figure size 432x288 with 1 Axes>"
      ]
     },
     "metadata": {
      "needs_background": "light"
     },
     "output_type": "display_data"
    },
    {
     "data": {
      "image/png": "[encoded data removed]",
      "text/plain": [
       "<Figure size 432x288 with 1 Axes>"
      ]
     },
     "metadata": {
      "needs_background": "light"
     },
     "output_type": "display_data"
    }
   ],
   "source": [
    "##logarithmic Transformation:\n",
    "for feature in continous_features:\n",
    "    data = df.copy()\n",
    "    if 0 in data[feature].unique():\n",
    "        pass\n",
    "    else:\n",
    "        data[feature]=np.log(data[feature])\n",
    "        data[feature]=np.log(data[\"Delay\"])\n",
    "        plt.scatter(data[feature],data[\"Delay\"])\n",
    "        plt.xlabel(feature)\n",
    "        plt.ylabel(\"Delay\")\n",
    "        plt.title(feature)\n",
    "        plt.show()"
   ]
  },
  {
   "cell_type": "code",
   "execution_count": 11,
   "id": "cc2717b2",
   "metadata": {},
   "outputs": [
    {
     "data": {
      "text/plain": [
       "Index(['id', 'Airline', 'Flight', 'AirportFrom', 'AirportTo', 'DayOfWeek',\n",
       "       'Time', 'Length', 'Delay'],\n",
       "      dtype='object')"
      ]
     },
     "execution_count": 11,
     "metadata": {},
     "output_type": "execute_result"
    }
   ],
   "source": [
    "df.columns"
   ]
  },
  {
   "cell_type": "code",
   "execution_count": 12,
   "id": "ed2d738c",
   "metadata": {},
   "outputs": [
    {
     "data": {
      "text/plain": [
       "<AxesSubplot:xlabel='Time', ylabel='Count'>"
      ]
     },
     "execution_count": 12,
     "metadata": {},
     "output_type": "execute_result"
    },
    {
     "data": {
      "image/png": "[encoded data removed]",
      "text/plain": [
       "<Figure size 432x288 with 1 Axes>"
      ]
     },
     "metadata": {
      "needs_background": "light"
     },
     "output_type": "display_data"
    }
   ],
   "source": [
    "sns.histplot(df[\"Time\"])"
   ]
  },
  {
   "cell_type": "code",
   "execution_count": 13,
   "id": "b6069464",
   "metadata": {},
   "outputs": [
    {
     "data": {
      "image/png": "[encoded data removed]",
      "text/plain": [
       "<Figure size 432x288 with 1 Axes>"
      ]
     },
     "metadata": {
      "needs_background": "light"
     },
     "output_type": "display_data"
    },
    {
     "data": {
      "image/png": "[encoded data removed]",
      "text/plain": [
       "<Figure size 432x288 with 1 Axes>"
      ]
     },
     "metadata": {
      "needs_background": "light"
     },
     "output_type": "display_data"
    },
    {
     "data": {
      "image/png": "[encoded data removed]",
      "text/plain": [
       "<Figure size 432x288 with 1 Axes>"
      ]
     },
     "metadata": {
      "needs_background": "light"
     },
     "output_type": "display_data"
    }
   ],
   "source": [
    "###To check outlier:\n",
    "for feature in continous_features:\n",
    "    data = df.copy()\n",
    "    if 0 in data[feature].unique():\n",
    "        pass\n",
    "    else:\n",
    "        data[feature]=np.log(data[feature])\n",
    "        data.boxplot(column=feature)\n",
    "        plt.ylabel(feature)\n",
    "        plt.title(feature)\n",
    "        plt.show()"
   ]
  },
  {
   "cell_type": "code",
   "execution_count": 14,
   "id": "45ec7bd9",
   "metadata": {},
   "outputs": [
    {
     "data": {
      "text/plain": [
       "['Airline', 'AirportFrom', 'AirportTo']"
      ]
     },
     "execution_count": 14,
     "metadata": {},
     "output_type": "execute_result"
    }
   ],
   "source": [
    "##lets check categorical feature\n",
    "categorical_feature=[feature for feature in df.columns if df[feature].dtype==\"O\"]\n",
    "categorical_feature"
   ]
  },
  {
   "cell_type": "code",
   "execution_count": 15,
   "id": "d4314759",
   "metadata": {},
   "outputs": [
    {
     "data": {
      "text/plain": [
       "WN    94097\n",
       "DL    60940\n",
       "OO    50254\n",
       "AA    45656\n",
       "MQ    36605\n",
       "US    34500\n",
       "XE    31126\n",
       "EV    27983\n",
       "UA    27619\n",
       "CO    21118\n",
       "FL    20827\n",
       "9E    20686\n",
       "B6    18112\n",
       "YV    13725\n",
       "OH    12630\n",
       "AS    11471\n",
       "F9     6456\n",
       "HA     5578\n",
       "Name: Airline, dtype: int64"
      ]
     },
     "execution_count": 15,
     "metadata": {},
     "output_type": "execute_result"
    }
   ],
   "source": [
    "df['Airline'].value_counts()"
   ]
  },
  {
   "cell_type": "code",
   "execution_count": 16,
   "id": "49057265",
   "metadata": {},
   "outputs": [
    {
     "data": {
      "text/plain": [
       "array(['SFO', 'PHX', 'LAX', 'ANC', 'LAS', 'SLC', 'DEN', 'ONT', 'FAI',\n",
       "       'BQN', 'PSE', 'HNL', 'BIS', 'IYK', 'EWR', 'BOS', 'MKE', 'GFK',\n",
       "       'OMA', 'GSO', 'LMT', 'SEA', 'MCO', 'TPA', 'DLH', 'MSP', 'FAR',\n",
       "       'MFE', 'MSY', 'VPS', 'BWI', 'MAF', 'LWS', 'RST', 'ALB', 'DSM',\n",
       "       'CHS', 'MSN', 'JAX', 'SAT', 'PNS', 'BHM', 'LIT', 'SAV', 'BNA',\n",
       "       'ICT', 'ECP', 'DHN', 'MGM', 'CAE', 'PWM', 'ACV', 'EKO', 'PHL',\n",
       "       'ATL', 'PDX', 'RIC', 'BTR', 'HRL', 'MYR', 'TUS', 'SBN', 'CAK',\n",
       "       'TVC', 'CLE', 'ORD', 'DAY', 'MFR', 'BTV', 'TLH', 'TYS', 'DFW',\n",
       "       'FLL', 'AUS', 'CHA', 'CMH', 'LRD', 'BRO', 'CRP', 'LAN', 'PVD',\n",
       "       'FWA', 'JFK', 'LGA', 'OKC', 'PIT', 'PBI', 'ORF', 'DCA', 'AEX',\n",
       "       'SYR', 'SHV', 'VLD', 'BDL', 'FAT', 'BZN', 'RDM', 'LFT', 'IPL',\n",
       "       'EAU', 'ERI', 'BUF', 'IAH', 'MCI', 'AGS', 'ABI', 'GRR', 'LBB',\n",
       "       'CLT', 'LEX', 'MBS', 'MOD', 'AMA', 'SGF', 'AZO', 'ABE', 'SWF',\n",
       "       'BGM', 'AVP', 'FNT', 'GSP', 'ATW', 'ITH', 'TUL', 'COS', 'ELP',\n",
       "       'ABQ', 'SMF', 'STL', 'IAD', 'DTW', 'RDU', 'RSW', 'OAK', 'ROC',\n",
       "       'IND', 'CVG', 'MDW', 'SDF', 'ABY', 'TRI', 'XNA', 'ROA', 'MLI',\n",
       "       'LYH', 'EVV', 'HPN', 'FAY', 'EWN', 'CSG', 'GPT', 'MLU', 'MOB',\n",
       "       'OAJ', 'CHO', 'ILM', 'BMI', 'PHF', 'ACY', 'JAN', 'CID', 'GRK',\n",
       "       'HOU', 'CRW', 'HTS', 'PSC', 'BOI', 'SBP', 'CLD', 'PSP', 'SBA',\n",
       "       'MEM', 'MRY', 'GEG', 'RDD', 'PAH', 'CMX', 'SPI', 'EUG', 'CIC',\n",
       "       'PIH', 'SGU', 'COD', 'MIA', 'MHT', 'GRB', 'FSD', 'SJU', 'AVL',\n",
       "       'BFL', 'RAP', 'DRO', 'PIA', 'OGG', 'SIT', 'TXK', 'RNO', 'DAL',\n",
       "       'SCE', 'MEI', 'MDT', 'FCA', 'SJC', 'KOA', 'PLN', 'SAN', 'GNV',\n",
       "       'HLN', 'GJT', 'CPR', 'FSM', 'CMI', 'GTF', 'HDN', 'ITO', 'MTJ',\n",
       "       'HSV', 'BTM', 'BIL', 'COU', 'MSO', 'SMX', 'TWF', 'ISP', 'GCC',\n",
       "       'LIH', 'LNK', 'DAB', 'SNA', 'MQT', 'LGB', 'CWA', 'LSE', 'BUR',\n",
       "       'ACT', 'MHK', 'MOT', 'IDA', 'SUN', 'GTR', 'MLB', 'SRQ', 'JAC',\n",
       "       'ASE', 'LCH', 'JNU', 'ROW', 'BQK', 'YUM', 'FLG', 'EGE', 'GUC',\n",
       "       'EYW', 'RKS', 'BGR', 'ELM', 'ADQ', 'OTZ', 'OTH', 'STT', 'KTN',\n",
       "       'BET', 'SJT', 'CDC', 'CEC', 'SPS', 'SCC', 'STX', 'OME', 'MKG',\n",
       "       'WRG', 'TYR', 'BRW', 'GGG', 'PSG', 'BKG', 'YAK', 'CLL', 'SAF',\n",
       "       'CYS', 'LWB', 'CDV', 'FLO', 'BLI', 'DBQ', 'TOL', 'UTM', 'PIE',\n",
       "       'ADK', 'ABR', 'TEX', 'MMH', 'GUM'], dtype=object)"
      ]
     },
     "execution_count": 16,
     "metadata": {},
     "output_type": "execute_result"
    }
   ],
   "source": [
    "df['AirportFrom'].unique()"
   ]
  },
  {
   "cell_type": "code",
   "execution_count": 17,
   "id": "7737a407",
   "metadata": {},
   "outputs": [
    {
     "data": {
      "text/plain": [
       "ATL    0.063867\n",
       "ORD    0.046019\n",
       "DFW    0.041073\n",
       "DEN    0.036788\n",
       "LAX    0.030882\n",
       "         ...   \n",
       "MMH    0.000030\n",
       "SJT    0.000028\n",
       "GUM    0.000019\n",
       "ADK    0.000017\n",
       "ABR    0.000004\n",
       "Name: AirportFrom, Length: 293, dtype: float64"
      ]
     },
     "execution_count": 17,
     "metadata": {},
     "output_type": "execute_result"
    }
   ],
   "source": [
    "df['AirportFrom'].value_counts(100)"
   ]
  },
  {
   "cell_type": "code",
   "execution_count": 18,
   "id": "2c0e384c",
   "metadata": {},
   "outputs": [
    {
     "data": {
      "text/plain": [
       "539383"
      ]
     },
     "execution_count": 18,
     "metadata": {},
     "output_type": "execute_result"
    }
   ],
   "source": [
    "df[\"AirportFrom\"].count()"
   ]
  },
  {
   "cell_type": "code",
   "execution_count": 19,
   "id": "55ffa174",
   "metadata": {},
   "outputs": [
    {
     "data": {
      "text/plain": [
       "array(['IAH', 'CLT', 'DFW', 'SEA', 'MSP', 'DTW', 'ORD', 'ATL', 'PDX',\n",
       "       'JFK', 'SLC', 'HNL', 'PHX', 'MCO', 'OGG', 'LAX', 'KOA', 'ITO',\n",
       "       'SFO', 'MIA', 'IAD', 'SMF', 'PHL', 'LIH', 'DEN', 'LGA', 'MEM',\n",
       "       'CVG', 'YUM', 'CWA', 'MKE', 'BQN', 'FAI', 'LAS', 'ANC', 'BOS',\n",
       "       'LGB', 'FLL', 'SJU', 'EWR', 'DCA', 'BWI', 'RDU', 'MCI', 'TYS',\n",
       "       'SAN', 'ONT', 'OAK', 'MDW', 'BNA', 'DAL', 'CLE', 'JAX', 'JNU',\n",
       "       'RNO', 'ELP', 'SAT', 'OTZ', 'MBS', 'BDL', 'STL', 'HOU', 'AUS',\n",
       "       'SNA', 'SJC', 'LIT', 'TUS', 'TUL', 'CMH', 'LAN', 'IND', 'AMA',\n",
       "       'CRP', 'PIT', 'RKS', 'FWA', 'TPA', 'PBI', 'JAN', 'DSM', 'ADQ',\n",
       "       'GRB', 'PVD', 'ABQ', 'SDF', 'RSW', 'MSY', 'BUR', 'BOI', 'TLH',\n",
       "       'BHM', 'ACV', 'ORF', 'BET', 'KTN', 'RIC', 'SRQ', 'BTR', 'XNA',\n",
       "       'MHT', 'GRR', 'SBN', 'SBA', 'ROA', 'CID', 'GPT', 'MFR', 'SGU',\n",
       "       'HPN', 'OMA', 'OTH', 'GSP', 'LMT', 'BUF', 'MSN', 'BFL', 'CAE',\n",
       "       'HRL', 'OKC', 'SYR', 'COS', 'BTV', 'CDC', 'SCC', 'DAY', 'SJT',\n",
       "       'TVC', 'ROC', 'ISP', 'MRY', 'SBP', 'MLI', 'MOB', 'CIC', 'SAV',\n",
       "       'FAT', 'EKO', 'GEG', 'ECP', 'LFT', 'SUN', 'HSV', 'SHV', 'CHA',\n",
       "       'CAK', 'BZN', 'MAF', 'GSO', 'MDT', 'PHF', 'ICT', 'AZO', 'RAP',\n",
       "       'CHS', 'CLD', 'MKG', 'VPS', 'PIH', 'ATW', 'AGS', 'PNS', 'BIL',\n",
       "       'SPI', 'FAR', 'CPR', 'PIA', 'SPS', 'TWF', 'LBB', 'ALB', 'CEC',\n",
       "       'DRO', 'GJT', 'GNV', 'RST', 'AVL', 'GRK', 'PSP', 'LEX', 'TRI',\n",
       "       'SGF', 'FSM', 'RDD', 'OME', 'MFE', 'LSE', 'BMI', 'MYR', 'FAY',\n",
       "       'FSD', 'EUG', 'MGM', 'EVV', 'MLB', 'FNT', 'STT', 'WRG', 'ABE',\n",
       "       'BIS', 'MOT', 'MLU', 'GFK', 'RDM', 'COU', 'LRD', 'PSC', 'MOD',\n",
       "       'PWM', 'ILM', 'ABY', 'CRW', 'TXK', 'BRO', 'BRW', 'EYW', 'DAB',\n",
       "       'ROW', 'ABI', 'EAU', 'TYR', 'MSO', 'FLG', 'CSG', 'VLD', 'DHN',\n",
       "       'OAJ', 'AEX', 'CHO', 'SAF', 'GGG', 'FCA', 'ASE', 'BKG', 'MHK',\n",
       "       'LNK', 'MQT', 'YAK', 'GTR', 'SMX', 'SWF', 'ITH', 'AVP', 'ELM',\n",
       "       'BGM', 'SIT', 'PSG', 'CYS', 'CLL', 'SCE', 'LWB', 'LCH', 'GCC',\n",
       "       'IYK', 'LWS', 'COD', 'HLN', 'BQK', 'GTF', 'DLH', 'BTM', 'EGE',\n",
       "       'IDA', 'JAC', 'HDN', 'MTJ', 'CMX', 'CMI', 'CDV', 'LYH', 'ACT',\n",
       "       'STX', 'IPL', 'PAH', 'HTS', 'MEI', 'BLI', 'ERI', 'EWN', 'FLO',\n",
       "       'ACY', 'DBQ', 'TOL', 'GUC', 'PLN', 'BGR', 'PSE', 'PIE', 'UTM',\n",
       "       'ADK', 'ABR', 'TEX', 'MMH', 'GUM'], dtype=object)"
      ]
     },
     "execution_count": 19,
     "metadata": {},
     "output_type": "execute_result"
    }
   ],
   "source": [
    "df[\"AirportTo\"].unique()"
   ]
  },
  {
   "cell_type": "code",
   "execution_count": 20,
   "id": "ba3a76bc",
   "metadata": {},
   "outputs": [
    {
     "data": {
      "text/plain": [
       "ATL    34440\n",
       "ORD    24871\n",
       "DFW    22153\n",
       "DEN    19848\n",
       "LAX    16656\n",
       "       ...  \n",
       "MMH       16\n",
       "SJT       15\n",
       "GUM       10\n",
       "ADK        9\n",
       "ABR        2\n",
       "Name: AirportTo, Length: 293, dtype: int64"
      ]
     },
     "execution_count": 20,
     "metadata": {},
     "output_type": "execute_result"
    }
   ],
   "source": [
    "df[\"AirportTo\"].value_counts()"
   ]
  },
  {
   "cell_type": "code",
   "execution_count": 21,
   "id": "9d6dceee",
   "metadata": {},
   "outputs": [
    {
     "name": "stdout",
     "output_type": "stream",
     "text": [
      "id:[     1      2      3 ... 539381 539382 539383]\n",
      "Airline:['CO' 'US' 'AA' 'AS' 'DL' 'B6' 'HA' 'OO' '9E' 'OH' 'EV' 'XE' 'YV' 'UA'\n",
      " 'MQ' 'FL' 'F9' 'WN']\n",
      "Flight:[ 269 1558 2400 ... 3413 3184 3387]\n",
      "AirportFrom:['SFO' 'PHX' 'LAX' 'ANC' 'LAS' 'SLC' 'DEN' 'ONT' 'FAI' 'BQN' 'PSE' 'HNL'\n",
      " 'BIS' 'IYK' 'EWR' 'BOS' 'MKE' 'GFK' 'OMA' 'GSO' 'LMT' 'SEA' 'MCO' 'TPA'\n",
      " 'DLH' 'MSP' 'FAR' 'MFE' 'MSY' 'VPS' 'BWI' 'MAF' 'LWS' 'RST' 'ALB' 'DSM'\n",
      " 'CHS' 'MSN' 'JAX' 'SAT' 'PNS' 'BHM' 'LIT' 'SAV' 'BNA' 'ICT' 'ECP' 'DHN'\n",
      " 'MGM' 'CAE' 'PWM' 'ACV' 'EKO' 'PHL' 'ATL' 'PDX' 'RIC' 'BTR' 'HRL' 'MYR'\n",
      " 'TUS' 'SBN' 'CAK' 'TVC' 'CLE' 'ORD' 'DAY' 'MFR' 'BTV' 'TLH' 'TYS' 'DFW'\n",
      " 'FLL' 'AUS' 'CHA' 'CMH' 'LRD' 'BRO' 'CRP' 'LAN' 'PVD' 'FWA' 'JFK' 'LGA'\n",
      " 'OKC' 'PIT' 'PBI' 'ORF' 'DCA' 'AEX' 'SYR' 'SHV' 'VLD' 'BDL' 'FAT' 'BZN'\n",
      " 'RDM' 'LFT' 'IPL' 'EAU' 'ERI' 'BUF' 'IAH' 'MCI' 'AGS' 'ABI' 'GRR' 'LBB'\n",
      " 'CLT' 'LEX' 'MBS' 'MOD' 'AMA' 'SGF' 'AZO' 'ABE' 'SWF' 'BGM' 'AVP' 'FNT'\n",
      " 'GSP' 'ATW' 'ITH' 'TUL' 'COS' 'ELP' 'ABQ' 'SMF' 'STL' 'IAD' 'DTW' 'RDU'\n",
      " 'RSW' 'OAK' 'ROC' 'IND' 'CVG' 'MDW' 'SDF' 'ABY' 'TRI' 'XNA' 'ROA' 'MLI'\n",
      " 'LYH' 'EVV' 'HPN' 'FAY' 'EWN' 'CSG' 'GPT' 'MLU' 'MOB' 'OAJ' 'CHO' 'ILM'\n",
      " 'BMI' 'PHF' 'ACY' 'JAN' 'CID' 'GRK' 'HOU' 'CRW' 'HTS' 'PSC' 'BOI' 'SBP'\n",
      " 'CLD' 'PSP' 'SBA' 'MEM' 'MRY' 'GEG' 'RDD' 'PAH' 'CMX' 'SPI' 'EUG' 'CIC'\n",
      " 'PIH' 'SGU' 'COD' 'MIA' 'MHT' 'GRB' 'FSD' 'SJU' 'AVL' 'BFL' 'RAP' 'DRO'\n",
      " 'PIA' 'OGG' 'SIT' 'TXK' 'RNO' 'DAL' 'SCE' 'MEI' 'MDT' 'FCA' 'SJC' 'KOA'\n",
      " 'PLN' 'SAN' 'GNV' 'HLN' 'GJT' 'CPR' 'FSM' 'CMI' 'GTF' 'HDN' 'ITO' 'MTJ'\n",
      " 'HSV' 'BTM' 'BIL' 'COU' 'MSO' 'SMX' 'TWF' 'ISP' 'GCC' 'LIH' 'LNK' 'DAB'\n",
      " 'SNA' 'MQT' 'LGB' 'CWA' 'LSE' 'BUR' 'ACT' 'MHK' 'MOT' 'IDA' 'SUN' 'GTR'\n",
      " 'MLB' 'SRQ' 'JAC' 'ASE' 'LCH' 'JNU' 'ROW' 'BQK' 'YUM' 'FLG' 'EGE' 'GUC'\n",
      " 'EYW' 'RKS' 'BGR' 'ELM' 'ADQ' 'OTZ' 'OTH' 'STT' 'KTN' 'BET' 'SJT' 'CDC'\n",
      " 'CEC' 'SPS' 'SCC' 'STX' 'OME' 'MKG' 'WRG' 'TYR' 'BRW' 'GGG' 'PSG' 'BKG'\n",
      " 'YAK' 'CLL' 'SAF' 'CYS' 'LWB' 'CDV' 'FLO' 'BLI' 'DBQ' 'TOL' 'UTM' 'PIE'\n",
      " 'ADK' 'ABR' 'TEX' 'MMH' 'GUM']\n",
      "AirportTo:['IAH' 'CLT' 'DFW' 'SEA' 'MSP' 'DTW' 'ORD' 'ATL' 'PDX' 'JFK' 'SLC' 'HNL'\n",
      " 'PHX' 'MCO' 'OGG' 'LAX' 'KOA' 'ITO' 'SFO' 'MIA' 'IAD' 'SMF' 'PHL' 'LIH'\n",
      " 'DEN' 'LGA' 'MEM' 'CVG' 'YUM' 'CWA' 'MKE' 'BQN' 'FAI' 'LAS' 'ANC' 'BOS'\n",
      " 'LGB' 'FLL' 'SJU' 'EWR' 'DCA' 'BWI' 'RDU' 'MCI' 'TYS' 'SAN' 'ONT' 'OAK'\n",
      " 'MDW' 'BNA' 'DAL' 'CLE' 'JAX' 'JNU' 'RNO' 'ELP' 'SAT' 'OTZ' 'MBS' 'BDL'\n",
      " 'STL' 'HOU' 'AUS' 'SNA' 'SJC' 'LIT' 'TUS' 'TUL' 'CMH' 'LAN' 'IND' 'AMA'\n",
      " 'CRP' 'PIT' 'RKS' 'FWA' 'TPA' 'PBI' 'JAN' 'DSM' 'ADQ' 'GRB' 'PVD' 'ABQ'\n",
      " 'SDF' 'RSW' 'MSY' 'BUR' 'BOI' 'TLH' 'BHM' 'ACV' 'ORF' 'BET' 'KTN' 'RIC'\n",
      " 'SRQ' 'BTR' 'XNA' 'MHT' 'GRR' 'SBN' 'SBA' 'ROA' 'CID' 'GPT' 'MFR' 'SGU'\n",
      " 'HPN' 'OMA' 'OTH' 'GSP' 'LMT' 'BUF' 'MSN' 'BFL' 'CAE' 'HRL' 'OKC' 'SYR'\n",
      " 'COS' 'BTV' 'CDC' 'SCC' 'DAY' 'SJT' 'TVC' 'ROC' 'ISP' 'MRY' 'SBP' 'MLI'\n",
      " 'MOB' 'CIC' 'SAV' 'FAT' 'EKO' 'GEG' 'ECP' 'LFT' 'SUN' 'HSV' 'SHV' 'CHA'\n",
      " 'CAK' 'BZN' 'MAF' 'GSO' 'MDT' 'PHF' 'ICT' 'AZO' 'RAP' 'CHS' 'CLD' 'MKG'\n",
      " 'VPS' 'PIH' 'ATW' 'AGS' 'PNS' 'BIL' 'SPI' 'FAR' 'CPR' 'PIA' 'SPS' 'TWF'\n",
      " 'LBB' 'ALB' 'CEC' 'DRO' 'GJT' 'GNV' 'RST' 'AVL' 'GRK' 'PSP' 'LEX' 'TRI'\n",
      " 'SGF' 'FSM' 'RDD' 'OME' 'MFE' 'LSE' 'BMI' 'MYR' 'FAY' 'FSD' 'EUG' 'MGM'\n",
      " 'EVV' 'MLB' 'FNT' 'STT' 'WRG' 'ABE' 'BIS' 'MOT' 'MLU' 'GFK' 'RDM' 'COU'\n",
      " 'LRD' 'PSC' 'MOD' 'PWM' 'ILM' 'ABY' 'CRW' 'TXK' 'BRO' 'BRW' 'EYW' 'DAB'\n",
      " 'ROW' 'ABI' 'EAU' 'TYR' 'MSO' 'FLG' 'CSG' 'VLD' 'DHN' 'OAJ' 'AEX' 'CHO'\n",
      " 'SAF' 'GGG' 'FCA' 'ASE' 'BKG' 'MHK' 'LNK' 'MQT' 'YAK' 'GTR' 'SMX' 'SWF'\n",
      " 'ITH' 'AVP' 'ELM' 'BGM' 'SIT' 'PSG' 'CYS' 'CLL' 'SCE' 'LWB' 'LCH' 'GCC'\n",
      " 'IYK' 'LWS' 'COD' 'HLN' 'BQK' 'GTF' 'DLH' 'BTM' 'EGE' 'IDA' 'JAC' 'HDN'\n",
      " 'MTJ' 'CMX' 'CMI' 'CDV' 'LYH' 'ACT' 'STX' 'IPL' 'PAH' 'HTS' 'MEI' 'BLI'\n",
      " 'ERI' 'EWN' 'FLO' 'ACY' 'DBQ' 'TOL' 'GUC' 'PLN' 'BGR' 'PSE' 'PIE' 'UTM'\n",
      " 'ADK' 'ABR' 'TEX' 'MMH' 'GUM']\n",
      "DayOfWeek:[3 4 5 6 7 1 2]\n",
      "Time:[  15   20   30 ... 1278  359   37]\n",
      "Length:[205 222 165 195 202 181 220 228 216 200 201 212 210 170 215 179 213 162\n",
      " 167 206 270 380 327 169 180  36  85  53 111 135  41  44  68  49  75  93\n",
      "  95 166  97  96  58 158  62  64  70  69  83  87  50 120 233  72  80  84\n",
      " 142  65  67 147 132  57 114 102 148  35 159 112  46  76 128 185 231 164\n",
      "  74 174 110  59 144 109 118 134  47 100  66  71 183 119 190 160 140 219\n",
      " 208  55  54 235 127 131 113 123 133  45 107  34  32  81 130 129 115  60\n",
      " 145 175 105  61  38  90 137 101 103  48 125  82 225 260 245 150 280 240\n",
      " 315 143 168 156 192  77 141 218 138 238 326 223 253  98 151  86  88 116\n",
      " 157 161  79 155 121  40 146 136  78 139  73  89 171 342 404  94 108 152\n",
      " 172 117 184 249 188  63 237  33  52 250  42 204 163 126 178 104 124 211\n",
      " 265 230 122 154 187 242 410 292 364  91 106 252 189 199 389 244 149  99\n",
      " 279  92 234 393 255 173 182 385 330 320 324 241 345 349 300 368 261  30\n",
      "  51 229 369 217 319 295 198 396 340 194 177 367 264 196  56 153 317 193\n",
      " 259 353 271 186 405 267 227 209 191 221 176 394 343 286 357 325 276 335\n",
      " 285 314 318 304 256 390 269 298 288 310  29 197 247 294  43 350 375 309\n",
      " 305 321 302 299 362  37 360 365 283 347 366 322 307 262 243 268 277 384\n",
      " 372 334 313 248 273 226 274 251 296 303 257 236 287 207 400 301 263 275\n",
      " 214 239  27 358 308 331 337 246 290 374 377 329 338 289 344 376 391 272\n",
      "  39 352 401 351 278 203 355 316 282 232 332 306 354 258 254 505 413 281\n",
      " 370 378 549 291 387  24 348 284 620 224 379 525 408 510 428 333 311 655\n",
      " 458 403 339  31 346 266 293 520 312 359 373 297 341 383 381 363 388 398\n",
      " 336 395 371 484 407 392 515 397 356 420 406  28 425 382 455 361 570 430\n",
      " 415 328 423 465 560 412 399 535 495 470 414 480 451 323 418 481 386 409\n",
      "  23  25 411  26   0 483 460 551 457 476 610 417]\n",
      "Delay:[1 0]\n"
     ]
    }
   ],
   "source": [
    "##Checking for wrong entry like symbol(!,@,#,$...):\n",
    "for col in df.columns:\n",
    "    print('{}:{}'.format(col,df[col].unique()))"
   ]
  },
  {
   "cell_type": "code",
   "execution_count": 22,
   "id": "e411f9ff",
   "metadata": {},
   "outputs": [
    {
     "name": "stdout",
     "output_type": "stream",
     "text": [
      "id : 539383 lebals\n",
      "Airline : 18 lebals\n",
      "Flight : 6585 lebals\n",
      "AirportFrom : 293 lebals\n",
      "AirportTo : 293 lebals\n",
      "DayOfWeek : 7 lebals\n",
      "Time : 1131 lebals\n",
      "Length : 426 lebals\n",
      "Delay : 2 lebals\n"
     ]
    }
   ],
   "source": [
    "for feature in df.columns[:]:\n",
    "    print(feature,\":\",len(df[feature].unique()),\"lebals\")"
   ]
  },
  {
   "cell_type": "code",
   "execution_count": 23,
   "id": "a2c750e4",
   "metadata": {},
   "outputs": [
    {
     "data": {
      "text/plain": [
       "{'ATL': 34449,\n",
       " 'ORD': 24822,\n",
       " 'DFW': 22154,\n",
       " 'DEN': 19843,\n",
       " 'LAX': 16657,\n",
       " 'IAH': 15821,\n",
       " 'PHX': 15557,\n",
       " 'DTW': 13136,\n",
       " 'LAS': 11918,\n",
       " 'SFO': 11786,\n",
       " 'CLT': 11133,\n",
       " 'MCO': 10596,\n",
       " 'SLC': 10473,\n",
       " 'MSP': 10166,\n",
       " 'EWR': 9673,\n",
       " 'JFK': 9496,\n",
       " 'BOS': 9439,\n",
       " 'BWI': 8565,\n",
       " 'LGA': 8547,\n",
       " 'SEA': 8038,\n",
       " 'PHL': 7480,\n",
       " 'MDW': 7103,\n",
       " 'DCA': 7073,\n",
       " 'MIA': 6716,\n",
       " 'IAD': 6528,\n",
       " 'MEM': 6450,\n",
       " 'SAN': 6370,\n",
       " 'TPA': 6085,\n",
       " 'FLL': 5807,\n",
       " 'STL': 5031,\n",
       " 'CLE': 4783,\n",
       " 'CVG': 4708,\n",
       " 'HNL': 4454,\n",
       " 'HOU': 4420,\n",
       " 'BNA': 4353,\n",
       " 'PDX': 4274,\n",
       " 'MCI': 4237,\n",
       " 'RDU': 4159,\n",
       " 'MKE': 4068,\n",
       " 'DAL': 3838,\n",
       " 'OAK': 3783,\n",
       " 'AUS': 3654,\n",
       " 'SNA': 3535,\n",
       " 'SMF': 3504,\n",
       " 'MSY': 3400,\n",
       " 'SJC': 3357,\n",
       " 'SAT': 3272,\n",
       " 'PIT': 3265,\n",
       " 'IND': 3135,\n",
       " 'ABQ': 2799,\n",
       " 'JAX': 2738,\n",
       " 'RSW': 2717,\n",
       " 'CMH': 2657,\n",
       " 'PBI': 2385,\n",
       " 'BDL': 2280,\n",
       " 'BUR': 2147,\n",
       " 'OMA': 1971,\n",
       " 'ONT': 1944,\n",
       " 'BUF': 1938,\n",
       " 'OKC': 1906,\n",
       " 'SJU': 1895,\n",
       " 'TUS': 1862,\n",
       " 'ELP': 1818,\n",
       " 'OGG': 1772,\n",
       " 'BHM': 1756,\n",
       " 'RNO': 1708,\n",
       " 'TUL': 1664,\n",
       " 'LIT': 1572,\n",
       " 'RIC': 1556,\n",
       " 'PVD': 1543,\n",
       " 'ORF': 1419,\n",
       " 'SDF': 1411,\n",
       " 'ANC': 1307,\n",
       " 'DAY': 1244,\n",
       " 'BOI': 1208,\n",
       " 'TYS': 1205,\n",
       " 'ROC': 1190,\n",
       " 'XNA': 1128,\n",
       " 'LGB': 1126,\n",
       " 'MHT': 1066,\n",
       " 'GEG': 1060,\n",
       " 'DSM': 1050,\n",
       " 'COS': 1031,\n",
       " 'PSP': 1026,\n",
       " 'GRR': 1015,\n",
       " 'CHS': 1007,\n",
       " 'KOA': 1001,\n",
       " 'JAN': 985,\n",
       " 'ICT': 978,\n",
       " 'FAT': 971,\n",
       " 'ALB': 951,\n",
       " 'LIH': 936,\n",
       " 'SYR': 917,\n",
       " 'GSO': 871,\n",
       " 'HSV': 849,\n",
       " 'PNS': 829,\n",
       " 'SBA': 827,\n",
       " 'HPN': 816,\n",
       " 'LEX': 802,\n",
       " 'MSN': 800,\n",
       " 'GSP': 790,\n",
       " 'SAV': 783,\n",
       " 'CAK': 759,\n",
       " 'BTR': 738,\n",
       " 'CRP': 689,\n",
       " 'CAE': 683,\n",
       " 'VPS': 633,\n",
       " 'ISP': 631,\n",
       " 'LBB': 622,\n",
       " 'SGF': 621,\n",
       " 'ITO': 604,\n",
       " 'MAF': 587,\n",
       " 'ECP': 580,\n",
       " 'MOB': 562,\n",
       " 'GRB': 541,\n",
       " 'MDT': 529,\n",
       " 'BTV': 523,\n",
       " 'FSD': 517,\n",
       " 'PWM': 516,\n",
       " 'SRQ': 513,\n",
       " 'GPT': 502,\n",
       " 'FAR': 490,\n",
       " 'AMA': 482,\n",
       " 'CID': 477,\n",
       " 'GJT': 469,\n",
       " 'ASE': 458,\n",
       " 'PHF': 455,\n",
       " 'MRY': 451,\n",
       " 'FWA': 449,\n",
       " 'MLI': 445,\n",
       " 'LFT': 434,\n",
       " 'TLH': 431,\n",
       " 'FNT': 431,\n",
       " 'SBN': 428,\n",
       " 'AVL': 426,\n",
       " 'RAP': 421,\n",
       " 'EUG': 419,\n",
       " 'HRL': 412,\n",
       " 'SBP': 406,\n",
       " 'BMI': 405,\n",
       " 'SHV': 397,\n",
       " 'CRW': 391,\n",
       " 'MGM': 388,\n",
       " 'MFE': 379,\n",
       " 'ATW': 378,\n",
       " 'CHA': 363,\n",
       " 'MFR': 361,\n",
       " 'BZN': 359,\n",
       " 'EVV': 350,\n",
       " 'ABE': 342,\n",
       " 'YUM': 338,\n",
       " 'FAY': 338,\n",
       " 'FAI': 329,\n",
       " 'BIS': 324,\n",
       " 'AGS': 322,\n",
       " 'ILM': 317,\n",
       " 'TRI': 313,\n",
       " 'MBS': 310,\n",
       " 'ROA': 307,\n",
       " 'BIL': 306,\n",
       " 'ACV': 296,\n",
       " 'JNU': 295,\n",
       " 'DRO': 291,\n",
       " 'AEX': 286,\n",
       " 'MSO': 283,\n",
       " 'MYR': 280,\n",
       " 'PSC': 277,\n",
       " 'TVC': 277,\n",
       " 'BFL': 276,\n",
       " 'RDM': 272,\n",
       " 'GRK': 267,\n",
       " 'LAN': 262,\n",
       " 'EGE': 260,\n",
       " 'PIA': 250,\n",
       " 'JAC': 250,\n",
       " 'STT': 244,\n",
       " 'AZO': 243,\n",
       " 'LRD': 224,\n",
       " 'DLH': 224,\n",
       " 'IDA': 224,\n",
       " 'FLG': 219,\n",
       " 'ABI': 211,\n",
       " 'LNK': 210,\n",
       " 'BRO': 207,\n",
       " 'GFK': 206,\n",
       " 'AVP': 199,\n",
       " 'GNV': 194,\n",
       " 'SUN': 193,\n",
       " 'SGU': 192,\n",
       " 'MTJ': 183,\n",
       " 'SWF': 181,\n",
       " 'CSG': 179,\n",
       " 'CMI': 179,\n",
       " 'KTN': 178,\n",
       " 'CPR': 176,\n",
       " 'SPI': 174,\n",
       " 'MLU': 172,\n",
       " 'RST': 168,\n",
       " 'MOT': 164,\n",
       " 'CLD': 163,\n",
       " 'FSM': 162,\n",
       " 'FCA': 161,\n",
       " 'HDN': 158,\n",
       " 'RKS': 155,\n",
       " 'GTF': 147,\n",
       " 'HLN': 145,\n",
       " 'MOD': 144,\n",
       " 'CWA': 141,\n",
       " 'MLB': 138,\n",
       " 'BQN': 137,\n",
       " 'DAB': 135,\n",
       " 'LSE': 135,\n",
       " 'OAJ': 135,\n",
       " 'EYW': 126,\n",
       " 'GCC': 124,\n",
       " 'MHK': 123,\n",
       " 'TWF': 121,\n",
       " 'CIC': 120,\n",
       " 'SMX': 120,\n",
       " 'RDD': 120,\n",
       " 'DHN': 118,\n",
       " 'EKO': 116,\n",
       " 'PIH': 113,\n",
       " 'MQT': 106,\n",
       " 'ELM': 104,\n",
       " 'GUC': 95,\n",
       " 'OTH': 93,\n",
       " 'LMT': 93,\n",
       " 'COD': 93,\n",
       " 'SAF': 92,\n",
       " 'OME': 90,\n",
       " 'OTZ': 90,\n",
       " 'LCH': 90,\n",
       " 'SIT': 89,\n",
       " 'COU': 89,\n",
       " 'EAU': 89,\n",
       " 'CEC': 88,\n",
       " 'ROW': 87,\n",
       " 'CHO': 87,\n",
       " 'BQK': 87,\n",
       " 'SCE': 87,\n",
       " 'ABY': 87,\n",
       " 'VLD': 87,\n",
       " 'IYK': 86,\n",
       " 'BET': 84,\n",
       " 'TXK': 77,\n",
       " 'ITH': 75,\n",
       " 'EWN': 74,\n",
       " 'BGM': 74,\n",
       " 'ERI': 74,\n",
       " 'BRW': 68,\n",
       " 'MKG': 66,\n",
       " 'LWB': 62,\n",
       " 'IPL': 62,\n",
       " 'ACY': 62,\n",
       " 'PAH': 62,\n",
       " 'PSE': 62,\n",
       " 'CMX': 62,\n",
       " 'GTR': 61,\n",
       " 'ACT': 60,\n",
       " 'BTM': 60,\n",
       " 'TYR': 60,\n",
       " 'BKG': 60,\n",
       " 'PSG': 59,\n",
       " 'WRG': 59,\n",
       " 'LYH': 59,\n",
       " 'MEI': 58,\n",
       " 'LWS': 57,\n",
       " 'HTS': 57,\n",
       " 'YAK': 57,\n",
       " 'CDV': 57,\n",
       " 'SCC': 56,\n",
       " 'ADQ': 56,\n",
       " 'CDC': 55,\n",
       " 'STX': 46,\n",
       " 'SPS': 46,\n",
       " 'PLN': 32,\n",
       " 'BGR': 32,\n",
       " 'CYS': 31,\n",
       " 'GGG': 31,\n",
       " 'CLL': 31,\n",
       " 'DBQ': 27,\n",
       " 'TOL': 27,\n",
       " 'TEX': 27,\n",
       " 'BLI': 26,\n",
       " 'PIE': 23,\n",
       " 'FLO': 18,\n",
       " 'UTM': 18,\n",
       " 'MMH': 16,\n",
       " 'SJT': 15,\n",
       " 'GUM': 10,\n",
       " 'ADK': 9,\n",
       " 'ABR': 2}"
      ]
     },
     "execution_count": 23,
     "metadata": {},
     "output_type": "execute_result"
    }
   ],
   "source": [
    "df[\"AirportFrom\"].value_counts().to_dict()"
   ]
  },
  {
   "cell_type": "code",
   "execution_count": 24,
   "id": "b6bc5e2d",
   "metadata": {},
   "outputs": [
    {
     "data": {
      "text/plain": [
       "{'ATL': 34440,\n",
       " 'ORD': 24871,\n",
       " 'DFW': 22153,\n",
       " 'DEN': 19848,\n",
       " 'LAX': 16656,\n",
       " 'IAH': 15819,\n",
       " 'PHX': 15558,\n",
       " 'DTW': 13146,\n",
       " 'LAS': 11918,\n",
       " 'SFO': 11792,\n",
       " 'CLT': 11132,\n",
       " 'MCO': 10605,\n",
       " 'SLC': 10486,\n",
       " 'MSP': 10181,\n",
       " 'EWR': 9670,\n",
       " 'JFK': 9490,\n",
       " 'BOS': 9429,\n",
       " 'BWI': 8557,\n",
       " 'LGA': 8549,\n",
       " 'SEA': 8042,\n",
       " 'PHL': 7478,\n",
       " 'MDW': 7102,\n",
       " 'DCA': 7068,\n",
       " 'MIA': 6720,\n",
       " 'IAD': 6565,\n",
       " 'MEM': 6450,\n",
       " 'SAN': 6372,\n",
       " 'TPA': 6086,\n",
       " 'FLL': 5812,\n",
       " 'STL': 5034,\n",
       " 'CLE': 4730,\n",
       " 'CVG': 4713,\n",
       " 'HNL': 4453,\n",
       " 'HOU': 4419,\n",
       " 'BNA': 4300,\n",
       " 'PDX': 4274,\n",
       " 'MCI': 4250,\n",
       " 'RDU': 4147,\n",
       " 'MKE': 4070,\n",
       " 'DAL': 3835,\n",
       " 'OAK': 3781,\n",
       " 'AUS': 3655,\n",
       " 'SNA': 3535,\n",
       " 'SMF': 3473,\n",
       " 'MSY': 3401,\n",
       " 'SJC': 3357,\n",
       " 'PIT': 3270,\n",
       " 'SAT': 3267,\n",
       " 'IND': 3167,\n",
       " 'ABQ': 2800,\n",
       " 'JAX': 2739,\n",
       " 'RSW': 2719,\n",
       " 'CMH': 2652,\n",
       " 'PBI': 2388,\n",
       " 'BDL': 2281,\n",
       " 'BUR': 2146,\n",
       " 'OMA': 1971,\n",
       " 'BUF': 1970,\n",
       " 'ONT': 1943,\n",
       " 'OKC': 1908,\n",
       " 'SJU': 1903,\n",
       " 'TUS': 1862,\n",
       " 'ELP': 1818,\n",
       " 'OGG': 1803,\n",
       " 'BHM': 1778,\n",
       " 'RNO': 1709,\n",
       " 'TUL': 1656,\n",
       " 'LIT': 1572,\n",
       " 'RIC': 1554,\n",
       " 'PVD': 1539,\n",
       " 'ORF': 1418,\n",
       " 'SDF': 1408,\n",
       " 'ANC': 1311,\n",
       " 'DAY': 1244,\n",
       " 'BOI': 1208,\n",
       " 'TYS': 1192,\n",
       " 'ROC': 1185,\n",
       " 'LGB': 1126,\n",
       " 'XNA': 1123,\n",
       " 'MHT': 1067,\n",
       " 'GEG': 1059,\n",
       " 'DSM': 1050,\n",
       " 'COS': 1029,\n",
       " 'PSP': 1024,\n",
       " 'GRR': 1010,\n",
       " 'KOA': 1001,\n",
       " 'CHS': 1001,\n",
       " 'JAN': 985,\n",
       " 'ICT': 979,\n",
       " 'FAT': 971,\n",
       " 'ALB': 940,\n",
       " 'LIH': 936,\n",
       " 'SYR': 918,\n",
       " 'HSV': 876,\n",
       " 'GSO': 872,\n",
       " 'PNS': 829,\n",
       " 'SBA': 827,\n",
       " 'HPN': 815,\n",
       " 'MSN': 801,\n",
       " 'LEX': 801,\n",
       " 'GSP': 791,\n",
       " 'SAV': 779,\n",
       " 'CAK': 746,\n",
       " 'BTR': 738,\n",
       " 'CRP': 689,\n",
       " 'CAE': 687,\n",
       " 'VPS': 633,\n",
       " 'ISP': 631,\n",
       " 'LBB': 623,\n",
       " 'SGF': 623,\n",
       " 'ITO': 604,\n",
       " 'MAF': 587,\n",
       " 'ECP': 580,\n",
       " 'MOB': 562,\n",
       " 'MDT': 535,\n",
       " 'GRB': 532,\n",
       " 'BTV': 523,\n",
       " 'FSD': 520,\n",
       " 'PWM': 516,\n",
       " 'SRQ': 514,\n",
       " 'GPT': 501,\n",
       " 'FAR': 489,\n",
       " 'AMA': 482,\n",
       " 'CID': 477,\n",
       " 'GJT': 470,\n",
       " 'ASE': 461,\n",
       " 'PHF': 453,\n",
       " 'MRY': 451,\n",
       " 'FWA': 448,\n",
       " 'MLI': 447,\n",
       " 'LFT': 433,\n",
       " 'TLH': 432,\n",
       " 'FNT': 431,\n",
       " 'AVL': 427,\n",
       " 'SBN': 427,\n",
       " 'RAP': 422,\n",
       " 'EUG': 418,\n",
       " 'HRL': 412,\n",
       " 'SBP': 407,\n",
       " 'BMI': 405,\n",
       " 'SHV': 397,\n",
       " 'CRW': 390,\n",
       " 'MGM': 388,\n",
       " 'MFE': 380,\n",
       " 'ATW': 371,\n",
       " 'CHA': 363,\n",
       " 'MFR': 361,\n",
       " 'BZN': 357,\n",
       " 'EVV': 348,\n",
       " 'YUM': 338,\n",
       " 'FAY': 338,\n",
       " 'FAI': 329,\n",
       " 'BIS': 324,\n",
       " 'AGS': 322,\n",
       " 'ILM': 317,\n",
       " 'TRI': 313,\n",
       " 'MBS': 309,\n",
       " 'BIL': 306,\n",
       " 'ABE': 305,\n",
       " 'JNU': 296,\n",
       " 'ACV': 295,\n",
       " 'ROA': 292,\n",
       " 'DRO': 291,\n",
       " 'AEX': 284,\n",
       " 'MSO': 283,\n",
       " 'MYR': 280,\n",
       " 'PSC': 278,\n",
       " 'BFL': 275,\n",
       " 'TVC': 275,\n",
       " 'RDM': 271,\n",
       " 'GRK': 267,\n",
       " 'EGE': 262,\n",
       " 'LAN': 262,\n",
       " 'JAC': 252,\n",
       " 'PIA': 250,\n",
       " 'STT': 245,\n",
       " 'AZO': 241,\n",
       " 'LRD': 224,\n",
       " 'DLH': 223,\n",
       " 'IDA': 220,\n",
       " 'FLG': 219,\n",
       " 'ABI': 211,\n",
       " 'AVP': 208,\n",
       " 'BRO': 207,\n",
       " 'GFK': 206,\n",
       " 'LNK': 205,\n",
       " 'GNV': 194,\n",
       " 'SUN': 193,\n",
       " 'SGU': 192,\n",
       " 'MTJ': 183,\n",
       " 'SWF': 181,\n",
       " 'CSG': 179,\n",
       " 'CMI': 179,\n",
       " 'KTN': 178,\n",
       " 'CPR': 176,\n",
       " 'SPI': 174,\n",
       " 'MLU': 172,\n",
       " 'RST': 166,\n",
       " 'MOT': 164,\n",
       " 'CLD': 163,\n",
       " 'FSM': 162,\n",
       " 'FCA': 161,\n",
       " 'HDN': 158,\n",
       " 'RKS': 155,\n",
       " 'GTF': 147,\n",
       " 'HLN': 145,\n",
       " 'MOD': 144,\n",
       " 'CWA': 141,\n",
       " 'BQN': 138,\n",
       " 'MLB': 138,\n",
       " 'LSE': 135,\n",
       " 'OAJ': 135,\n",
       " 'DAB': 135,\n",
       " 'EYW': 126,\n",
       " 'GCC': 124,\n",
       " 'MHK': 123,\n",
       " 'SMX': 120,\n",
       " 'TWF': 120,\n",
       " 'CIC': 120,\n",
       " 'RDD': 120,\n",
       " 'DHN': 118,\n",
       " 'EKO': 116,\n",
       " 'PIH': 113,\n",
       " 'MQT': 106,\n",
       " 'ELM': 104,\n",
       " 'GUC': 95,\n",
       " 'COD': 93,\n",
       " 'LMT': 93,\n",
       " 'OTH': 93,\n",
       " 'SAF': 92,\n",
       " 'OME': 90,\n",
       " 'OTZ': 90,\n",
       " 'COU': 89,\n",
       " 'EAU': 89,\n",
       " 'LCH': 89,\n",
       " 'CEC': 89,\n",
       " 'SIT': 88,\n",
       " 'ABY': 87,\n",
       " 'BQK': 87,\n",
       " 'SCE': 87,\n",
       " 'CHO': 87,\n",
       " 'VLD': 87,\n",
       " 'ROW': 87,\n",
       " 'IYK': 86,\n",
       " 'BET': 84,\n",
       " 'TXK': 77,\n",
       " 'ITH': 75,\n",
       " 'BGM': 74,\n",
       " 'ERI': 74,\n",
       " 'EWN': 74,\n",
       " 'BRW': 68,\n",
       " 'MKG': 67,\n",
       " 'CMX': 62,\n",
       " 'PAH': 62,\n",
       " 'PSE': 62,\n",
       " 'IPL': 62,\n",
       " 'LWB': 62,\n",
       " 'ACY': 62,\n",
       " 'GTR': 61,\n",
       " 'TYR': 60,\n",
       " 'BKG': 60,\n",
       " 'BTM': 60,\n",
       " 'PSG': 59,\n",
       " 'LYH': 59,\n",
       " 'ACT': 59,\n",
       " 'WRG': 59,\n",
       " 'MEI': 58,\n",
       " 'LWS': 57,\n",
       " 'YAK': 57,\n",
       " 'HTS': 57,\n",
       " 'CDV': 57,\n",
       " 'ADQ': 56,\n",
       " 'SCC': 56,\n",
       " 'CDC': 54,\n",
       " 'SPS': 46,\n",
       " 'STX': 45,\n",
       " 'BGR': 32,\n",
       " 'PLN': 32,\n",
       " 'CYS': 31,\n",
       " 'GGG': 31,\n",
       " 'CLL': 31,\n",
       " 'DBQ': 27,\n",
       " 'TOL': 27,\n",
       " 'TEX': 27,\n",
       " 'BLI': 26,\n",
       " 'PIE': 23,\n",
       " 'FLO': 18,\n",
       " 'UTM': 18,\n",
       " 'MMH': 16,\n",
       " 'SJT': 15,\n",
       " 'GUM': 10,\n",
       " 'ADK': 9,\n",
       " 'ABR': 2}"
      ]
     },
     "execution_count": 24,
     "metadata": {},
     "output_type": "execute_result"
    }
   ],
   "source": [
    "df[\"AirportTo\"].value_counts().to_dict()"
   ]
  },
  {
   "cell_type": "code",
   "execution_count": 25,
   "id": "3084ef19",
   "metadata": {},
   "outputs": [],
   "source": [
    "##Convert categorical feature into numeric from:\n",
    "from sklearn.preprocessing import LabelEncoder\n",
    "lb = LabelEncoder()\n",
    "df['Airline'] = lb.fit_transform(df[\"Airline\"])\n",
    "df['AirportFrom'] = lb.fit_transform(df[\"AirportFrom\"])\n",
    "df['AirportTo'] = lb.fit_transform(df[\"AirportTo\"])\n"
   ]
  },
  {
   "cell_type": "code",
   "execution_count": 26,
   "id": "8276ae93",
   "metadata": {},
   "outputs": [
    {
     "data": {
      "text/html": [
       "<div>\n",
       "<style scoped>\n",
       "    .dataframe tbody tr th:only-of-type {\n",
       "        vertical-align: middle;\n",
       "    }\n",
       "\n",
       "    .dataframe tbody tr th {\n",
       "        vertical-align: top;\n",
       "    }\n",
       "\n",
       "    .dataframe thead th {\n",
       "        text-align: right;\n",
       "    }\n",
       "</style>\n",
       "<table border=\"1\" class=\"dataframe\">\n",
       "  <thead>\n",
       "    <tr style=\"text-align: right;\">\n",
       "      <th></th>\n",
       "      <th>id</th>\n",
       "      <th>Airline</th>\n",
       "      <th>Flight</th>\n",
       "      <th>AirportFrom</th>\n",
       "      <th>AirportTo</th>\n",
       "      <th>DayOfWeek</th>\n",
       "      <th>Time</th>\n",
       "      <th>Length</th>\n",
       "      <th>Delay</th>\n",
       "    </tr>\n",
       "  </thead>\n",
       "  <tbody>\n",
       "    <tr>\n",
       "      <th>0</th>\n",
       "      <td>1</td>\n",
       "      <td>4</td>\n",
       "      <td>269</td>\n",
       "      <td>253</td>\n",
       "      <td>135</td>\n",
       "      <td>3</td>\n",
       "      <td>15</td>\n",
       "      <td>205</td>\n",
       "      <td>1</td>\n",
       "    </tr>\n",
       "    <tr>\n",
       "      <th>1</th>\n",
       "      <td>2</td>\n",
       "      <td>14</td>\n",
       "      <td>1558</td>\n",
       "      <td>217</td>\n",
       "      <td>60</td>\n",
       "      <td>3</td>\n",
       "      <td>15</td>\n",
       "      <td>222</td>\n",
       "      <td>1</td>\n",
       "    </tr>\n",
       "    <tr>\n",
       "      <th>2</th>\n",
       "      <td>3</td>\n",
       "      <td>1</td>\n",
       "      <td>2400</td>\n",
       "      <td>154</td>\n",
       "      <td>80</td>\n",
       "      <td>3</td>\n",
       "      <td>20</td>\n",
       "      <td>165</td>\n",
       "      <td>1</td>\n",
       "    </tr>\n",
       "    <tr>\n",
       "      <th>3</th>\n",
       "      <td>4</td>\n",
       "      <td>1</td>\n",
       "      <td>2466</td>\n",
       "      <td>253</td>\n",
       "      <td>80</td>\n",
       "      <td>3</td>\n",
       "      <td>20</td>\n",
       "      <td>195</td>\n",
       "      <td>1</td>\n",
       "    </tr>\n",
       "    <tr>\n",
       "      <th>4</th>\n",
       "      <td>5</td>\n",
       "      <td>2</td>\n",
       "      <td>108</td>\n",
       "      <td>14</td>\n",
       "      <td>252</td>\n",
       "      <td>3</td>\n",
       "      <td>30</td>\n",
       "      <td>202</td>\n",
       "      <td>0</td>\n",
       "    </tr>\n",
       "  </tbody>\n",
       "</table>\n",
       "</div>"
      ],
      "text/plain": [
       "   id  Airline  Flight  AirportFrom  AirportTo  DayOfWeek  Time  Length  Delay\n",
       "0   1        4     269          253        135          3    15     205      1\n",
       "1   2       14    1558          217         60          3    15     222      1\n",
       "2   3        1    2400          154         80          3    20     165      1\n",
       "3   4        1    2466          253         80          3    20     195      1\n",
       "4   5        2     108           14        252          3    30     202      0"
      ]
     },
     "execution_count": 26,
     "metadata": {},
     "output_type": "execute_result"
    }
   ],
   "source": [
    "df.head(5)"
   ]
  },
  {
   "cell_type": "code",
   "execution_count": 27,
   "id": "cf01d56d",
   "metadata": {},
   "outputs": [
    {
     "data": {
      "text/plain": [
       "array([1, 0], dtype=int64)"
      ]
     },
     "execution_count": 27,
     "metadata": {},
     "output_type": "execute_result"
    }
   ],
   "source": [
    "df[\"Delay\"].unique()"
   ]
  },
  {
   "cell_type": "code",
   "execution_count": 28,
   "id": "24bf5e7d",
   "metadata": {},
   "outputs": [
    {
     "data": {
      "text/plain": [
       "<AxesSubplot:xlabel='Delay', ylabel='count'>"
      ]
     },
     "execution_count": 28,
     "metadata": {},
     "output_type": "execute_result"
    },
    {
     "data": {
      "image/png": "[encoded data removed]",
      "text/plain": [
       "<Figure size 432x288 with 1 Axes>"
      ]
     },
     "metadata": {
      "needs_background": "light"
     },
     "output_type": "display_data"
    }
   ],
   "source": [
    "sns.countplot(x=\"Delay\",data=df)"
   ]
  },
  {
   "cell_type": "code",
   "execution_count": 29,
   "id": "31488356",
   "metadata": {},
   "outputs": [
    {
     "data": {
      "text/plain": [
       "0    299119\n",
       "1    240264\n",
       "Name: Delay, dtype: int64"
      ]
     },
     "execution_count": 29,
     "metadata": {},
     "output_type": "execute_result"
    }
   ],
   "source": [
    "df[\"Delay\"].value_counts()"
   ]
  },
  {
   "cell_type": "markdown",
   "id": "17a403cc",
   "metadata": {},
   "source": [
    "# Feature Engineernig:"
   ]
  },
  {
   "cell_type": "code",
   "execution_count": 35,
   "id": "25ad3d63",
   "metadata": {},
   "outputs": [],
   "source": [
    "from sklearn.feature_selection import SelectKBest\n",
    "from sklearn.feature_selection import chi2"
   ]
  },
  {
   "cell_type": "code",
   "execution_count": 36,
   "id": "ef42e349",
   "metadata": {},
   "outputs": [],
   "source": [
    "##independent and dependent Feature:\n",
    "x=df.drop(\"Delay\",axis=1)\n",
    "y=df[\"Delay\"]"
   ]
  },
  {
   "cell_type": "code",
   "execution_count": 37,
   "id": "40760aa3",
   "metadata": {},
   "outputs": [],
   "source": [
    "## apply the selectKBest class to extract best feature:\n",
    "bestfeature = SelectKBest(score_func = chi2, k=6)\n",
    "fit =bestfeature.fit(x,y)"
   ]
  },
  {
   "cell_type": "code",
   "execution_count": 38,
   "id": "82499635",
   "metadata": {},
   "outputs": [],
   "source": [
    "dfscore=pd.DataFrame(fit.scores_)\n",
    "dfcolumn=pd.DataFrame(x.columns)"
   ]
  },
  {
   "cell_type": "code",
   "execution_count": 39,
   "id": "b0e29d9a",
   "metadata": {},
   "outputs": [],
   "source": [
    "##concat two data frame for best visulation:\n",
    "featureScores=pd.concat([dfcolumn,dfscore],axis=1)\n",
    "featureScores.columns = [\"Specs\",\"Score\"]"
   ]
  },
  {
   "cell_type": "code",
   "execution_count": 40,
   "id": "51011a9c",
   "metadata": {},
   "outputs": [
    {
     "data": {
      "text/html": [
       "<div>\n",
       "<style scoped>\n",
       "    .dataframe tbody tr th:only-of-type {\n",
       "        vertical-align: middle;\n",
       "    }\n",
       "\n",
       "    .dataframe tbody tr th {\n",
       "        vertical-align: top;\n",
       "    }\n",
       "\n",
       "    .dataframe thead th {\n",
       "        text-align: right;\n",
       "    }\n",
       "</style>\n",
       "<table border=\"1\" class=\"dataframe\">\n",
       "  <thead>\n",
       "    <tr style=\"text-align: right;\">\n",
       "      <th></th>\n",
       "      <th>Specs</th>\n",
       "      <th>Score</th>\n",
       "    </tr>\n",
       "  </thead>\n",
       "  <tbody>\n",
       "    <tr>\n",
       "      <th>0</th>\n",
       "      <td>id</td>\n",
       "      <td>9.471504e+08</td>\n",
       "    </tr>\n",
       "    <tr>\n",
       "      <th>1</th>\n",
       "      <td>Airline</td>\n",
       "      <td>7.289755e+03</td>\n",
       "    </tr>\n",
       "    <tr>\n",
       "      <th>2</th>\n",
       "      <td>Flight</td>\n",
       "      <td>2.024550e+06</td>\n",
       "    </tr>\n",
       "    <tr>\n",
       "      <th>3</th>\n",
       "      <td>AirportFrom</td>\n",
       "      <td>8.035527e+03</td>\n",
       "    </tr>\n",
       "    <tr>\n",
       "      <th>4</th>\n",
       "      <td>AirportTo</td>\n",
       "      <td>5.426548e+04</td>\n",
       "    </tr>\n",
       "    <tr>\n",
       "      <th>5</th>\n",
       "      <td>DayOfWeek</td>\n",
       "      <td>3.453861e+02</td>\n",
       "    </tr>\n",
       "    <tr>\n",
       "      <th>6</th>\n",
       "      <td>Time</td>\n",
       "      <td>1.175890e+06</td>\n",
       "    </tr>\n",
       "    <tr>\n",
       "      <th>7</th>\n",
       "      <td>Length</td>\n",
       "      <td>3.288437e+04</td>\n",
       "    </tr>\n",
       "  </tbody>\n",
       "</table>\n",
       "</div>"
      ],
      "text/plain": [
       "         Specs         Score\n",
       "0           id  9.471504e+08\n",
       "1      Airline  7.289755e+03\n",
       "2       Flight  2.024550e+06\n",
       "3  AirportFrom  8.035527e+03\n",
       "4    AirportTo  5.426548e+04\n",
       "5    DayOfWeek  3.453861e+02\n",
       "6         Time  1.175890e+06\n",
       "7       Length  3.288437e+04"
      ]
     },
     "execution_count": 40,
     "metadata": {},
     "output_type": "execute_result"
    }
   ],
   "source": [
    "featureScores"
   ]
  },
  {
   "cell_type": "code",
   "execution_count": 41,
   "id": "cdc603ba",
   "metadata": {},
   "outputs": [
    {
     "name": "stdout",
     "output_type": "stream",
     "text": [
      "         Specs         Score\n",
      "0           id  9.471504e+08\n",
      "2       Flight  2.024550e+06\n",
      "6         Time  1.175890e+06\n",
      "4    AirportTo  5.426548e+04\n",
      "7       Length  3.288437e+04\n",
      "3  AirportFrom  8.035527e+03\n"
     ]
    }
   ],
   "source": [
    "print(featureScores.nlargest(6,\"Score\"))"
   ]
  },
  {
   "cell_type": "code",
   "execution_count": 42,
   "id": "16663ef0",
   "metadata": {},
   "outputs": [
    {
     "data": {
      "text/html": [
       "<style>#sk-container-id-1 {color: black;background-color: white;}#sk-container-id-1 pre{padding: 0;}#sk-container-id-1 div.sk-toggleable {background-color: white;}#sk-container-id-1 label.sk-toggleable__label {cursor: pointer;display: block;width: 100%;margin-bottom: 0;padding: 0.3em;box-sizing: border-box;text-align: center;}#sk-container-id-1 label.sk-toggleable__label-arrow:before {content: \"▸\";float: left;margin-right: 0.25em;color: #696969;}#sk-container-id-1 label.sk-toggleable__label-arrow:hover:before {color: black;}#sk-container-id-1 div.sk-estimator:hover label.sk-toggleable__label-arrow:before {color: black;}#sk-container-id-1 div.sk-toggleable__content {max-height: 0;max-width: 0;overflow: hidden;text-align: left;background-color: #f0f8ff;}#sk-container-id-1 div.sk-toggleable__content pre {margin: 0.2em;color: black;border-radius: 0.25em;background-color: #f0f8ff;}#sk-container-id-1 input.sk-toggleable__control:checked~div.sk-toggleable__content {max-height: 200px;max-width: 100%;overflow: auto;}#sk-container-id-1 input.sk-toggleable__control:checked~label.sk-toggleable__label-arrow:before {content: \"▾\";}#sk-container-id-1 div.sk-estimator input.sk-toggleable__control:checked~label.sk-toggleable__label {background-color: #d4ebff;}#sk-container-id-1 div.sk-label input.sk-toggleable__control:checked~label.sk-toggleable__label {background-color: #d4ebff;}#sk-container-id-1 input.sk-hidden--visually {border: 0;clip: rect(1px 1px 1px 1px);clip: rect(1px, 1px, 1px, 1px);height: 1px;margin: -1px;overflow: hidden;padding: 0;position: absolute;width: 1px;}#sk-container-id-1 div.sk-estimator {font-family: monospace;background-color: #f0f8ff;border: 1px dotted black;border-radius: 0.25em;box-sizing: border-box;margin-bottom: 0.5em;}#sk-container-id-1 div.sk-estimator:hover {background-color: #d4ebff;}#sk-container-id-1 div.sk-parallel-item::after {content: \"\";width: 100%;border-bottom: 1px solid gray;flex-grow: 1;}#sk-container-id-1 div.sk-label:hover label.sk-toggleable__label {background-color: #d4ebff;}#sk-container-id-1 div.sk-serial::before {content: \"\";position: absolute;border-left: 1px solid gray;box-sizing: border-box;top: 0;bottom: 0;left: 50%;z-index: 0;}#sk-container-id-1 div.sk-serial {display: flex;flex-direction: column;align-items: center;background-color: white;padding-right: 0.2em;padding-left: 0.2em;position: relative;}#sk-container-id-1 div.sk-item {position: relative;z-index: 1;}#sk-container-id-1 div.sk-parallel {display: flex;align-items: stretch;justify-content: center;background-color: white;position: relative;}#sk-container-id-1 div.sk-item::before, #sk-container-id-1 div.sk-parallel-item::before {content: \"\";position: absolute;border-left: 1px solid gray;box-sizing: border-box;top: 0;bottom: 0;left: 50%;z-index: -1;}#sk-container-id-1 div.sk-parallel-item {display: flex;flex-direction: column;z-index: 1;position: relative;background-color: white;}#sk-container-id-1 div.sk-parallel-item:first-child::after {align-self: flex-end;width: 50%;}#sk-container-id-1 div.sk-parallel-item:last-child::after {align-self: flex-start;width: 50%;}#sk-container-id-1 div.sk-parallel-item:only-child::after {width: 0;}#sk-container-id-1 div.sk-dashed-wrapped {border: 1px dashed gray;margin: 0 0.4em 0.5em 0.4em;box-sizing: border-box;padding-bottom: 0.4em;background-color: white;}#sk-container-id-1 div.sk-label label {font-family: monospace;font-weight: bold;display: inline-block;line-height: 1.2em;}#sk-container-id-1 div.sk-label-container {text-align: center;}#sk-container-id-1 div.sk-container {/* jupyter's `normalize.less` sets `[hidden] { display: none; }` but bootstrap.min.css set `[hidden] { display: none !important; }` so we also need the `!important` here to be able to override the default hidden behavior on the sphinx rendered scikit-learn.org. See: https://github.com/scikit-learn/scikit-learn/issues/21755 */display: inline-block !important;position: relative;}#sk-container-id-1 div.sk-text-repr-fallback {display: none;}</style><div id=\"sk-container-id-1\" class=\"sk-top-container\"><div class=\"sk-text-repr-fallback\"><pre>StandardScaler()</pre><b>In a Jupyter environment, please rerun this cell to show the HTML representation or trust the notebook. <br />On GitHub, the HTML representation is unable to render, please try loading this page with nbviewer.org.</b></div><div class=\"sk-container\" hidden><div class=\"sk-item\"><div class=\"sk-estimator sk-toggleable\"><input class=\"sk-toggleable__control sk-hidden--visually\" id=\"sk-estimator-id-1\" type=\"checkbox\" checked><label for=\"sk-estimator-id-1\" class=\"sk-toggleable__label sk-toggleable__label-arrow\">StandardScaler</label><div class=\"sk-toggleable__content\"><pre>StandardScaler()</pre></div></div></div></div></div>"
      ],
      "text/plain": [
       "StandardScaler()"
      ]
     },
     "execution_count": 42,
     "metadata": {},
     "output_type": "execute_result"
    }
   ],
   "source": [
    "from sklearn.preprocessing  import StandardScaler\n",
    "scaler = StandardScaler()\n",
    "scaler.fit(df.drop(\"Delay\",axis=1))"
   ]
  },
  {
   "cell_type": "code",
   "execution_count": 43,
   "id": "7108a6c5",
   "metadata": {},
   "outputs": [
    {
     "data": {
      "text/html": [
       "<div>\n",
       "<style scoped>\n",
       "    .dataframe tbody tr th:only-of-type {\n",
       "        vertical-align: middle;\n",
       "    }\n",
       "\n",
       "    .dataframe tbody tr th {\n",
       "        vertical-align: top;\n",
       "    }\n",
       "\n",
       "    .dataframe thead th {\n",
       "        text-align: right;\n",
       "    }\n",
       "</style>\n",
       "<table border=\"1\" class=\"dataframe\">\n",
       "  <thead>\n",
       "    <tr style=\"text-align: right;\">\n",
       "      <th></th>\n",
       "      <th>id</th>\n",
       "      <th>Airline</th>\n",
       "      <th>Flight</th>\n",
       "      <th>AirportFrom</th>\n",
       "      <th>AirportTo</th>\n",
       "      <th>DayOfWeek</th>\n",
       "      <th>Time</th>\n",
       "      <th>Length</th>\n",
       "    </tr>\n",
       "  </thead>\n",
       "  <tbody>\n",
       "    <tr>\n",
       "      <th>0</th>\n",
       "      <td>-1.732048</td>\n",
       "      <td>-1.005308</td>\n",
       "      <td>-1.044258</td>\n",
       "      <td>1.371682</td>\n",
       "      <td>-0.115221</td>\n",
       "      <td>-0.485552</td>\n",
       "      <td>-2.833092</td>\n",
       "      <td>1.038237</td>\n",
       "    </tr>\n",
       "    <tr>\n",
       "      <th>1</th>\n",
       "      <td>-1.732041</td>\n",
       "      <td>0.879222</td>\n",
       "      <td>-0.420778</td>\n",
       "      <td>0.918165</td>\n",
       "      <td>-1.060364</td>\n",
       "      <td>-0.485552</td>\n",
       "      <td>-2.833092</td>\n",
       "      <td>1.280689</td>\n",
       "    </tr>\n",
       "    <tr>\n",
       "      <th>2</th>\n",
       "      <td>-1.732035</td>\n",
       "      <td>-1.570667</td>\n",
       "      <td>-0.013509</td>\n",
       "      <td>0.124511</td>\n",
       "      <td>-0.808326</td>\n",
       "      <td>-0.485552</td>\n",
       "      <td>-2.815110</td>\n",
       "      <td>0.467761</td>\n",
       "    </tr>\n",
       "  </tbody>\n",
       "</table>\n",
       "</div>"
      ],
      "text/plain": [
       "         id   Airline    Flight  AirportFrom  AirportTo  DayOfWeek      Time  \\\n",
       "0 -1.732048 -1.005308 -1.044258     1.371682  -0.115221  -0.485552 -2.833092   \n",
       "1 -1.732041  0.879222 -0.420778     0.918165  -1.060364  -0.485552 -2.833092   \n",
       "2 -1.732035 -1.570667 -0.013509     0.124511  -0.808326  -0.485552 -2.815110   \n",
       "\n",
       "     Length  \n",
       "0  1.038237  \n",
       "1  1.280689  \n",
       "2  0.467761  "
      ]
     },
     "execution_count": 43,
     "metadata": {},
     "output_type": "execute_result"
    }
   ],
   "source": [
    "scaled_features = scaler.transform(df.drop(\"Delay\",axis=1))\n",
    "df_feat = pd.DataFrame(scaled_features,columns=df.columns[:-1])\n",
    "df_feat.head(3)"
   ]
  },
  {
   "cell_type": "code",
   "execution_count": 44,
   "id": "11e1e428",
   "metadata": {},
   "outputs": [],
   "source": [
    "df_feat.drop(\"Length\",axis=1,inplace = True)\n"
   ]
  },
  {
   "cell_type": "code",
   "execution_count": 45,
   "id": "194ee166",
   "metadata": {},
   "outputs": [
    {
     "name": "stderr",
     "output_type": "stream",
     "text": [
      "C:\\Users\\RNARESHD\\Anaconda3\\lib\\site-packages\\seaborn\\_decorators.py:36: FutureWarning: Pass the following variable as a keyword arg: x. From version 0.12, the only valid positional argument will be `data`, and passing other arguments without an explicit keyword will result in an error or misinterpretation.\n",
      "  warnings.warn(\n"
     ]
    },
    {
     "data": {
      "text/plain": [
       "<AxesSubplot:xlabel='Length'>"
      ]
     },
     "execution_count": 45,
     "metadata": {},
     "output_type": "execute_result"
    },
    {
     "data": {
      "image/png": "[encoded data removed]",
      "text/plain": [
       "<Figure size 432x288 with 1 Axes>"
      ]
     },
     "metadata": {
      "needs_background": "light"
     },
     "output_type": "display_data"
    }
   ],
   "source": [
    "sns.boxplot(df[\"Length\"])"
   ]
  },
  {
   "cell_type": "code",
   "execution_count": 46,
   "id": "327de9f8",
   "metadata": {},
   "outputs": [
    {
     "data": {
      "text/html": [
       "<div>\n",
       "<style scoped>\n",
       "    .dataframe tbody tr th:only-of-type {\n",
       "        vertical-align: middle;\n",
       "    }\n",
       "\n",
       "    .dataframe tbody tr th {\n",
       "        vertical-align: top;\n",
       "    }\n",
       "\n",
       "    .dataframe thead th {\n",
       "        text-align: right;\n",
       "    }\n",
       "</style>\n",
       "<table border=\"1\" class=\"dataframe\">\n",
       "  <thead>\n",
       "    <tr style=\"text-align: right;\">\n",
       "      <th></th>\n",
       "      <th>id</th>\n",
       "      <th>Airline</th>\n",
       "      <th>Flight</th>\n",
       "      <th>AirportFrom</th>\n",
       "      <th>AirportTo</th>\n",
       "      <th>DayOfWeek</th>\n",
       "      <th>Time</th>\n",
       "    </tr>\n",
       "  </thead>\n",
       "  <tbody>\n",
       "    <tr>\n",
       "      <th>0</th>\n",
       "      <td>-1.732048</td>\n",
       "      <td>-1.005308</td>\n",
       "      <td>-1.044258</td>\n",
       "      <td>1.371682</td>\n",
       "      <td>-0.115221</td>\n",
       "      <td>-0.485552</td>\n",
       "      <td>-2.833092</td>\n",
       "    </tr>\n",
       "    <tr>\n",
       "      <th>1</th>\n",
       "      <td>-1.732041</td>\n",
       "      <td>0.879222</td>\n",
       "      <td>-0.420778</td>\n",
       "      <td>0.918165</td>\n",
       "      <td>-1.060364</td>\n",
       "      <td>-0.485552</td>\n",
       "      <td>-2.833092</td>\n",
       "    </tr>\n",
       "  </tbody>\n",
       "</table>\n",
       "</div>"
      ],
      "text/plain": [
       "         id   Airline    Flight  AirportFrom  AirportTo  DayOfWeek      Time\n",
       "0 -1.732048 -1.005308 -1.044258     1.371682  -0.115221  -0.485552 -2.833092\n",
       "1 -1.732041  0.879222 -0.420778     0.918165  -1.060364  -0.485552 -2.833092"
      ]
     },
     "execution_count": 46,
     "metadata": {},
     "output_type": "execute_result"
    }
   ],
   "source": [
    "df_feat.head(2)"
   ]
  },
  {
   "cell_type": "code",
   "execution_count": 47,
   "id": "65deaea1",
   "metadata": {},
   "outputs": [],
   "source": [
    "##independent and dependent Feature:\n",
    "x=df.drop(\"Delay\",axis=1)\n",
    "y=df[\"Delay\"]"
   ]
  },
  {
   "cell_type": "code",
   "execution_count": 48,
   "id": "15b3584d",
   "metadata": {},
   "outputs": [],
   "source": [
    "##Split dataset into X and Y train:\n",
    "from sklearn.model_selection import train_test_split\n",
    "x_train, x_test, y_train, y_test = train_test_split(x,y,test_size=0.2,random_state=0)"
   ]
  },
  {
   "cell_type": "code",
   "execution_count": 49,
   "id": "6f3620a2",
   "metadata": {},
   "outputs": [
    {
     "data": {
      "text/html": [
       "<div>\n",
       "<style scoped>\n",
       "    .dataframe tbody tr th:only-of-type {\n",
       "        vertical-align: middle;\n",
       "    }\n",
       "\n",
       "    .dataframe tbody tr th {\n",
       "        vertical-align: top;\n",
       "    }\n",
       "\n",
       "    .dataframe thead th {\n",
       "        text-align: right;\n",
       "    }\n",
       "</style>\n",
       "<table border=\"1\" class=\"dataframe\">\n",
       "  <thead>\n",
       "    <tr style=\"text-align: right;\">\n",
       "      <th></th>\n",
       "      <th>id</th>\n",
       "      <th>Airline</th>\n",
       "      <th>Flight</th>\n",
       "      <th>AirportFrom</th>\n",
       "      <th>AirportTo</th>\n",
       "      <th>DayOfWeek</th>\n",
       "      <th>Time</th>\n",
       "      <th>Length</th>\n",
       "    </tr>\n",
       "  </thead>\n",
       "  <tbody>\n",
       "    <tr>\n",
       "      <th>448331</th>\n",
       "      <td>448332</td>\n",
       "      <td>1</td>\n",
       "      <td>1638</td>\n",
       "      <td>80</td>\n",
       "      <td>22</td>\n",
       "      <td>7</td>\n",
       "      <td>1210</td>\n",
       "      <td>190</td>\n",
       "    </tr>\n",
       "    <tr>\n",
       "      <th>31507</th>\n",
       "      <td>31508</td>\n",
       "      <td>1</td>\n",
       "      <td>2493</td>\n",
       "      <td>22</td>\n",
       "      <td>80</td>\n",
       "      <td>4</td>\n",
       "      <td>1055</td>\n",
       "      <td>255</td>\n",
       "    </tr>\n",
       "    <tr>\n",
       "      <th>54212</th>\n",
       "      <td>54213</td>\n",
       "      <td>14</td>\n",
       "      <td>86</td>\n",
       "      <td>205</td>\n",
       "      <td>217</td>\n",
       "      <td>6</td>\n",
       "      <td>360</td>\n",
       "      <td>175</td>\n",
       "    </tr>\n",
       "    <tr>\n",
       "      <th>145872</th>\n",
       "      <td>145873</td>\n",
       "      <td>13</td>\n",
       "      <td>285</td>\n",
       "      <td>134</td>\n",
       "      <td>253</td>\n",
       "      <td>4</td>\n",
       "      <td>740</td>\n",
       "      <td>367</td>\n",
       "    </tr>\n",
       "    <tr>\n",
       "      <th>52426</th>\n",
       "      <td>52427</td>\n",
       "      <td>15</td>\n",
       "      <td>115</td>\n",
       "      <td>214</td>\n",
       "      <td>153</td>\n",
       "      <td>5</td>\n",
       "      <td>1205</td>\n",
       "      <td>125</td>\n",
       "    </tr>\n",
       "    <tr>\n",
       "      <th>...</th>\n",
       "      <td>...</td>\n",
       "      <td>...</td>\n",
       "      <td>...</td>\n",
       "      <td>...</td>\n",
       "      <td>...</td>\n",
       "      <td>...</td>\n",
       "      <td>...</td>\n",
       "      <td>...</td>\n",
       "    </tr>\n",
       "    <tr>\n",
       "      <th>359783</th>\n",
       "      <td>359784</td>\n",
       "      <td>0</td>\n",
       "      <td>3656</td>\n",
       "      <td>84</td>\n",
       "      <td>177</td>\n",
       "      <td>2</td>\n",
       "      <td>990</td>\n",
       "      <td>100</td>\n",
       "    </tr>\n",
       "    <tr>\n",
       "      <th>152315</th>\n",
       "      <td>152316</td>\n",
       "      <td>2</td>\n",
       "      <td>755</td>\n",
       "      <td>268</td>\n",
       "      <td>252</td>\n",
       "      <td>4</td>\n",
       "      <td>1080</td>\n",
       "      <td>268</td>\n",
       "    </tr>\n",
       "    <tr>\n",
       "      <th>117952</th>\n",
       "      <td>117953</td>\n",
       "      <td>8</td>\n",
       "      <td>917</td>\n",
       "      <td>45</td>\n",
       "      <td>184</td>\n",
       "      <td>2</td>\n",
       "      <td>1139</td>\n",
       "      <td>124</td>\n",
       "    </tr>\n",
       "    <tr>\n",
       "      <th>435829</th>\n",
       "      <td>435830</td>\n",
       "      <td>15</td>\n",
       "      <td>19</td>\n",
       "      <td>172</td>\n",
       "      <td>75</td>\n",
       "      <td>7</td>\n",
       "      <td>540</td>\n",
       "      <td>95</td>\n",
       "    </tr>\n",
       "    <tr>\n",
       "      <th>305711</th>\n",
       "      <td>305712</td>\n",
       "      <td>12</td>\n",
       "      <td>6628</td>\n",
       "      <td>27</td>\n",
       "      <td>79</td>\n",
       "      <td>6</td>\n",
       "      <td>925</td>\n",
       "      <td>190</td>\n",
       "    </tr>\n",
       "  </tbody>\n",
       "</table>\n",
       "<p>431506 rows × 8 columns</p>\n",
       "</div>"
      ],
      "text/plain": [
       "            id  Airline  Flight  AirportFrom  AirportTo  DayOfWeek  Time  \\\n",
       "448331  448332        1    1638           80         22          7  1210   \n",
       "31507    31508        1    2493           22         80          4  1055   \n",
       "54212    54213       14      86          205        217          6   360   \n",
       "145872  145873       13     285          134        253          4   740   \n",
       "52426    52427       15     115          214        153          5  1205   \n",
       "...        ...      ...     ...          ...        ...        ...   ...   \n",
       "359783  359784        0    3656           84        177          2   990   \n",
       "152315  152316        2     755          268        252          4  1080   \n",
       "117952  117953        8     917           45        184          2  1139   \n",
       "435829  435830       15      19          172         75          7   540   \n",
       "305711  305712       12    6628           27         79          6   925   \n",
       "\n",
       "        Length  \n",
       "448331     190  \n",
       "31507      255  \n",
       "54212      175  \n",
       "145872     367  \n",
       "52426      125  \n",
       "...        ...  \n",
       "359783     100  \n",
       "152315     268  \n",
       "117952     124  \n",
       "435829      95  \n",
       "305711     190  \n",
       "\n",
       "[431506 rows x 8 columns]"
      ]
     },
     "execution_count": 49,
     "metadata": {},
     "output_type": "execute_result"
    }
   ],
   "source": [
    "x_train"
   ]
  },
  {
   "cell_type": "code",
   "execution_count": 50,
   "id": "63805d60",
   "metadata": {},
   "outputs": [
    {
     "data": {
      "text/html": [
       "<style>#sk-container-id-2 {color: black;background-color: white;}#sk-container-id-2 pre{padding: 0;}#sk-container-id-2 div.sk-toggleable {background-color: white;}#sk-container-id-2 label.sk-toggleable__label {cursor: pointer;display: block;width: 100%;margin-bottom: 0;padding: 0.3em;box-sizing: border-box;text-align: center;}#sk-container-id-2 label.sk-toggleable__label-arrow:before {content: \"▸\";float: left;margin-right: 0.25em;color: #696969;}#sk-container-id-2 label.sk-toggleable__label-arrow:hover:before {color: black;}#sk-container-id-2 div.sk-estimator:hover label.sk-toggleable__label-arrow:before {color: black;}#sk-container-id-2 div.sk-toggleable__content {max-height: 0;max-width: 0;overflow: hidden;text-align: left;background-color: #f0f8ff;}#sk-container-id-2 div.sk-toggleable__content pre {margin: 0.2em;color: black;border-radius: 0.25em;background-color: #f0f8ff;}#sk-container-id-2 input.sk-toggleable__control:checked~div.sk-toggleable__content {max-height: 200px;max-width: 100%;overflow: auto;}#sk-container-id-2 input.sk-toggleable__control:checked~label.sk-toggleable__label-arrow:before {content: \"▾\";}#sk-container-id-2 div.sk-estimator input.sk-toggleable__control:checked~label.sk-toggleable__label {background-color: #d4ebff;}#sk-container-id-2 div.sk-label input.sk-toggleable__control:checked~label.sk-toggleable__label {background-color: #d4ebff;}#sk-container-id-2 input.sk-hidden--visually {border: 0;clip: rect(1px 1px 1px 1px);clip: rect(1px, 1px, 1px, 1px);height: 1px;margin: -1px;overflow: hidden;padding: 0;position: absolute;width: 1px;}#sk-container-id-2 div.sk-estimator {font-family: monospace;background-color: #f0f8ff;border: 1px dotted black;border-radius: 0.25em;box-sizing: border-box;margin-bottom: 0.5em;}#sk-container-id-2 div.sk-estimator:hover {background-color: #d4ebff;}#sk-container-id-2 div.sk-parallel-item::after {content: \"\";width: 100%;border-bottom: 1px solid gray;flex-grow: 1;}#sk-container-id-2 div.sk-label:hover label.sk-toggleable__label {background-color: #d4ebff;}#sk-container-id-2 div.sk-serial::before {content: \"\";position: absolute;border-left: 1px solid gray;box-sizing: border-box;top: 0;bottom: 0;left: 50%;z-index: 0;}#sk-container-id-2 div.sk-serial {display: flex;flex-direction: column;align-items: center;background-color: white;padding-right: 0.2em;padding-left: 0.2em;position: relative;}#sk-container-id-2 div.sk-item {position: relative;z-index: 1;}#sk-container-id-2 div.sk-parallel {display: flex;align-items: stretch;justify-content: center;background-color: white;position: relative;}#sk-container-id-2 div.sk-item::before, #sk-container-id-2 div.sk-parallel-item::before {content: \"\";position: absolute;border-left: 1px solid gray;box-sizing: border-box;top: 0;bottom: 0;left: 50%;z-index: -1;}#sk-container-id-2 div.sk-parallel-item {display: flex;flex-direction: column;z-index: 1;position: relative;background-color: white;}#sk-container-id-2 div.sk-parallel-item:first-child::after {align-self: flex-end;width: 50%;}#sk-container-id-2 div.sk-parallel-item:last-child::after {align-self: flex-start;width: 50%;}#sk-container-id-2 div.sk-parallel-item:only-child::after {width: 0;}#sk-container-id-2 div.sk-dashed-wrapped {border: 1px dashed gray;margin: 0 0.4em 0.5em 0.4em;box-sizing: border-box;padding-bottom: 0.4em;background-color: white;}#sk-container-id-2 div.sk-label label {font-family: monospace;font-weight: bold;display: inline-block;line-height: 1.2em;}#sk-container-id-2 div.sk-label-container {text-align: center;}#sk-container-id-2 div.sk-container {/* jupyter's `normalize.less` sets `[hidden] { display: none; }` but bootstrap.min.css set `[hidden] { display: none !important; }` so we also need the `!important` here to be able to override the default hidden behavior on the sphinx rendered scikit-learn.org. See: https://github.com/scikit-learn/scikit-learn/issues/21755 */display: inline-block !important;position: relative;}#sk-container-id-2 div.sk-text-repr-fallback {display: none;}</style><div id=\"sk-container-id-2\" class=\"sk-top-container\"><div class=\"sk-text-repr-fallback\"><pre>LogisticRegression()</pre><b>In a Jupyter environment, please rerun this cell to show the HTML representation or trust the notebook. <br />On GitHub, the HTML representation is unable to render, please try loading this page with nbviewer.org.</b></div><div class=\"sk-container\" hidden><div class=\"sk-item\"><div class=\"sk-estimator sk-toggleable\"><input class=\"sk-toggleable__control sk-hidden--visually\" id=\"sk-estimator-id-2\" type=\"checkbox\" checked><label for=\"sk-estimator-id-2\" class=\"sk-toggleable__label sk-toggleable__label-arrow\">LogisticRegression</label><div class=\"sk-toggleable__content\"><pre>LogisticRegression()</pre></div></div></div></div></div>"
      ],
      "text/plain": [
       "LogisticRegression()"
      ]
     },
     "execution_count": 50,
     "metadata": {},
     "output_type": "execute_result"
    }
   ],
   "source": [
    "##Fitting the linear model for train data:\n",
    "from sklearn.linear_model import LogisticRegression\n",
    "log_reg = LogisticRegression()\n",
    "log_reg.fit(x_train,y_train)"
   ]
  },
  {
   "cell_type": "code",
   "execution_count": 51,
   "id": "59089448",
   "metadata": {},
   "outputs": [],
   "source": [
    "##Aply Scaler\n",
    "#from sklearn.preprocessing import StandardScaler\n",
    "#scalr =StandardScaler().fit(x_train)\n",
    "#print(scalr)"
   ]
  },
  {
   "cell_type": "code",
   "execution_count": 52,
   "id": "40edb3d1",
   "metadata": {},
   "outputs": [],
   "source": [
    "#x_train_scale=scalr.transform(x_train)\n",
    "#print(x_train_scale)"
   ]
  },
  {
   "cell_type": "code",
   "execution_count": 53,
   "id": "e30da807",
   "metadata": {},
   "outputs": [],
   "source": [
    "#scalr =StandardScaler().fit(x_test)\n",
    "#print(scalr)\n",
    "#x_test_scale=scalr.transform(x_test)\n",
    "#print(x_test_scale)"
   ]
  },
  {
   "cell_type": "code",
   "execution_count": 54,
   "id": "e7a98b86",
   "metadata": {},
   "outputs": [
    {
     "data": {
      "text/plain": [
       "array([1, 0, 0, ..., 1, 0, 0], dtype=int64)"
      ]
     },
     "execution_count": 54,
     "metadata": {},
     "output_type": "execute_result"
    }
   ],
   "source": [
    "#prediction:\n",
    "y_pred = log_reg.predict(x_test)\n",
    "y_pred"
   ]
  },
  {
   "cell_type": "code",
   "execution_count": 55,
   "id": "571ed124",
   "metadata": {},
   "outputs": [
    {
     "name": "stdout",
     "output_type": "stream",
     "text": [
      "0.5714193016120211\n"
     ]
    }
   ],
   "source": [
    "##Accuracy score:\n",
    "from sklearn.metrics import accuracy_score, classification_report\n",
    "score=accuracy_score(y_pred,y_test)\n",
    "print(score)"
   ]
  },
  {
   "cell_type": "code",
   "execution_count": 56,
   "id": "9261ac6b",
   "metadata": {},
   "outputs": [
    {
     "name": "stdout",
     "output_type": "stream",
     "text": [
      "              precision    recall  f1-score   support\n",
      "\n",
      "           0       0.73      0.59      0.65     73622\n",
      "           1       0.37      0.52      0.44     34255\n",
      "\n",
      "    accuracy                           0.57    107877\n",
      "   macro avg       0.55      0.56      0.55    107877\n",
      "weighted avg       0.62      0.57      0.59    107877\n",
      "\n"
     ]
    }
   ],
   "source": [
    "print(classification_report(y_pred,y_test))"
   ]
  },
  {
   "cell_type": "code",
   "execution_count": 57,
   "id": "fb15fe90",
   "metadata": {},
   "outputs": [
    {
     "name": "stdout",
     "output_type": "stream",
     "text": [
      "with k = 3\n",
      "\n",
      "\n",
      "              precision    recall  f1-score   support\n",
      "\n",
      "           0       0.64      0.62      0.63     62765\n",
      "           1       0.50      0.53      0.51     45112\n",
      "\n",
      "    accuracy                           0.58    107877\n",
      "   macro avg       0.57      0.57      0.57    107877\n",
      "weighted avg       0.58      0.58      0.58    107877\n",
      "\n",
      "\n",
      "\n",
      "0.5714193016120211\n"
     ]
    }
   ],
   "source": [
    "##Fitted on knn model:\n",
    "from sklearn.neighbors import KNeighborsClassifier\n",
    "knn = KNeighborsClassifier(n_neighbors=3)\n",
    "knn.fit(x_train,y_train)\n",
    "pred=knn.predict(x_test)\n",
    "print(\"with k = 3\")\n",
    "print('\\n')\n",
    "#print(confusion_matrix(y_test,pred))\n",
    "#print('\\n')\n",
    "print(classification_report(pred,y_test))\n",
    "print(\"\\n\")\n",
    "score=accuracy_score(y_pred,y_test)\n",
    "print(score)"
   ]
  },
  {
   "cell_type": "code",
   "execution_count": 58,
   "id": "3390b617",
   "metadata": {},
   "outputs": [],
   "source": [
    "error_rate = []\n",
    "\n",
    "for i in range(1,20):\n",
    "    \n",
    "    knn = KNeighborsClassifier(n_neighbors=1)\n",
    "    knn.fit(x_train,y_train)\n",
    "    pred_i = knn.predict(x_test)\n",
    "    error_rate.append(np.mean(pred_i != y_test))"
   ]
  },
  {
   "cell_type": "code",
   "execution_count": 307,
   "id": "66cc1e66",
   "metadata": {},
   "outputs": [
    {
     "data": {
      "text/plain": [
       "Text(0, 0.5, 'Error rate')"
      ]
     },
     "execution_count": 307,
     "metadata": {},
     "output_type": "execute_result"
    },
    {
     "data": {
      "image/png": "[encoded data removed]",
      "text/plain": [
       "<Figure size 720x432 with 1 Axes>"
      ]
     },
     "metadata": {
      "needs_background": "light"
     },
     "output_type": "display_data"
    }
   ],
   "source": [
    "plt.figure(figsize=(10,6))\n",
    "plt.plot(range(3,20),error_rate,color='blue',linestyle='dashed',marker='o',markerfacecolor='red',markersize=10)\n",
    "plt.title(\"Error rate vs k value\")\n",
    "plt.xlabel('K')\n",
    "plt.ylabel(\"Error rate\")"
   ]
  },
  {
   "cell_type": "code",
   "execution_count": 5,
   "id": "9a081acb",
   "metadata": {},
   "outputs": [],
   "source": [
    "##Handling imbalanced data:"
   ]
  },
  {
   "cell_type": "code",
   "execution_count": 4,
   "id": "87f95de4",
   "metadata": {},
   "outputs": [
    {
     "data": {
      "text/plain": [
       "0    299119\n",
       "1    240264\n",
       "Name: Delay, dtype: int64"
      ]
     },
     "execution_count": 4,
     "metadata": {},
     "output_type": "execute_result"
    }
   ],
   "source": [
    "df[\"Delay\"].value_counts()"
   ]
  },
  {
   "cell_type": "code",
   "execution_count": 6,
   "id": "6cbdca91",
   "metadata": {},
   "outputs": [],
   "source": [
    "x=df.drop('Delay',axis=1)\n",
    "y=df[\"Delay\"]"
   ]
  },
  {
   "cell_type": "code",
   "execution_count": 68,
   "id": "e768a7c5",
   "metadata": {},
   "outputs": [],
   "source": [
    "from sklearn.linear_model import LogisticRegression\n",
    "from sklearn.metrics import accuracy_score,confusion_matrix,classification_report\n",
    "from sklearn.model_selection import KFold\n",
    "import numpy as np\n",
    "from sklearn.model_selection import GridSearchCV"
   ]
  },
  {
   "cell_type": "code",
   "execution_count": 71,
   "id": "5a154ac1",
   "metadata": {},
   "outputs": [],
   "source": [
    "log_class =LogisticRegression()\n",
    "grid = {'C':10.0 **np.arange(-2,3),'penalty':['l1','l2']}\n",
    "cv=KFold(n_splits=5,random_state=None,shuffle=False)"
   ]
  },
  {
   "cell_type": "code",
   "execution_count": 73,
   "id": "747ba8f9",
   "metadata": {},
   "outputs": [
    {
     "name": "stderr",
     "output_type": "stream",
     "text": [
      "C:\\Users\\RNARESHD\\Anaconda3\\lib\\site-packages\\sklearn\\model_selection\\_validation.py:378: FitFailedWarning: \n",
      "25 fits failed out of a total of 50.\n",
      "The score on these train-test partitions for these parameters will be set to nan.\n",
      "If these failures are not expected, you can try to debug them by setting error_score='raise'.\n",
      "\n",
      "Below are more details about the failures:\n",
      "--------------------------------------------------------------------------------\n",
      "25 fits failed with the following error:\n",
      "Traceback (most recent call last):\n",
      "  File \"C:\\Users\\RNARESHD\\Anaconda3\\lib\\site-packages\\sklearn\\model_selection\\_validation.py\", line 686, in _fit_and_score\n",
      "    estimator.fit(X_train, y_train, **fit_params)\n",
      "  File \"C:\\Users\\RNARESHD\\Anaconda3\\lib\\site-packages\\sklearn\\linear_model\\_logistic.py\", line 1091, in fit\n",
      "    solver = _check_solver(self.solver, self.penalty, self.dual)\n",
      "  File \"C:\\Users\\RNARESHD\\Anaconda3\\lib\\site-packages\\sklearn\\linear_model\\_logistic.py\", line 61, in _check_solver\n",
      "    raise ValueError(\n",
      "ValueError: Solver lbfgs supports only 'l2' or 'none' penalties, got l1 penalty.\n",
      "\n",
      "  warnings.warn(some_fits_failed_message, FitFailedWarning)\n",
      "C:\\Users\\RNARESHD\\Anaconda3\\lib\\site-packages\\sklearn\\model_selection\\_search.py:953: UserWarning: One or more of the test scores are non-finite: [       nan 0.54523771        nan 0.54523862        nan 0.54523862\n",
      "        nan 0.54523862        nan 0.54523862]\n",
      "  warnings.warn(\n"
     ]
    },
    {
     "data": {
      "text/html": [
       "<style>#sk-container-id-3 {color: black;background-color: white;}#sk-container-id-3 pre{padding: 0;}#sk-container-id-3 div.sk-toggleable {background-color: white;}#sk-container-id-3 label.sk-toggleable__label {cursor: pointer;display: block;width: 100%;margin-bottom: 0;padding: 0.3em;box-sizing: border-box;text-align: center;}#sk-container-id-3 label.sk-toggleable__label-arrow:before {content: \"▸\";float: left;margin-right: 0.25em;color: #696969;}#sk-container-id-3 label.sk-toggleable__label-arrow:hover:before {color: black;}#sk-container-id-3 div.sk-estimator:hover label.sk-toggleable__label-arrow:before {color: black;}#sk-container-id-3 div.sk-toggleable__content {max-height: 0;max-width: 0;overflow: hidden;text-align: left;background-color: #f0f8ff;}#sk-container-id-3 div.sk-toggleable__content pre {margin: 0.2em;color: black;border-radius: 0.25em;background-color: #f0f8ff;}#sk-container-id-3 input.sk-toggleable__control:checked~div.sk-toggleable__content {max-height: 200px;max-width: 100%;overflow: auto;}#sk-container-id-3 input.sk-toggleable__control:checked~label.sk-toggleable__label-arrow:before {content: \"▾\";}#sk-container-id-3 div.sk-estimator input.sk-toggleable__control:checked~label.sk-toggleable__label {background-color: #d4ebff;}#sk-container-id-3 div.sk-label input.sk-toggleable__control:checked~label.sk-toggleable__label {background-color: #d4ebff;}#sk-container-id-3 input.sk-hidden--visually {border: 0;clip: rect(1px 1px 1px 1px);clip: rect(1px, 1px, 1px, 1px);height: 1px;margin: -1px;overflow: hidden;padding: 0;position: absolute;width: 1px;}#sk-container-id-3 div.sk-estimator {font-family: monospace;background-color: #f0f8ff;border: 1px dotted black;border-radius: 0.25em;box-sizing: border-box;margin-bottom: 0.5em;}#sk-container-id-3 div.sk-estimator:hover {background-color: #d4ebff;}#sk-container-id-3 div.sk-parallel-item::after {content: \"\";width: 100%;border-bottom: 1px solid gray;flex-grow: 1;}#sk-container-id-3 div.sk-label:hover label.sk-toggleable__label {background-color: #d4ebff;}#sk-container-id-3 div.sk-serial::before {content: \"\";position: absolute;border-left: 1px solid gray;box-sizing: border-box;top: 0;bottom: 0;left: 50%;z-index: 0;}#sk-container-id-3 div.sk-serial {display: flex;flex-direction: column;align-items: center;background-color: white;padding-right: 0.2em;padding-left: 0.2em;position: relative;}#sk-container-id-3 div.sk-item {position: relative;z-index: 1;}#sk-container-id-3 div.sk-parallel {display: flex;align-items: stretch;justify-content: center;background-color: white;position: relative;}#sk-container-id-3 div.sk-item::before, #sk-container-id-3 div.sk-parallel-item::before {content: \"\";position: absolute;border-left: 1px solid gray;box-sizing: border-box;top: 0;bottom: 0;left: 50%;z-index: -1;}#sk-container-id-3 div.sk-parallel-item {display: flex;flex-direction: column;z-index: 1;position: relative;background-color: white;}#sk-container-id-3 div.sk-parallel-item:first-child::after {align-self: flex-end;width: 50%;}#sk-container-id-3 div.sk-parallel-item:last-child::after {align-self: flex-start;width: 50%;}#sk-container-id-3 div.sk-parallel-item:only-child::after {width: 0;}#sk-container-id-3 div.sk-dashed-wrapped {border: 1px dashed gray;margin: 0 0.4em 0.5em 0.4em;box-sizing: border-box;padding-bottom: 0.4em;background-color: white;}#sk-container-id-3 div.sk-label label {font-family: monospace;font-weight: bold;display: inline-block;line-height: 1.2em;}#sk-container-id-3 div.sk-label-container {text-align: center;}#sk-container-id-3 div.sk-container {/* jupyter's `normalize.less` sets `[hidden] { display: none; }` but bootstrap.min.css set `[hidden] { display: none !important; }` so we also need the `!important` here to be able to override the default hidden behavior on the sphinx rendered scikit-learn.org. See: https://github.com/scikit-learn/scikit-learn/issues/21755 */display: inline-block !important;position: relative;}#sk-container-id-3 div.sk-text-repr-fallback {display: none;}</style><div id=\"sk-container-id-3\" class=\"sk-top-container\"><div class=\"sk-text-repr-fallback\"><pre>GridSearchCV(cv=KFold(n_splits=5, random_state=None, shuffle=False),\n",
       "             estimator=LogisticRegression(), n_jobs=-1,\n",
       "             param_grid={&#x27;C&#x27;: array([1.e-02, 1.e-01, 1.e+00, 1.e+01, 1.e+02]),\n",
       "                         &#x27;penalty&#x27;: [&#x27;l1&#x27;, &#x27;l2&#x27;]},\n",
       "             scoring=&#x27;f1_macro&#x27;)</pre><b>In a Jupyter environment, please rerun this cell to show the HTML representation or trust the notebook. <br />On GitHub, the HTML representation is unable to render, please try loading this page with nbviewer.org.</b></div><div class=\"sk-container\" hidden><div class=\"sk-item sk-dashed-wrapped\"><div class=\"sk-label-container\"><div class=\"sk-label sk-toggleable\"><input class=\"sk-toggleable__control sk-hidden--visually\" id=\"sk-estimator-id-3\" type=\"checkbox\" ><label for=\"sk-estimator-id-3\" class=\"sk-toggleable__label sk-toggleable__label-arrow\">GridSearchCV</label><div class=\"sk-toggleable__content\"><pre>GridSearchCV(cv=KFold(n_splits=5, random_state=None, shuffle=False),\n",
       "             estimator=LogisticRegression(), n_jobs=-1,\n",
       "             param_grid={&#x27;C&#x27;: array([1.e-02, 1.e-01, 1.e+00, 1.e+01, 1.e+02]),\n",
       "                         &#x27;penalty&#x27;: [&#x27;l1&#x27;, &#x27;l2&#x27;]},\n",
       "             scoring=&#x27;f1_macro&#x27;)</pre></div></div></div><div class=\"sk-parallel\"><div class=\"sk-parallel-item\"><div class=\"sk-item\"><div class=\"sk-label-container\"><div class=\"sk-label sk-toggleable\"><input class=\"sk-toggleable__control sk-hidden--visually\" id=\"sk-estimator-id-4\" type=\"checkbox\" ><label for=\"sk-estimator-id-4\" class=\"sk-toggleable__label sk-toggleable__label-arrow\">estimator: LogisticRegression</label><div class=\"sk-toggleable__content\"><pre>LogisticRegression()</pre></div></div></div><div class=\"sk-serial\"><div class=\"sk-item\"><div class=\"sk-estimator sk-toggleable\"><input class=\"sk-toggleable__control sk-hidden--visually\" id=\"sk-estimator-id-5\" type=\"checkbox\" ><label for=\"sk-estimator-id-5\" class=\"sk-toggleable__label sk-toggleable__label-arrow\">LogisticRegression</label><div class=\"sk-toggleable__content\"><pre>LogisticRegression()</pre></div></div></div></div></div></div></div></div></div></div>"
      ],
      "text/plain": [
       "GridSearchCV(cv=KFold(n_splits=5, random_state=None, shuffle=False),\n",
       "             estimator=LogisticRegression(), n_jobs=-1,\n",
       "             param_grid={'C': array([1.e-02, 1.e-01, 1.e+00, 1.e+01, 1.e+02]),\n",
       "                         'penalty': ['l1', 'l2']},\n",
       "             scoring='f1_macro')"
      ]
     },
     "execution_count": 73,
     "metadata": {},
     "output_type": "execute_result"
    }
   ],
   "source": [
    "clf=GridSearchCV(log_class,grid,cv=cv,n_jobs=-1,scoring='f1_macro')\n",
    "clf.fit(x_train,y_train)"
   ]
  },
  {
   "cell_type": "code",
   "execution_count": null,
   "id": "afe677be",
   "metadata": {},
   "outputs": [],
   "source": [
    "##Split dataset into X and Y train:\n",
    "from sklearn.model_selection import train_test_split\n",
    "x_train, x_test, y_train, y_test = train_test_split(x,y,test_size=0.2,random_state=0)"
   ]
  },
  {
   "cell_type": "code",
   "execution_count": 78,
   "id": "a0e9188a",
   "metadata": {},
   "outputs": [
    {
     "name": "stdout",
     "output_type": "stream",
     "text": [
      "[[43701 16313]\n",
      " [29921 17942]]\n",
      "0.5714193016120211\n",
      "              precision    recall  f1-score   support\n",
      "\n",
      "           0       0.59      0.73      0.65     60014\n",
      "           1       0.52      0.37      0.44     47863\n",
      "\n",
      "    accuracy                           0.57    107877\n",
      "   macro avg       0.56      0.55      0.55    107877\n",
      "weighted avg       0.56      0.57      0.56    107877\n",
      "\n"
     ]
    }
   ],
   "source": [
    "y_pred =clf.predict(x_test)\n",
    "print(confusion_matrix(y_test,y_pred))\n",
    "print(accuracy_score(y_test,y_pred))\n",
    "print(classification_report(y_test,y_pred))"
   ]
  },
  {
   "cell_type": "code",
   "execution_count": 82,
   "id": "3c4fd6ba",
   "metadata": {},
   "outputs": [],
   "source": [
    "class_weight =dict({0:1,1:100})"
   ]
  },
  {
   "cell_type": "code",
   "execution_count": 88,
   "id": "71ed557a",
   "metadata": {},
   "outputs": [
    {
     "data": {
      "text/html": [
       "<style>#sk-container-id-6 {color: black;background-color: white;}#sk-container-id-6 pre{padding: 0;}#sk-container-id-6 div.sk-toggleable {background-color: white;}#sk-container-id-6 label.sk-toggleable__label {cursor: pointer;display: block;width: 100%;margin-bottom: 0;padding: 0.3em;box-sizing: border-box;text-align: center;}#sk-container-id-6 label.sk-toggleable__label-arrow:before {content: \"▸\";float: left;margin-right: 0.25em;color: #696969;}#sk-container-id-6 label.sk-toggleable__label-arrow:hover:before {color: black;}#sk-container-id-6 div.sk-estimator:hover label.sk-toggleable__label-arrow:before {color: black;}#sk-container-id-6 div.sk-toggleable__content {max-height: 0;max-width: 0;overflow: hidden;text-align: left;background-color: #f0f8ff;}#sk-container-id-6 div.sk-toggleable__content pre {margin: 0.2em;color: black;border-radius: 0.25em;background-color: #f0f8ff;}#sk-container-id-6 input.sk-toggleable__control:checked~div.sk-toggleable__content {max-height: 200px;max-width: 100%;overflow: auto;}#sk-container-id-6 input.sk-toggleable__control:checked~label.sk-toggleable__label-arrow:before {content: \"▾\";}#sk-container-id-6 div.sk-estimator input.sk-toggleable__control:checked~label.sk-toggleable__label {background-color: #d4ebff;}#sk-container-id-6 div.sk-label input.sk-toggleable__control:checked~label.sk-toggleable__label {background-color: #d4ebff;}#sk-container-id-6 input.sk-hidden--visually {border: 0;clip: rect(1px 1px 1px 1px);clip: rect(1px, 1px, 1px, 1px);height: 1px;margin: -1px;overflow: hidden;padding: 0;position: absolute;width: 1px;}#sk-container-id-6 div.sk-estimator {font-family: monospace;background-color: #f0f8ff;border: 1px dotted black;border-radius: 0.25em;box-sizing: border-box;margin-bottom: 0.5em;}#sk-container-id-6 div.sk-estimator:hover {background-color: #d4ebff;}#sk-container-id-6 div.sk-parallel-item::after {content: \"\";width: 100%;border-bottom: 1px solid gray;flex-grow: 1;}#sk-container-id-6 div.sk-label:hover label.sk-toggleable__label {background-color: #d4ebff;}#sk-container-id-6 div.sk-serial::before {content: \"\";position: absolute;border-left: 1px solid gray;box-sizing: border-box;top: 0;bottom: 0;left: 50%;z-index: 0;}#sk-container-id-6 div.sk-serial {display: flex;flex-direction: column;align-items: center;background-color: white;padding-right: 0.2em;padding-left: 0.2em;position: relative;}#sk-container-id-6 div.sk-item {position: relative;z-index: 1;}#sk-container-id-6 div.sk-parallel {display: flex;align-items: stretch;justify-content: center;background-color: white;position: relative;}#sk-container-id-6 div.sk-item::before, #sk-container-id-6 div.sk-parallel-item::before {content: \"\";position: absolute;border-left: 1px solid gray;box-sizing: border-box;top: 0;bottom: 0;left: 50%;z-index: -1;}#sk-container-id-6 div.sk-parallel-item {display: flex;flex-direction: column;z-index: 1;position: relative;background-color: white;}#sk-container-id-6 div.sk-parallel-item:first-child::after {align-self: flex-end;width: 50%;}#sk-container-id-6 div.sk-parallel-item:last-child::after {align-self: flex-start;width: 50%;}#sk-container-id-6 div.sk-parallel-item:only-child::after {width: 0;}#sk-container-id-6 div.sk-dashed-wrapped {border: 1px dashed gray;margin: 0 0.4em 0.5em 0.4em;box-sizing: border-box;padding-bottom: 0.4em;background-color: white;}#sk-container-id-6 div.sk-label label {font-family: monospace;font-weight: bold;display: inline-block;line-height: 1.2em;}#sk-container-id-6 div.sk-label-container {text-align: center;}#sk-container-id-6 div.sk-container {/* jupyter's `normalize.less` sets `[hidden] { display: none; }` but bootstrap.min.css set `[hidden] { display: none !important; }` so we also need the `!important` here to be able to override the default hidden behavior on the sphinx rendered scikit-learn.org. See: https://github.com/scikit-learn/scikit-learn/issues/21755 */display: inline-block !important;position: relative;}#sk-container-id-6 div.sk-text-repr-fallback {display: none;}</style><div id=\"sk-container-id-6\" class=\"sk-top-container\"><div class=\"sk-text-repr-fallback\"><pre>RandomForestClassifier(class_weight={0: 1, 1: 100})</pre><b>In a Jupyter environment, please rerun this cell to show the HTML representation or trust the notebook. <br />On GitHub, the HTML representation is unable to render, please try loading this page with nbviewer.org.</b></div><div class=\"sk-container\" hidden><div class=\"sk-item\"><div class=\"sk-estimator sk-toggleable\"><input class=\"sk-toggleable__control sk-hidden--visually\" id=\"sk-estimator-id-8\" type=\"checkbox\" checked><label for=\"sk-estimator-id-8\" class=\"sk-toggleable__label sk-toggleable__label-arrow\">RandomForestClassifier</label><div class=\"sk-toggleable__content\"><pre>RandomForestClassifier(class_weight={0: 1, 1: 100})</pre></div></div></div></div></div>"
      ],
      "text/plain": [
       "RandomForestClassifier(class_weight={0: 1, 1: 100})"
      ]
     },
     "execution_count": 88,
     "metadata": {},
     "output_type": "execute_result"
    }
   ],
   "source": [
    "from sklearn.ensemble import RandomForestClassifier \n",
    "clrf = RandomForestClassifier(class_weight=class_weight)\n",
    "clrf.fit(x_train, y_train)"
   ]
  },
  {
   "cell_type": "code",
   "execution_count": 90,
   "id": "3237b464",
   "metadata": {},
   "outputs": [
    {
     "name": "stdout",
     "output_type": "stream",
     "text": [
      "[[47990 12024]\n",
      " [21307 26556]]\n",
      "0.6910277445609352\n",
      "              precision    recall  f1-score   support\n",
      "\n",
      "           0       0.69      0.80      0.74     60014\n",
      "           1       0.69      0.55      0.61     47863\n",
      "\n",
      "    accuracy                           0.69    107877\n",
      "   macro avg       0.69      0.68      0.68    107877\n",
      "weighted avg       0.69      0.69      0.69    107877\n",
      "\n"
     ]
    }
   ],
   "source": [
    "y_pred = clrf.predict(x_test)\n",
    "print(confusion_matrix(y_test,y_pred))\n",
    "print(accuracy_score(y_test,y_pred))\n",
    "print(classification_report(y_test,y_pred))"
   ]
  },
  {
   "cell_type": "code",
   "execution_count": null,
   "id": "7d67f6b0",
   "metadata": {},
   "outputs": [],
   "source": [
    "# y_pred = clrf.predict(x_test)\n",
    "print(confusion_matrix(y_test,y_pred))\n",
    "print(accuracy_score(y_test,y_pred))\n",
    "print(classification_report(y_test,y_pred))"
   ]
  },
  {
   "cell_type": "markdown",
   "id": "1e05ce43",
   "metadata": {},
   "source": [
    "# Balence Data:"
   ]
  },
  {
   "cell_type": "code",
   "execution_count": 98,
   "id": "07b8931d",
   "metadata": {},
   "outputs": [
    {
     "data": {
      "text/plain": [
       "Counter({0: 239105, 1: 192401})"
      ]
     },
     "execution_count": 98,
     "metadata": {},
     "output_type": "execute_result"
    }
   ],
   "source": [
    "##Under sampling:\n",
    "from collections import Counter \n",
    "Counter(y_train)"
   ]
  },
  {
   "cell_type": "code",
   "execution_count": 104,
   "id": "1681ff0b",
   "metadata": {},
   "outputs": [
    {
     "name": "stdout",
     "output_type": "stream",
     "text": [
      "the number of class before fit Counter({0: 239105, 1: 192401})\n",
      "the number of class after fit Counter({0: 192401, 1: 192401})\n"
     ]
    }
   ],
   "source": [
    "from collections import Counter\n",
    "from imblearn.under_sampling import RandomUnderSampler  \n",
    "\n",
    "ns = RandomUnderSampler()\n",
    "x_train_ns, y_train_ns = ns.fit_resample(x_train,y_train)\n",
    "print(\"the number of class before fit {}\".format(Counter(y_train)))\n",
    "print(\"the number of class after fit {}\".format(Counter(y_train_ns)))"
   ]
  },
  {
   "cell_type": "code",
   "execution_count": 107,
   "id": "2610129e",
   "metadata": {},
   "outputs": [
    {
     "data": {
      "text/html": [
       "<style>#sk-container-id-7 {color: black;background-color: white;}#sk-container-id-7 pre{padding: 0;}#sk-container-id-7 div.sk-toggleable {background-color: white;}#sk-container-id-7 label.sk-toggleable__label {cursor: pointer;display: block;width: 100%;margin-bottom: 0;padding: 0.3em;box-sizing: border-box;text-align: center;}#sk-container-id-7 label.sk-toggleable__label-arrow:before {content: \"▸\";float: left;margin-right: 0.25em;color: #696969;}#sk-container-id-7 label.sk-toggleable__label-arrow:hover:before {color: black;}#sk-container-id-7 div.sk-estimator:hover label.sk-toggleable__label-arrow:before {color: black;}#sk-container-id-7 div.sk-toggleable__content {max-height: 0;max-width: 0;overflow: hidden;text-align: left;background-color: #f0f8ff;}#sk-container-id-7 div.sk-toggleable__content pre {margin: 0.2em;color: black;border-radius: 0.25em;background-color: #f0f8ff;}#sk-container-id-7 input.sk-toggleable__control:checked~div.sk-toggleable__content {max-height: 200px;max-width: 100%;overflow: auto;}#sk-container-id-7 input.sk-toggleable__control:checked~label.sk-toggleable__label-arrow:before {content: \"▾\";}#sk-container-id-7 div.sk-estimator input.sk-toggleable__control:checked~label.sk-toggleable__label {background-color: #d4ebff;}#sk-container-id-7 div.sk-label input.sk-toggleable__control:checked~label.sk-toggleable__label {background-color: #d4ebff;}#sk-container-id-7 input.sk-hidden--visually {border: 0;clip: rect(1px 1px 1px 1px);clip: rect(1px, 1px, 1px, 1px);height: 1px;margin: -1px;overflow: hidden;padding: 0;position: absolute;width: 1px;}#sk-container-id-7 div.sk-estimator {font-family: monospace;background-color: #f0f8ff;border: 1px dotted black;border-radius: 0.25em;box-sizing: border-box;margin-bottom: 0.5em;}#sk-container-id-7 div.sk-estimator:hover {background-color: #d4ebff;}#sk-container-id-7 div.sk-parallel-item::after {content: \"\";width: 100%;border-bottom: 1px solid gray;flex-grow: 1;}#sk-container-id-7 div.sk-label:hover label.sk-toggleable__label {background-color: #d4ebff;}#sk-container-id-7 div.sk-serial::before {content: \"\";position: absolute;border-left: 1px solid gray;box-sizing: border-box;top: 0;bottom: 0;left: 50%;z-index: 0;}#sk-container-id-7 div.sk-serial {display: flex;flex-direction: column;align-items: center;background-color: white;padding-right: 0.2em;padding-left: 0.2em;position: relative;}#sk-container-id-7 div.sk-item {position: relative;z-index: 1;}#sk-container-id-7 div.sk-parallel {display: flex;align-items: stretch;justify-content: center;background-color: white;position: relative;}#sk-container-id-7 div.sk-item::before, #sk-container-id-7 div.sk-parallel-item::before {content: \"\";position: absolute;border-left: 1px solid gray;box-sizing: border-box;top: 0;bottom: 0;left: 50%;z-index: -1;}#sk-container-id-7 div.sk-parallel-item {display: flex;flex-direction: column;z-index: 1;position: relative;background-color: white;}#sk-container-id-7 div.sk-parallel-item:first-child::after {align-self: flex-end;width: 50%;}#sk-container-id-7 div.sk-parallel-item:last-child::after {align-self: flex-start;width: 50%;}#sk-container-id-7 div.sk-parallel-item:only-child::after {width: 0;}#sk-container-id-7 div.sk-dashed-wrapped {border: 1px dashed gray;margin: 0 0.4em 0.5em 0.4em;box-sizing: border-box;padding-bottom: 0.4em;background-color: white;}#sk-container-id-7 div.sk-label label {font-family: monospace;font-weight: bold;display: inline-block;line-height: 1.2em;}#sk-container-id-7 div.sk-label-container {text-align: center;}#sk-container-id-7 div.sk-container {/* jupyter's `normalize.less` sets `[hidden] { display: none; }` but bootstrap.min.css set `[hidden] { display: none !important; }` so we also need the `!important` here to be able to override the default hidden behavior on the sphinx rendered scikit-learn.org. See: https://github.com/scikit-learn/scikit-learn/issues/21755 */display: inline-block !important;position: relative;}#sk-container-id-7 div.sk-text-repr-fallback {display: none;}</style><div id=\"sk-container-id-7\" class=\"sk-top-container\"><div class=\"sk-text-repr-fallback\"><pre>RandomForestClassifier()</pre><b>In a Jupyter environment, please rerun this cell to show the HTML representation or trust the notebook. <br />On GitHub, the HTML representation is unable to render, please try loading this page with nbviewer.org.</b></div><div class=\"sk-container\" hidden><div class=\"sk-item\"><div class=\"sk-estimator sk-toggleable\"><input class=\"sk-toggleable__control sk-hidden--visually\" id=\"sk-estimator-id-9\" type=\"checkbox\" checked><label for=\"sk-estimator-id-9\" class=\"sk-toggleable__label sk-toggleable__label-arrow\">RandomForestClassifier</label><div class=\"sk-toggleable__content\"><pre>RandomForestClassifier()</pre></div></div></div></div></div>"
      ],
      "text/plain": [
       "RandomForestClassifier()"
      ]
     },
     "execution_count": 107,
     "metadata": {},
     "output_type": "execute_result"
    }
   ],
   "source": [
    "from sklearn.ensemble import RandomForestClassifier \n",
    "clrf = RandomForestClassifier()\n",
    "clrf.fit(x_train_ns, y_train_ns)"
   ]
  },
  {
   "cell_type": "code",
   "execution_count": 108,
   "id": "6dd5c978",
   "metadata": {},
   "outputs": [
    {
     "name": "stdout",
     "output_type": "stream",
     "text": [
      "[[41819 18195]\n",
      " [16024 31839]]\n",
      "0.6827961474642417\n",
      "              precision    recall  f1-score   support\n",
      "\n",
      "           0       0.72      0.70      0.71     60014\n",
      "           1       0.64      0.67      0.65     47863\n",
      "\n",
      "    accuracy                           0.68    107877\n",
      "   macro avg       0.68      0.68      0.68    107877\n",
      "weighted avg       0.68      0.68      0.68    107877\n",
      "\n"
     ]
    }
   ],
   "source": [
    "y_pred =clrf.predict(x_test)\n",
    "print(confusion_matrix(y_test,y_pred))\n",
    "print(accuracy_score(y_test,y_pred))\n",
    "print(classification_report(y_test,y_pred))"
   ]
  },
  {
   "cell_type": "code",
   "execution_count": 113,
   "id": "4f28df9e",
   "metadata": {},
   "outputs": [
    {
     "name": "stdout",
     "output_type": "stream",
     "text": [
      "the number of class before fit Counter({0: 239105, 1: 192401})\n",
      "the number of class after fit Counter({0: 239105, 1: 239105})\n"
     ]
    }
   ],
   "source": [
    "##OverSampling:\n",
    "from imblearn.over_sampling import RandomOverSampler \n",
    "os = RandomOverSampler()\n",
    "x_train_ns, y_train_ns = os.fit_resample(x_train,y_train)\n",
    "print(\"the number of class before fit {}\".format(Counter(y_train)))\n",
    "print(\"the number of class after fit {}\".format(Counter(y_train_ns)))"
   ]
  },
  {
   "cell_type": "code",
   "execution_count": 114,
   "id": "989c6502",
   "metadata": {},
   "outputs": [
    {
     "data": {
      "text/html": [
       "<style>#sk-container-id-9 {color: black;background-color: white;}#sk-container-id-9 pre{padding: 0;}#sk-container-id-9 div.sk-toggleable {background-color: white;}#sk-container-id-9 label.sk-toggleable__label {cursor: pointer;display: block;width: 100%;margin-bottom: 0;padding: 0.3em;box-sizing: border-box;text-align: center;}#sk-container-id-9 label.sk-toggleable__label-arrow:before {content: \"▸\";float: left;margin-right: 0.25em;color: #696969;}#sk-container-id-9 label.sk-toggleable__label-arrow:hover:before {color: black;}#sk-container-id-9 div.sk-estimator:hover label.sk-toggleable__label-arrow:before {color: black;}#sk-container-id-9 div.sk-toggleable__content {max-height: 0;max-width: 0;overflow: hidden;text-align: left;background-color: #f0f8ff;}#sk-container-id-9 div.sk-toggleable__content pre {margin: 0.2em;color: black;border-radius: 0.25em;background-color: #f0f8ff;}#sk-container-id-9 input.sk-toggleable__control:checked~div.sk-toggleable__content {max-height: 200px;max-width: 100%;overflow: auto;}#sk-container-id-9 input.sk-toggleable__control:checked~label.sk-toggleable__label-arrow:before {content: \"▾\";}#sk-container-id-9 div.sk-estimator input.sk-toggleable__control:checked~label.sk-toggleable__label {background-color: #d4ebff;}#sk-container-id-9 div.sk-label input.sk-toggleable__control:checked~label.sk-toggleable__label {background-color: #d4ebff;}#sk-container-id-9 input.sk-hidden--visually {border: 0;clip: rect(1px 1px 1px 1px);clip: rect(1px, 1px, 1px, 1px);height: 1px;margin: -1px;overflow: hidden;padding: 0;position: absolute;width: 1px;}#sk-container-id-9 div.sk-estimator {font-family: monospace;background-color: #f0f8ff;border: 1px dotted black;border-radius: 0.25em;box-sizing: border-box;margin-bottom: 0.5em;}#sk-container-id-9 div.sk-estimator:hover {background-color: #d4ebff;}#sk-container-id-9 div.sk-parallel-item::after {content: \"\";width: 100%;border-bottom: 1px solid gray;flex-grow: 1;}#sk-container-id-9 div.sk-label:hover label.sk-toggleable__label {background-color: #d4ebff;}#sk-container-id-9 div.sk-serial::before {content: \"\";position: absolute;border-left: 1px solid gray;box-sizing: border-box;top: 0;bottom: 0;left: 50%;z-index: 0;}#sk-container-id-9 div.sk-serial {display: flex;flex-direction: column;align-items: center;background-color: white;padding-right: 0.2em;padding-left: 0.2em;position: relative;}#sk-container-id-9 div.sk-item {position: relative;z-index: 1;}#sk-container-id-9 div.sk-parallel {display: flex;align-items: stretch;justify-content: center;background-color: white;position: relative;}#sk-container-id-9 div.sk-item::before, #sk-container-id-9 div.sk-parallel-item::before {content: \"\";position: absolute;border-left: 1px solid gray;box-sizing: border-box;top: 0;bottom: 0;left: 50%;z-index: -1;}#sk-container-id-9 div.sk-parallel-item {display: flex;flex-direction: column;z-index: 1;position: relative;background-color: white;}#sk-container-id-9 div.sk-parallel-item:first-child::after {align-self: flex-end;width: 50%;}#sk-container-id-9 div.sk-parallel-item:last-child::after {align-self: flex-start;width: 50%;}#sk-container-id-9 div.sk-parallel-item:only-child::after {width: 0;}#sk-container-id-9 div.sk-dashed-wrapped {border: 1px dashed gray;margin: 0 0.4em 0.5em 0.4em;box-sizing: border-box;padding-bottom: 0.4em;background-color: white;}#sk-container-id-9 div.sk-label label {font-family: monospace;font-weight: bold;display: inline-block;line-height: 1.2em;}#sk-container-id-9 div.sk-label-container {text-align: center;}#sk-container-id-9 div.sk-container {/* jupyter's `normalize.less` sets `[hidden] { display: none; }` but bootstrap.min.css set `[hidden] { display: none !important; }` so we also need the `!important` here to be able to override the default hidden behavior on the sphinx rendered scikit-learn.org. See: https://github.com/scikit-learn/scikit-learn/issues/21755 */display: inline-block !important;position: relative;}#sk-container-id-9 div.sk-text-repr-fallback {display: none;}</style><div id=\"sk-container-id-9\" class=\"sk-top-container\"><div class=\"sk-text-repr-fallback\"><pre>RandomForestClassifier()</pre><b>In a Jupyter environment, please rerun this cell to show the HTML representation or trust the notebook. <br />On GitHub, the HTML representation is unable to render, please try loading this page with nbviewer.org.</b></div><div class=\"sk-container\" hidden><div class=\"sk-item\"><div class=\"sk-estimator sk-toggleable\"><input class=\"sk-toggleable__control sk-hidden--visually\" id=\"sk-estimator-id-11\" type=\"checkbox\" checked><label for=\"sk-estimator-id-11\" class=\"sk-toggleable__label sk-toggleable__label-arrow\">RandomForestClassifier</label><div class=\"sk-toggleable__content\"><pre>RandomForestClassifier()</pre></div></div></div></div></div>"
      ],
      "text/plain": [
       "RandomForestClassifier()"
      ]
     },
     "execution_count": 114,
     "metadata": {},
     "output_type": "execute_result"
    }
   ],
   "source": [
    "from sklearn.ensemble import RandomForestClassifier \n",
    "clrf = RandomForestClassifier()\n",
    "clrf.fit(x_train_ns, y_train_ns)"
   ]
  },
  {
   "cell_type": "code",
   "execution_count": 115,
   "id": "2df5ad55",
   "metadata": {},
   "outputs": [
    {
     "name": "stdout",
     "output_type": "stream",
     "text": [
      "[[44646 15368]\n",
      " [18149 29714]]\n",
      "0.6893035586825736\n",
      "              precision    recall  f1-score   support\n",
      "\n",
      "           0       0.71      0.74      0.73     60014\n",
      "           1       0.66      0.62      0.64     47863\n",
      "\n",
      "    accuracy                           0.69    107877\n",
      "   macro avg       0.69      0.68      0.68    107877\n",
      "weighted avg       0.69      0.69      0.69    107877\n",
      "\n"
     ]
    }
   ],
   "source": [
    "y_pred =clrf.predict(x_test)\n",
    "print(confusion_matrix(y_test,y_pred))\n",
    "print(accuracy_score(y_test,y_pred))\n",
    "print(classification_report(y_test,y_pred))"
   ]
  },
  {
   "cell_type": "code",
   "execution_count": 116,
   "id": "2e09c875",
   "metadata": {},
   "outputs": [],
   "source": [
    "##SMOTHTomek technique:"
   ]
  },
  {
   "cell_type": "code",
   "execution_count": 120,
   "id": "1a720e9c",
   "metadata": {},
   "outputs": [],
   "source": [
    "from imblearn.combine import SMOTETomek"
   ]
  },
  {
   "cell_type": "code",
   "execution_count": 123,
   "id": "6084ad1e",
   "metadata": {},
   "outputs": [
    {
     "name": "stdout",
     "output_type": "stream",
     "text": [
      "the number of class before fit Counter({0: 239105, 1: 192401})\n",
      "the number of class after fit Counter({0: 197703, 1: 197703})\n"
     ]
    }
   ],
   "source": [
    "os = SMOTETomek()\n",
    "x_train_ns, y_train_ns = os.fit_resample(x_train,y_train)\n",
    "print(\"the number of class before fit {}\".format(Counter(y_train)))\n",
    "print(\"the number of class after fit {}\".format(Counter(y_train_ns)))"
   ]
  },
  {
   "cell_type": "code",
   "execution_count": 124,
   "id": "81cabef4",
   "metadata": {},
   "outputs": [
    {
     "data": {
      "text/html": [
       "<style>#sk-container-id-10 {color: black;background-color: white;}#sk-container-id-10 pre{padding: 0;}#sk-container-id-10 div.sk-toggleable {background-color: white;}#sk-container-id-10 label.sk-toggleable__label {cursor: pointer;display: block;width: 100%;margin-bottom: 0;padding: 0.3em;box-sizing: border-box;text-align: center;}#sk-container-id-10 label.sk-toggleable__label-arrow:before {content: \"▸\";float: left;margin-right: 0.25em;color: #696969;}#sk-container-id-10 label.sk-toggleable__label-arrow:hover:before {color: black;}#sk-container-id-10 div.sk-estimator:hover label.sk-toggleable__label-arrow:before {color: black;}#sk-container-id-10 div.sk-toggleable__content {max-height: 0;max-width: 0;overflow: hidden;text-align: left;background-color: #f0f8ff;}#sk-container-id-10 div.sk-toggleable__content pre {margin: 0.2em;color: black;border-radius: 0.25em;background-color: #f0f8ff;}#sk-container-id-10 input.sk-toggleable__control:checked~div.sk-toggleable__content {max-height: 200px;max-width: 100%;overflow: auto;}#sk-container-id-10 input.sk-toggleable__control:checked~label.sk-toggleable__label-arrow:before {content: \"▾\";}#sk-container-id-10 div.sk-estimator input.sk-toggleable__control:checked~label.sk-toggleable__label {background-color: #d4ebff;}#sk-container-id-10 div.sk-label input.sk-toggleable__control:checked~label.sk-toggleable__label {background-color: #d4ebff;}#sk-container-id-10 input.sk-hidden--visually {border: 0;clip: rect(1px 1px 1px 1px);clip: rect(1px, 1px, 1px, 1px);height: 1px;margin: -1px;overflow: hidden;padding: 0;position: absolute;width: 1px;}#sk-container-id-10 div.sk-estimator {font-family: monospace;background-color: #f0f8ff;border: 1px dotted black;border-radius: 0.25em;box-sizing: border-box;margin-bottom: 0.5em;}#sk-container-id-10 div.sk-estimator:hover {background-color: #d4ebff;}#sk-container-id-10 div.sk-parallel-item::after {content: \"\";width: 100%;border-bottom: 1px solid gray;flex-grow: 1;}#sk-container-id-10 div.sk-label:hover label.sk-toggleable__label {background-color: #d4ebff;}#sk-container-id-10 div.sk-serial::before {content: \"\";position: absolute;border-left: 1px solid gray;box-sizing: border-box;top: 0;bottom: 0;left: 50%;z-index: 0;}#sk-container-id-10 div.sk-serial {display: flex;flex-direction: column;align-items: center;background-color: white;padding-right: 0.2em;padding-left: 0.2em;position: relative;}#sk-container-id-10 div.sk-item {position: relative;z-index: 1;}#sk-container-id-10 div.sk-parallel {display: flex;align-items: stretch;justify-content: center;background-color: white;position: relative;}#sk-container-id-10 div.sk-item::before, #sk-container-id-10 div.sk-parallel-item::before {content: \"\";position: absolute;border-left: 1px solid gray;box-sizing: border-box;top: 0;bottom: 0;left: 50%;z-index: -1;}#sk-container-id-10 div.sk-parallel-item {display: flex;flex-direction: column;z-index: 1;position: relative;background-color: white;}#sk-container-id-10 div.sk-parallel-item:first-child::after {align-self: flex-end;width: 50%;}#sk-container-id-10 div.sk-parallel-item:last-child::after {align-self: flex-start;width: 50%;}#sk-container-id-10 div.sk-parallel-item:only-child::after {width: 0;}#sk-container-id-10 div.sk-dashed-wrapped {border: 1px dashed gray;margin: 0 0.4em 0.5em 0.4em;box-sizing: border-box;padding-bottom: 0.4em;background-color: white;}#sk-container-id-10 div.sk-label label {font-family: monospace;font-weight: bold;display: inline-block;line-height: 1.2em;}#sk-container-id-10 div.sk-label-container {text-align: center;}#sk-container-id-10 div.sk-container {/* jupyter's `normalize.less` sets `[hidden] { display: none; }` but bootstrap.min.css set `[hidden] { display: none !important; }` so we also need the `!important` here to be able to override the default hidden behavior on the sphinx rendered scikit-learn.org. See: https://github.com/scikit-learn/scikit-learn/issues/21755 */display: inline-block !important;position: relative;}#sk-container-id-10 div.sk-text-repr-fallback {display: none;}</style><div id=\"sk-container-id-10\" class=\"sk-top-container\"><div class=\"sk-text-repr-fallback\"><pre>RandomForestClassifier()</pre><b>In a Jupyter environment, please rerun this cell to show the HTML representation or trust the notebook. <br />On GitHub, the HTML representation is unable to render, please try loading this page with nbviewer.org.</b></div><div class=\"sk-container\" hidden><div class=\"sk-item\"><div class=\"sk-estimator sk-toggleable\"><input class=\"sk-toggleable__control sk-hidden--visually\" id=\"sk-estimator-id-12\" type=\"checkbox\" checked><label for=\"sk-estimator-id-12\" class=\"sk-toggleable__label sk-toggleable__label-arrow\">RandomForestClassifier</label><div class=\"sk-toggleable__content\"><pre>RandomForestClassifier()</pre></div></div></div></div></div>"
      ],
      "text/plain": [
       "RandomForestClassifier()"
      ]
     },
     "execution_count": 124,
     "metadata": {},
     "output_type": "execute_result"
    }
   ],
   "source": [
    "from sklearn.ensemble import RandomForestClassifier \n",
    "clrf = RandomForestClassifier()\n",
    "clrf.fit(x_train_ns, y_train_ns)"
   ]
  },
  {
   "cell_type": "code",
   "execution_count": 125,
   "id": "c753e196",
   "metadata": {},
   "outputs": [
    {
     "name": "stdout",
     "output_type": "stream",
     "text": [
      "[[44376 15638]\n",
      " [18154 29709]]\n",
      "0.6867543591312328\n",
      "              precision    recall  f1-score   support\n",
      "\n",
      "           0       0.71      0.74      0.72     60014\n",
      "           1       0.66      0.62      0.64     47863\n",
      "\n",
      "    accuracy                           0.69    107877\n",
      "   macro avg       0.68      0.68      0.68    107877\n",
      "weighted avg       0.69      0.69      0.69    107877\n",
      "\n"
     ]
    }
   ],
   "source": [
    "y_pred =clrf.predict(x_test)\n",
    "print(confusion_matrix(y_test,y_pred))\n",
    "print(accuracy_score(y_test,y_pred))\n",
    "print(classification_report(y_test,y_pred))"
   ]
  },
  {
   "cell_type": "code",
   "execution_count": 131,
   "id": "03de733f",
   "metadata": {},
   "outputs": [
    {
     "data": {
      "text/html": [
       "<style>#sk-container-id-11 {color: black;background-color: white;}#sk-container-id-11 pre{padding: 0;}#sk-container-id-11 div.sk-toggleable {background-color: white;}#sk-container-id-11 label.sk-toggleable__label {cursor: pointer;display: block;width: 100%;margin-bottom: 0;padding: 0.3em;box-sizing: border-box;text-align: center;}#sk-container-id-11 label.sk-toggleable__label-arrow:before {content: \"▸\";float: left;margin-right: 0.25em;color: #696969;}#sk-container-id-11 label.sk-toggleable__label-arrow:hover:before {color: black;}#sk-container-id-11 div.sk-estimator:hover label.sk-toggleable__label-arrow:before {color: black;}#sk-container-id-11 div.sk-toggleable__content {max-height: 0;max-width: 0;overflow: hidden;text-align: left;background-color: #f0f8ff;}#sk-container-id-11 div.sk-toggleable__content pre {margin: 0.2em;color: black;border-radius: 0.25em;background-color: #f0f8ff;}#sk-container-id-11 input.sk-toggleable__control:checked~div.sk-toggleable__content {max-height: 200px;max-width: 100%;overflow: auto;}#sk-container-id-11 input.sk-toggleable__control:checked~label.sk-toggleable__label-arrow:before {content: \"▾\";}#sk-container-id-11 div.sk-estimator input.sk-toggleable__control:checked~label.sk-toggleable__label {background-color: #d4ebff;}#sk-container-id-11 div.sk-label input.sk-toggleable__control:checked~label.sk-toggleable__label {background-color: #d4ebff;}#sk-container-id-11 input.sk-hidden--visually {border: 0;clip: rect(1px 1px 1px 1px);clip: rect(1px, 1px, 1px, 1px);height: 1px;margin: -1px;overflow: hidden;padding: 0;position: absolute;width: 1px;}#sk-container-id-11 div.sk-estimator {font-family: monospace;background-color: #f0f8ff;border: 1px dotted black;border-radius: 0.25em;box-sizing: border-box;margin-bottom: 0.5em;}#sk-container-id-11 div.sk-estimator:hover {background-color: #d4ebff;}#sk-container-id-11 div.sk-parallel-item::after {content: \"\";width: 100%;border-bottom: 1px solid gray;flex-grow: 1;}#sk-container-id-11 div.sk-label:hover label.sk-toggleable__label {background-color: #d4ebff;}#sk-container-id-11 div.sk-serial::before {content: \"\";position: absolute;border-left: 1px solid gray;box-sizing: border-box;top: 0;bottom: 0;left: 50%;z-index: 0;}#sk-container-id-11 div.sk-serial {display: flex;flex-direction: column;align-items: center;background-color: white;padding-right: 0.2em;padding-left: 0.2em;position: relative;}#sk-container-id-11 div.sk-item {position: relative;z-index: 1;}#sk-container-id-11 div.sk-parallel {display: flex;align-items: stretch;justify-content: center;background-color: white;position: relative;}#sk-container-id-11 div.sk-item::before, #sk-container-id-11 div.sk-parallel-item::before {content: \"\";position: absolute;border-left: 1px solid gray;box-sizing: border-box;top: 0;bottom: 0;left: 50%;z-index: -1;}#sk-container-id-11 div.sk-parallel-item {display: flex;flex-direction: column;z-index: 1;position: relative;background-color: white;}#sk-container-id-11 div.sk-parallel-item:first-child::after {align-self: flex-end;width: 50%;}#sk-container-id-11 div.sk-parallel-item:last-child::after {align-self: flex-start;width: 50%;}#sk-container-id-11 div.sk-parallel-item:only-child::after {width: 0;}#sk-container-id-11 div.sk-dashed-wrapped {border: 1px dashed gray;margin: 0 0.4em 0.5em 0.4em;box-sizing: border-box;padding-bottom: 0.4em;background-color: white;}#sk-container-id-11 div.sk-label label {font-family: monospace;font-weight: bold;display: inline-block;line-height: 1.2em;}#sk-container-id-11 div.sk-label-container {text-align: center;}#sk-container-id-11 div.sk-container {/* jupyter's `normalize.less` sets `[hidden] { display: none; }` but bootstrap.min.css set `[hidden] { display: none !important; }` so we also need the `!important` here to be able to override the default hidden behavior on the sphinx rendered scikit-learn.org. See: https://github.com/scikit-learn/scikit-learn/issues/21755 */display: inline-block !important;position: relative;}#sk-container-id-11 div.sk-text-repr-fallback {display: none;}</style><div id=\"sk-container-id-11\" class=\"sk-top-container\"><div class=\"sk-text-repr-fallback\"><pre>EasyEnsembleClassifier()</pre><b>In a Jupyter environment, please rerun this cell to show the HTML representation or trust the notebook. <br />On GitHub, the HTML representation is unable to render, please try loading this page with nbviewer.org.</b></div><div class=\"sk-container\" hidden><div class=\"sk-item\"><div class=\"sk-estimator sk-toggleable\"><input class=\"sk-toggleable__control sk-hidden--visually\" id=\"sk-estimator-id-13\" type=\"checkbox\" checked><label for=\"sk-estimator-id-13\" class=\"sk-toggleable__label sk-toggleable__label-arrow\">EasyEnsembleClassifier</label><div class=\"sk-toggleable__content\"><pre>EasyEnsembleClassifier()</pre></div></div></div></div></div>"
      ],
      "text/plain": [
       "EasyEnsembleClassifier()"
      ]
     },
     "execution_count": 131,
     "metadata": {},
     "output_type": "execute_result"
    }
   ],
   "source": [
    "##Ensemble techiques:\n",
    "from imblearn.ensemble import EasyEnsembleClassifier\n",
    "easy = EasyEnsembleClassifier()\n",
    "easy.fit(x_train,y_train)"
   ]
  },
  {
   "cell_type": "code",
   "execution_count": 132,
   "id": "f8f368e2",
   "metadata": {},
   "outputs": [
    {
     "name": "stdout",
     "output_type": "stream",
     "text": [
      "[[37663 22351]\n",
      " [16203 31660]]\n",
      "0.6426114927185591\n",
      "              precision    recall  f1-score   support\n",
      "\n",
      "           0       0.70      0.63      0.66     60014\n",
      "           1       0.59      0.66      0.62     47863\n",
      "\n",
      "    accuracy                           0.64    107877\n",
      "   macro avg       0.64      0.64      0.64    107877\n",
      "weighted avg       0.65      0.64      0.64    107877\n",
      "\n"
     ]
    }
   ],
   "source": [
    "y_pred =easy.predict(x_test)\n",
    "print(confusion_matrix(y_test,y_pred))\n",
    "print(accuracy_score(y_test,y_pred))\n",
    "print(classification_report(y_test,y_pred))"
   ]
  },
  {
   "cell_type": "code",
   "execution_count": 31,
   "id": "687310d4",
   "metadata": {},
   "outputs": [
    {
     "data": {
      "text/plain": [
       "0         False\n",
       "1         False\n",
       "2         False\n",
       "3         False\n",
       "4         False\n",
       "          ...  \n",
       "539378    False\n",
       "539379    False\n",
       "539380    False\n",
       "539381    False\n",
       "539382    False\n",
       "Length: 539383, dtype: bool"
      ]
     },
     "execution_count": 31,
     "metadata": {},
     "output_type": "execute_result"
    }
   ],
   "source": [
    "df.duplicated()"
   ]
  },
  {
   "cell_type": "code",
   "execution_count": null,
   "id": "2d29f037",
   "metadata": {},
   "outputs": [],
   "source": []
  }
 ],
 "metadata": {
  "kernelspec": {
   "display_name": "Python 3 (ipykernel)",
   "language": "python",
   "name": "python3"
  },
  "language_info": {
   "codemirror_mode": {
    "name": "ipython",
    "version": 3
   },
   "file_extension": ".py",
   "mimetype": "text/x-python",
   "name": "python",
   "nbconvert_exporter": "python",
   "pygments_lexer": "ipython3",
   "version": "3.9.7"
  }
 },
 "nbformat": 4,
 "nbformat_minor": 5
}
